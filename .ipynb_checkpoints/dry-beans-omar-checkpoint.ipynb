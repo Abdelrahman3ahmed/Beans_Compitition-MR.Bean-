{
 "cells": [
  {
   "cell_type": "markdown",
   "id": "656a2145",
   "metadata": {},
   "source": [
    "### Imports"
   ]
  },
  {
   "cell_type": "code",
   "execution_count": 1,
   "id": "a6e35e62",
   "metadata": {},
   "outputs": [
    {
     "name": "stderr",
     "output_type": "stream",
     "text": [
      "/Users/omarmarie/miniforge3/lib/python3.9/site-packages/xgboost/compat.py:36: FutureWarning: pandas.Int64Index is deprecated and will be removed from pandas in a future version. Use pandas.Index with the appropriate dtype instead.\n",
      "  from pandas import MultiIndex, Int64Index\n"
     ]
    }
   ],
   "source": [
    "import numpy as np\n",
    "import pandas as pd\n",
    "import matplotlib.pyplot as plt\n",
    "import seaborn as sns\n",
    "from sklearn.model_selection import train_test_split\n",
    "from xgboost import XGBClassifier\n",
    "from sklearn.utils import class_weight\n",
    "from scipy import stats\n",
    "from sklearn.preprocessing import normalize\n",
    "from sklearn.model_selection import RandomizedSearchCV\n",
    "from sklearn.linear_model import LogisticRegression\n",
    "from sklearn.svm import SVC\n",
    "from sklearn.naive_bayes import GaussianNB\n",
    "from imblearn.over_sampling import RandomOverSampler\n",
    "from sklearn.ensemble import RandomForestClassifier\n",
    "from sklearn.metrics import SCORERS, accuracy_score,f1_score,classification_report,confusion_matrix,plot_confusion_matrix"
   ]
  },
  {
   "cell_type": "markdown",
   "id": "0f83a22e",
   "metadata": {},
   "source": [
    "### EDA"
   ]
  },
  {
   "cell_type": "code",
   "execution_count": 2,
   "id": "95aa7860",
   "metadata": {},
   "outputs": [],
   "source": [
    "# Readig The dataset\n",
    "data       = pd.read_csv('train.csv')\n",
    "data_test  = pd.read_csv('test.csv')"
   ]
  },
  {
   "cell_type": "code",
   "execution_count": 3,
   "id": "0933490b",
   "metadata": {},
   "outputs": [
    {
     "data": {
      "text/html": [
       "<div>\n",
       "<style scoped>\n",
       "    .dataframe tbody tr th:only-of-type {\n",
       "        vertical-align: middle;\n",
       "    }\n",
       "\n",
       "    .dataframe tbody tr th {\n",
       "        vertical-align: top;\n",
       "    }\n",
       "\n",
       "    .dataframe thead th {\n",
       "        text-align: right;\n",
       "    }\n",
       "</style>\n",
       "<table border=\"1\" class=\"dataframe\">\n",
       "  <thead>\n",
       "    <tr style=\"text-align: right;\">\n",
       "      <th></th>\n",
       "      <th>Area</th>\n",
       "      <th>Perimeter</th>\n",
       "      <th>MajorAxisLength</th>\n",
       "      <th>MinorAxisLength</th>\n",
       "      <th>AspectRation</th>\n",
       "      <th>Eccentricity</th>\n",
       "      <th>ConvexArea</th>\n",
       "      <th>EquivDiameter</th>\n",
       "      <th>Extent</th>\n",
       "      <th>Solidity</th>\n",
       "      <th>roundness</th>\n",
       "      <th>Compactness</th>\n",
       "      <th>ShapeFactor1</th>\n",
       "      <th>ShapeFactor2</th>\n",
       "      <th>ShapeFactor3</th>\n",
       "      <th>ShapeFactor4</th>\n",
       "      <th>y</th>\n",
       "    </tr>\n",
       "  </thead>\n",
       "  <tbody>\n",
       "    <tr>\n",
       "      <th>0</th>\n",
       "      <td>58238</td>\n",
       "      <td>971.303</td>\n",
       "      <td>397.202654</td>\n",
       "      <td>186.945510</td>\n",
       "      <td>2.124697</td>\n",
       "      <td>0.882317</td>\n",
       "      <td>58977</td>\n",
       "      <td>272.306674</td>\n",
       "      <td>0.604756</td>\n",
       "      <td>0.987470</td>\n",
       "      <td>0.775723</td>\n",
       "      <td>0.685561</td>\n",
       "      <td>0.006820</td>\n",
       "      <td>0.000929</td>\n",
       "      <td>0.469994</td>\n",
       "      <td>0.998595</td>\n",
       "      <td>HOROZ</td>\n",
       "    </tr>\n",
       "    <tr>\n",
       "      <th>1</th>\n",
       "      <td>44515</td>\n",
       "      <td>757.601</td>\n",
       "      <td>265.590470</td>\n",
       "      <td>213.967453</td>\n",
       "      <td>1.241266</td>\n",
       "      <td>0.592420</td>\n",
       "      <td>44780</td>\n",
       "      <td>238.071960</td>\n",
       "      <td>0.771745</td>\n",
       "      <td>0.994082</td>\n",
       "      <td>0.974620</td>\n",
       "      <td>0.896387</td>\n",
       "      <td>0.005966</td>\n",
       "      <td>0.002376</td>\n",
       "      <td>0.803510</td>\n",
       "      <td>0.997370</td>\n",
       "      <td>SEKER</td>\n",
       "    </tr>\n",
       "    <tr>\n",
       "      <th>2</th>\n",
       "      <td>31662</td>\n",
       "      <td>653.783</td>\n",
       "      <td>239.902428</td>\n",
       "      <td>168.421505</td>\n",
       "      <td>1.424417</td>\n",
       "      <td>0.712136</td>\n",
       "      <td>32034</td>\n",
       "      <td>200.781748</td>\n",
       "      <td>0.801407</td>\n",
       "      <td>0.988387</td>\n",
       "      <td>0.930853</td>\n",
       "      <td>0.836931</td>\n",
       "      <td>0.007577</td>\n",
       "      <td>0.002293</td>\n",
       "      <td>0.700453</td>\n",
       "      <td>0.997737</td>\n",
       "      <td>DERMASON</td>\n",
       "    </tr>\n",
       "    <tr>\n",
       "      <th>3</th>\n",
       "      <td>38778</td>\n",
       "      <td>734.020</td>\n",
       "      <td>268.446281</td>\n",
       "      <td>184.061923</td>\n",
       "      <td>1.458456</td>\n",
       "      <td>0.727925</td>\n",
       "      <td>39208</td>\n",
       "      <td>222.201897</td>\n",
       "      <td>0.766137</td>\n",
       "      <td>0.989033</td>\n",
       "      <td>0.904439</td>\n",
       "      <td>0.827733</td>\n",
       "      <td>0.006923</td>\n",
       "      <td>0.002005</td>\n",
       "      <td>0.685142</td>\n",
       "      <td>0.999250</td>\n",
       "      <td>DERMASON</td>\n",
       "    </tr>\n",
       "    <tr>\n",
       "      <th>4</th>\n",
       "      <td>42530</td>\n",
       "      <td>775.403</td>\n",
       "      <td>281.212824</td>\n",
       "      <td>193.236878</td>\n",
       "      <td>1.455275</td>\n",
       "      <td>0.726511</td>\n",
       "      <td>43028</td>\n",
       "      <td>232.703412</td>\n",
       "      <td>0.729816</td>\n",
       "      <td>0.988426</td>\n",
       "      <td>0.888895</td>\n",
       "      <td>0.827499</td>\n",
       "      <td>0.006612</td>\n",
       "      <td>0.001912</td>\n",
       "      <td>0.684755</td>\n",
       "      <td>0.996507</td>\n",
       "      <td>SIRA</td>\n",
       "    </tr>\n",
       "  </tbody>\n",
       "</table>\n",
       "</div>"
      ],
      "text/plain": [
       "    Area  Perimeter  MajorAxisLength  MinorAxisLength  AspectRation  \\\n",
       "0  58238    971.303       397.202654       186.945510      2.124697   \n",
       "1  44515    757.601       265.590470       213.967453      1.241266   \n",
       "2  31662    653.783       239.902428       168.421505      1.424417   \n",
       "3  38778    734.020       268.446281       184.061923      1.458456   \n",
       "4  42530    775.403       281.212824       193.236878      1.455275   \n",
       "\n",
       "   Eccentricity  ConvexArea  EquivDiameter    Extent  Solidity  roundness  \\\n",
       "0      0.882317       58977     272.306674  0.604756  0.987470   0.775723   \n",
       "1      0.592420       44780     238.071960  0.771745  0.994082   0.974620   \n",
       "2      0.712136       32034     200.781748  0.801407  0.988387   0.930853   \n",
       "3      0.727925       39208     222.201897  0.766137  0.989033   0.904439   \n",
       "4      0.726511       43028     232.703412  0.729816  0.988426   0.888895   \n",
       "\n",
       "   Compactness  ShapeFactor1  ShapeFactor2  ShapeFactor3  ShapeFactor4  \\\n",
       "0     0.685561      0.006820      0.000929      0.469994      0.998595   \n",
       "1     0.896387      0.005966      0.002376      0.803510      0.997370   \n",
       "2     0.836931      0.007577      0.002293      0.700453      0.997737   \n",
       "3     0.827733      0.006923      0.002005      0.685142      0.999250   \n",
       "4     0.827499      0.006612      0.001912      0.684755      0.996507   \n",
       "\n",
       "          y  \n",
       "0     HOROZ  \n",
       "1     SEKER  \n",
       "2  DERMASON  \n",
       "3  DERMASON  \n",
       "4      SIRA  "
      ]
     },
     "execution_count": 3,
     "metadata": {},
     "output_type": "execute_result"
    }
   ],
   "source": [
    "data.drop('ID', axis=1, inplace=True)\n",
    "data.head()"
   ]
  },
  {
   "cell_type": "code",
   "execution_count": 4,
   "id": "89bccb1c",
   "metadata": {},
   "outputs": [
    {
     "data": {
      "text/plain": [
       "Area               0\n",
       "Perimeter          0\n",
       "MajorAxisLength    0\n",
       "MinorAxisLength    0\n",
       "AspectRation       0\n",
       "Eccentricity       0\n",
       "ConvexArea         0\n",
       "EquivDiameter      0\n",
       "Extent             0\n",
       "Solidity           0\n",
       "roundness          0\n",
       "Compactness        0\n",
       "ShapeFactor1       0\n",
       "ShapeFactor2       0\n",
       "ShapeFactor3       0\n",
       "ShapeFactor4       0\n",
       "y                  0\n",
       "dtype: int64"
      ]
     },
     "execution_count": 4,
     "metadata": {},
     "output_type": "execute_result"
    }
   ],
   "source": [
    "data.isna().sum()"
   ]
  },
  {
   "cell_type": "code",
   "execution_count": 5,
   "id": "411d7b88",
   "metadata": {},
   "outputs": [
    {
     "name": "stdout",
     "output_type": "stream",
     "text": [
      "<class 'pandas.core.frame.DataFrame'>\n",
      "RangeIndex: 10834 entries, 0 to 10833\n",
      "Data columns (total 17 columns):\n",
      " #   Column           Non-Null Count  Dtype  \n",
      "---  ------           --------------  -----  \n",
      " 0   Area             10834 non-null  int64  \n",
      " 1   Perimeter        10834 non-null  float64\n",
      " 2   MajorAxisLength  10834 non-null  float64\n",
      " 3   MinorAxisLength  10834 non-null  float64\n",
      " 4   AspectRation     10834 non-null  float64\n",
      " 5   Eccentricity     10834 non-null  float64\n",
      " 6   ConvexArea       10834 non-null  int64  \n",
      " 7   EquivDiameter    10834 non-null  float64\n",
      " 8   Extent           10834 non-null  float64\n",
      " 9   Solidity         10834 non-null  float64\n",
      " 10  roundness        10834 non-null  float64\n",
      " 11  Compactness      10834 non-null  float64\n",
      " 12  ShapeFactor1     10834 non-null  float64\n",
      " 13  ShapeFactor2     10834 non-null  float64\n",
      " 14  ShapeFactor3     10834 non-null  float64\n",
      " 15  ShapeFactor4     10834 non-null  float64\n",
      " 16  y                10834 non-null  object \n",
      "dtypes: float64(14), int64(2), object(1)\n",
      "memory usage: 1.4+ MB\n"
     ]
    }
   ],
   "source": [
    "data.info()"
   ]
  },
  {
   "cell_type": "code",
   "execution_count": 6,
   "id": "b46286c0",
   "metadata": {},
   "outputs": [
    {
     "data": {
      "text/html": [
       "<div>\n",
       "<style scoped>\n",
       "    .dataframe tbody tr th:only-of-type {\n",
       "        vertical-align: middle;\n",
       "    }\n",
       "\n",
       "    .dataframe tbody tr th {\n",
       "        vertical-align: top;\n",
       "    }\n",
       "\n",
       "    .dataframe thead th {\n",
       "        text-align: right;\n",
       "    }\n",
       "</style>\n",
       "<table border=\"1\" class=\"dataframe\">\n",
       "  <thead>\n",
       "    <tr style=\"text-align: right;\">\n",
       "      <th></th>\n",
       "      <th>Area</th>\n",
       "      <th>Perimeter</th>\n",
       "      <th>MajorAxisLength</th>\n",
       "      <th>MinorAxisLength</th>\n",
       "      <th>AspectRation</th>\n",
       "      <th>Eccentricity</th>\n",
       "      <th>ConvexArea</th>\n",
       "      <th>EquivDiameter</th>\n",
       "      <th>Extent</th>\n",
       "      <th>Solidity</th>\n",
       "      <th>roundness</th>\n",
       "      <th>Compactness</th>\n",
       "      <th>ShapeFactor1</th>\n",
       "      <th>ShapeFactor2</th>\n",
       "      <th>ShapeFactor3</th>\n",
       "      <th>ShapeFactor4</th>\n",
       "    </tr>\n",
       "  </thead>\n",
       "  <tbody>\n",
       "    <tr>\n",
       "      <th>count</th>\n",
       "      <td>10834.000000</td>\n",
       "      <td>10834.000000</td>\n",
       "      <td>10834.000000</td>\n",
       "      <td>10834.000000</td>\n",
       "      <td>10834.000000</td>\n",
       "      <td>10834.000000</td>\n",
       "      <td>10834.000000</td>\n",
       "      <td>10834.000000</td>\n",
       "      <td>10834.000000</td>\n",
       "      <td>10834.000000</td>\n",
       "      <td>10834.000000</td>\n",
       "      <td>10834.000000</td>\n",
       "      <td>10834.000000</td>\n",
       "      <td>10834.000000</td>\n",
       "      <td>10834.000000</td>\n",
       "      <td>10834.000000</td>\n",
       "    </tr>\n",
       "    <tr>\n",
       "      <th>mean</th>\n",
       "      <td>53095.675189</td>\n",
       "      <td>855.274892</td>\n",
       "      <td>320.036169</td>\n",
       "      <td>202.410342</td>\n",
       "      <td>1.581294</td>\n",
       "      <td>0.750588</td>\n",
       "      <td>53816.205926</td>\n",
       "      <td>253.123583</td>\n",
       "      <td>0.749937</td>\n",
       "      <td>0.987152</td>\n",
       "      <td>0.873647</td>\n",
       "      <td>0.800244</td>\n",
       "      <td>0.006559</td>\n",
       "      <td>0.001718</td>\n",
       "      <td>0.644139</td>\n",
       "      <td>0.995083</td>\n",
       "    </tr>\n",
       "    <tr>\n",
       "      <th>std</th>\n",
       "      <td>29542.542580</td>\n",
       "      <td>214.991122</td>\n",
       "      <td>85.961630</td>\n",
       "      <td>45.113965</td>\n",
       "      <td>0.244314</td>\n",
       "      <td>0.091481</td>\n",
       "      <td>29999.710739</td>\n",
       "      <td>59.433080</td>\n",
       "      <td>0.048949</td>\n",
       "      <td>0.004626</td>\n",
       "      <td>0.059344</td>\n",
       "      <td>0.061228</td>\n",
       "      <td>0.001127</td>\n",
       "      <td>0.000593</td>\n",
       "      <td>0.098268</td>\n",
       "      <td>0.004306</td>\n",
       "    </tr>\n",
       "    <tr>\n",
       "      <th>min</th>\n",
       "      <td>20420.000000</td>\n",
       "      <td>524.932000</td>\n",
       "      <td>183.601165</td>\n",
       "      <td>129.576207</td>\n",
       "      <td>1.024868</td>\n",
       "      <td>0.218951</td>\n",
       "      <td>20684.000000</td>\n",
       "      <td>161.243764</td>\n",
       "      <td>0.555315</td>\n",
       "      <td>0.919246</td>\n",
       "      <td>0.489618</td>\n",
       "      <td>0.645368</td>\n",
       "      <td>0.002856</td>\n",
       "      <td>0.000564</td>\n",
       "      <td>0.416499</td>\n",
       "      <td>0.947687</td>\n",
       "    </tr>\n",
       "    <tr>\n",
       "      <th>25%</th>\n",
       "      <td>36343.500000</td>\n",
       "      <td>703.601250</td>\n",
       "      <td>253.501071</td>\n",
       "      <td>175.927024</td>\n",
       "      <td>1.432985</td>\n",
       "      <td>0.716250</td>\n",
       "      <td>36731.250000</td>\n",
       "      <td>215.113880</td>\n",
       "      <td>0.718778</td>\n",
       "      <td>0.985627</td>\n",
       "      <td>0.833479</td>\n",
       "      <td>0.763378</td>\n",
       "      <td>0.005888</td>\n",
       "      <td>0.001161</td>\n",
       "      <td>0.582747</td>\n",
       "      <td>0.993690</td>\n",
       "    </tr>\n",
       "    <tr>\n",
       "      <th>50%</th>\n",
       "      <td>44645.000000</td>\n",
       "      <td>793.739500</td>\n",
       "      <td>296.377365</td>\n",
       "      <td>192.525040</td>\n",
       "      <td>1.550761</td>\n",
       "      <td>0.764314</td>\n",
       "      <td>45148.000000</td>\n",
       "      <td>238.419335</td>\n",
       "      <td>0.760141</td>\n",
       "      <td>0.988290</td>\n",
       "      <td>0.883472</td>\n",
       "      <td>0.801428</td>\n",
       "      <td>0.006643</td>\n",
       "      <td>0.001700</td>\n",
       "      <td>0.642287</td>\n",
       "      <td>0.996397</td>\n",
       "    </tr>\n",
       "    <tr>\n",
       "      <th>75%</th>\n",
       "      <td>61295.000000</td>\n",
       "      <td>975.517500</td>\n",
       "      <td>376.068399</td>\n",
       "      <td>217.315195</td>\n",
       "      <td>1.703029</td>\n",
       "      <td>0.809450</td>\n",
       "      <td>62251.500000</td>\n",
       "      <td>279.362162</td>\n",
       "      <td>0.786871</td>\n",
       "      <td>0.990014</td>\n",
       "      <td>0.916883</td>\n",
       "      <td>0.834068</td>\n",
       "      <td>0.007268</td>\n",
       "      <td>0.002169</td>\n",
       "      <td>0.695670</td>\n",
       "      <td>0.997895</td>\n",
       "    </tr>\n",
       "    <tr>\n",
       "      <th>max</th>\n",
       "      <td>254616.000000</td>\n",
       "      <td>1985.370000</td>\n",
       "      <td>738.860153</td>\n",
       "      <td>450.926187</td>\n",
       "      <td>2.388873</td>\n",
       "      <td>0.908167</td>\n",
       "      <td>263261.000000</td>\n",
       "      <td>569.374358</td>\n",
       "      <td>0.866195</td>\n",
       "      <td>0.994677</td>\n",
       "      <td>0.990685</td>\n",
       "      <td>0.987303</td>\n",
       "      <td>0.009897</td>\n",
       "      <td>0.003665</td>\n",
       "      <td>0.974767</td>\n",
       "      <td>0.999733</td>\n",
       "    </tr>\n",
       "  </tbody>\n",
       "</table>\n",
       "</div>"
      ],
      "text/plain": [
       "                Area     Perimeter  MajorAxisLength  MinorAxisLength  \\\n",
       "count   10834.000000  10834.000000     10834.000000     10834.000000   \n",
       "mean    53095.675189    855.274892       320.036169       202.410342   \n",
       "std     29542.542580    214.991122        85.961630        45.113965   \n",
       "min     20420.000000    524.932000       183.601165       129.576207   \n",
       "25%     36343.500000    703.601250       253.501071       175.927024   \n",
       "50%     44645.000000    793.739500       296.377365       192.525040   \n",
       "75%     61295.000000    975.517500       376.068399       217.315195   \n",
       "max    254616.000000   1985.370000       738.860153       450.926187   \n",
       "\n",
       "       AspectRation  Eccentricity     ConvexArea  EquivDiameter        Extent  \\\n",
       "count  10834.000000  10834.000000   10834.000000   10834.000000  10834.000000   \n",
       "mean       1.581294      0.750588   53816.205926     253.123583      0.749937   \n",
       "std        0.244314      0.091481   29999.710739      59.433080      0.048949   \n",
       "min        1.024868      0.218951   20684.000000     161.243764      0.555315   \n",
       "25%        1.432985      0.716250   36731.250000     215.113880      0.718778   \n",
       "50%        1.550761      0.764314   45148.000000     238.419335      0.760141   \n",
       "75%        1.703029      0.809450   62251.500000     279.362162      0.786871   \n",
       "max        2.388873      0.908167  263261.000000     569.374358      0.866195   \n",
       "\n",
       "           Solidity     roundness   Compactness  ShapeFactor1  ShapeFactor2  \\\n",
       "count  10834.000000  10834.000000  10834.000000  10834.000000  10834.000000   \n",
       "mean       0.987152      0.873647      0.800244      0.006559      0.001718   \n",
       "std        0.004626      0.059344      0.061228      0.001127      0.000593   \n",
       "min        0.919246      0.489618      0.645368      0.002856      0.000564   \n",
       "25%        0.985627      0.833479      0.763378      0.005888      0.001161   \n",
       "50%        0.988290      0.883472      0.801428      0.006643      0.001700   \n",
       "75%        0.990014      0.916883      0.834068      0.007268      0.002169   \n",
       "max        0.994677      0.990685      0.987303      0.009897      0.003665   \n",
       "\n",
       "       ShapeFactor3  ShapeFactor4  \n",
       "count  10834.000000  10834.000000  \n",
       "mean       0.644139      0.995083  \n",
       "std        0.098268      0.004306  \n",
       "min        0.416499      0.947687  \n",
       "25%        0.582747      0.993690  \n",
       "50%        0.642287      0.996397  \n",
       "75%        0.695670      0.997895  \n",
       "max        0.974767      0.999733  "
      ]
     },
     "execution_count": 6,
     "metadata": {},
     "output_type": "execute_result"
    }
   ],
   "source": [
    "data.describe()"
   ]
  },
  {
   "cell_type": "code",
   "execution_count": 7,
   "id": "bada40a1",
   "metadata": {},
   "outputs": [
    {
     "data": {
      "text/plain": [
       "DERMASON    2837\n",
       "SIRA        2109\n",
       "SEKER       1621\n",
       "HOROZ       1488\n",
       "CALI        1304\n",
       "BARBUNYA    1057\n",
       "BOMBAY       418\n",
       "Name: y, dtype: int64"
      ]
     },
     "execution_count": 7,
     "metadata": {},
     "output_type": "execute_result"
    }
   ],
   "source": [
    "data['y'].value_counts()"
   ]
  },
  {
   "cell_type": "markdown",
   "id": "b8ebaaa7",
   "metadata": {},
   "source": [
    "## Handle Imbalanced Classes Methods"
   ]
  },
  {
   "cell_type": "code",
   "execution_count": 8,
   "id": "51ae9db2",
   "metadata": {},
   "outputs": [
    {
     "name": "stdout",
     "output_type": "stream",
     "text": [
      "class 0: (2837, 17)\n",
      "class 1: (2109, 17)\n",
      "class 2: (1621, 17)\n",
      "class 3: (1488, 17)\n",
      "class 4: (1304, 17)\n",
      "class 5: (1057, 17)\n",
      "class 6: (418, 17)\n"
     ]
    }
   ],
   "source": [
    "# class count\n",
    "class_count_0, class_count_1, class_count_2, class_count_3, class_count_4, class_count_5, class_count_6 = data['y'].value_counts()\n",
    "\n",
    "# Separate class\n",
    "class_0 = data[data['y'] == 'DERMASON']\n",
    "class_1 = data[data['y'] == 'SIRA']\n",
    "class_2 = data[data['y'] == 'SEKER']\n",
    "class_3 = data[data['y'] == 'HOROZ']\n",
    "class_4 = data[data['y'] == 'CALI']\n",
    "class_5 = data[data['y'] == 'BARBUNYA']\n",
    "class_6 = data[data['y'] == 'BOMBAY']\n",
    "\n",
    "print('class 0:', class_0.shape)\n",
    "print('class 1:', class_1.shape)\n",
    "print('class 2:', class_2.shape)\n",
    "print('class 3:', class_3.shape)\n",
    "print('class 4:', class_4.shape)\n",
    "print('class 5:', class_5.shape)\n",
    "print('class 6:', class_6.shape)"
   ]
  },
  {
   "cell_type": "markdown",
   "id": "85fec9ef",
   "metadata": {},
   "source": [
    "#### Random Under-Sampling"
   ]
  },
  {
   "cell_type": "code",
   "execution_count": 9,
   "id": "86d76bd3",
   "metadata": {},
   "outputs": [
    {
     "ename": "ValueError",
     "evalue": "Cannot take a larger sample than population when 'replace=False'",
     "output_type": "error",
     "traceback": [
      "\u001b[0;31m---------------------------------------------------------------------------\u001b[0m",
      "\u001b[0;31mValueError\u001b[0m                                Traceback (most recent call last)",
      "Input \u001b[0;32mIn [9]\u001b[0m, in \u001b[0;36m<cell line: 2>\u001b[0;34m()\u001b[0m\n\u001b[1;32m      1\u001b[0m class_0_under \u001b[38;5;241m=\u001b[39m class_0\u001b[38;5;241m.\u001b[39msample(class_count_1)\n\u001b[0;32m----> 2\u001b[0m class_2_under \u001b[38;5;241m=\u001b[39m \u001b[43mclass_2\u001b[49m\u001b[38;5;241;43m.\u001b[39;49m\u001b[43msample\u001b[49m\u001b[43m(\u001b[49m\u001b[43mclass_count_1\u001b[49m\u001b[43m)\u001b[49m\n\u001b[1;32m      3\u001b[0m class_3_under \u001b[38;5;241m=\u001b[39m class_3\u001b[38;5;241m.\u001b[39msample(class_count_1)\n\u001b[1;32m      4\u001b[0m class_4_under \u001b[38;5;241m=\u001b[39m class_4\u001b[38;5;241m.\u001b[39msample(class_count_1)\n",
      "File \u001b[0;32m~/miniforge3/lib/python3.9/site-packages/pandas/core/generic.py:5454\u001b[0m, in \u001b[0;36mNDFrame.sample\u001b[0;34m(self, n, frac, replace, weights, random_state, axis, ignore_index)\u001b[0m\n\u001b[1;32m   5451\u001b[0m \u001b[38;5;28;01mif\u001b[39;00m weights \u001b[38;5;129;01mis\u001b[39;00m \u001b[38;5;129;01mnot\u001b[39;00m \u001b[38;5;28;01mNone\u001b[39;00m:\n\u001b[1;32m   5452\u001b[0m     weights \u001b[38;5;241m=\u001b[39m sample\u001b[38;5;241m.\u001b[39mpreprocess_weights(\u001b[38;5;28mself\u001b[39m, weights, axis)\n\u001b[0;32m-> 5454\u001b[0m sampled_indices \u001b[38;5;241m=\u001b[39m \u001b[43msample\u001b[49m\u001b[38;5;241;43m.\u001b[39;49m\u001b[43msample\u001b[49m\u001b[43m(\u001b[49m\u001b[43mobj_len\u001b[49m\u001b[43m,\u001b[49m\u001b[43m \u001b[49m\u001b[43msize\u001b[49m\u001b[43m,\u001b[49m\u001b[43m \u001b[49m\u001b[43mreplace\u001b[49m\u001b[43m,\u001b[49m\u001b[43m \u001b[49m\u001b[43mweights\u001b[49m\u001b[43m,\u001b[49m\u001b[43m \u001b[49m\u001b[43mrs\u001b[49m\u001b[43m)\u001b[49m\n\u001b[1;32m   5455\u001b[0m result \u001b[38;5;241m=\u001b[39m \u001b[38;5;28mself\u001b[39m\u001b[38;5;241m.\u001b[39mtake(sampled_indices, axis\u001b[38;5;241m=\u001b[39maxis)\n\u001b[1;32m   5457\u001b[0m \u001b[38;5;28;01mif\u001b[39;00m ignore_index:\n",
      "File \u001b[0;32m~/miniforge3/lib/python3.9/site-packages/pandas/core/sample.py:150\u001b[0m, in \u001b[0;36msample\u001b[0;34m(obj_len, size, replace, weights, random_state)\u001b[0m\n\u001b[1;32m    147\u001b[0m     \u001b[38;5;28;01melse\u001b[39;00m:\n\u001b[1;32m    148\u001b[0m         \u001b[38;5;28;01mraise\u001b[39;00m \u001b[38;5;167;01mValueError\u001b[39;00m(\u001b[38;5;124m\"\u001b[39m\u001b[38;5;124mInvalid weights: weights sum to zero\u001b[39m\u001b[38;5;124m\"\u001b[39m)\n\u001b[0;32m--> 150\u001b[0m \u001b[38;5;28;01mreturn\u001b[39;00m \u001b[43mrandom_state\u001b[49m\u001b[38;5;241;43m.\u001b[39;49m\u001b[43mchoice\u001b[49m\u001b[43m(\u001b[49m\u001b[43mobj_len\u001b[49m\u001b[43m,\u001b[49m\u001b[43m \u001b[49m\u001b[43msize\u001b[49m\u001b[38;5;241;43m=\u001b[39;49m\u001b[43msize\u001b[49m\u001b[43m,\u001b[49m\u001b[43m \u001b[49m\u001b[43mreplace\u001b[49m\u001b[38;5;241;43m=\u001b[39;49m\u001b[43mreplace\u001b[49m\u001b[43m,\u001b[49m\u001b[43m \u001b[49m\u001b[43mp\u001b[49m\u001b[38;5;241;43m=\u001b[39;49m\u001b[43mweights\u001b[49m\u001b[43m)\u001b[49m\u001b[38;5;241m.\u001b[39mastype(\n\u001b[1;32m    151\u001b[0m     np\u001b[38;5;241m.\u001b[39mintp, copy\u001b[38;5;241m=\u001b[39m\u001b[38;5;28;01mFalse\u001b[39;00m\n\u001b[1;32m    152\u001b[0m )\n",
      "File \u001b[0;32mmtrand.pyx:965\u001b[0m, in \u001b[0;36mnumpy.random.mtrand.RandomState.choice\u001b[0;34m()\u001b[0m\n",
      "\u001b[0;31mValueError\u001b[0m: Cannot take a larger sample than population when 'replace=False'"
     ]
    }
   ],
   "source": [
    "class_0_under = class_0.sample(class_count_6)\n",
    "class_1_under = class_1.sample(class_count_6)\n",
    "class_2_under = class_2.sample(class_count_6)\n",
    "class_3_under = class_3.sample(class_count_6)\n",
    "class_4_under = class_4.sample(class_count_6)\n",
    "class_5_under = class_5.sample(class_count_6)\n",
    "\n",
    "\n",
    "data = pd.concat([class_0_under,\n",
    "                        class_1_under,\n",
    "                        class_2_under,\n",
    "                        class_3_under,\n",
    "                        class_4_under,\n",
    "                        class_5_under,\n",
    "                        class_6], axis=0)\n",
    "\n",
    "print(\"total class of 1 and 0:\",data['y'].value_counts())# plot the count after under-sampeling\n",
    "data['y'].value_counts().plot(kind='bar', title='count (target)')"
   ]
  },
  {
   "cell_type": "markdown",
   "id": "7533377a",
   "metadata": {},
   "source": [
    "#### Random Over-Sampling"
   ]
  },
  {
   "cell_type": "code",
   "execution_count": null,
   "id": "cf2399ee",
   "metadata": {},
   "outputs": [],
   "source": [
    "# from imblearn.over_sampling import RandomOverSampler\n",
    "\n",
    "# oversample = RandomOverSampler(sampling_strategy='all')\n",
    "# X=data.drop('y',axis=1)\n",
    "# X_train_copy,y_train_copy = oversample.fit_resample(X,data[['y']])"
   ]
  },
  {
   "cell_type": "code",
   "execution_count": null,
   "id": "39586229",
   "metadata": {},
   "outputs": [],
   "source": [
    "# data=pd.concat([X_train_copy,y_train_copy],axis=1)"
   ]
  },
  {
   "cell_type": "code",
   "execution_count": null,
   "id": "afd4391d",
   "metadata": {},
   "outputs": [],
   "source": [
    "# data['y'].value_counts()"
   ]
  },
  {
   "cell_type": "code",
   "execution_count": null,
   "id": "b6e56c68",
   "metadata": {},
   "outputs": [],
   "source": []
  },
  {
   "cell_type": "markdown",
   "id": "4312a24c",
   "metadata": {},
   "source": [
    "### Encode the Categorical Target"
   ]
  },
  {
   "cell_type": "code",
   "execution_count": null,
   "id": "a650c47c",
   "metadata": {},
   "outputs": [],
   "source": [
    "data['y'].replace({'DERMASON':0,'SIRA':1,'SEKER':2,'HOROZ':3,'CALI':4,'BARBUNYA':5,'BOMBAY':6},inplace=True)"
   ]
  },
  {
   "cell_type": "markdown",
   "id": "c64564bb",
   "metadata": {},
   "source": [
    "### Visualize Data"
   ]
  },
  {
   "cell_type": "code",
   "execution_count": null,
   "id": "72bd481e",
   "metadata": {},
   "outputs": [],
   "source": [
    "corr_matrix = data.corr().abs()\n",
    "\n",
    "plt.figure(figsize=(15,15))\n",
    "plt.title('Correlation Heatmap of Beans Dataset')\n",
    "a = sns.heatmap(corr_matrix, square=True, annot=True, fmt='.2f', linecolor='black')\n",
    "a.set_xticklabels(a.get_xticklabels(), rotation=30)\n",
    "a.set_yticklabels(a.get_yticklabels(), rotation=30)\n",
    "plt.show()"
   ]
  },
  {
   "cell_type": "markdown",
   "id": "beac97be",
   "metadata": {},
   "source": [
    "### Deal with Corr Data - Try with / without dropping"
   ]
  },
  {
   "cell_type": "code",
   "execution_count": null,
   "id": "a35d75d9",
   "metadata": {},
   "outputs": [],
   "source": [
    "upper_tri = corr_matrix.where(np.triu(np.ones(corr_matrix.shape),k=1).astype(np.bool))"
   ]
  },
  {
   "cell_type": "code",
   "execution_count": null,
   "id": "c98b6017",
   "metadata": {},
   "outputs": [],
   "source": [
    "to_drop = [column for column in upper_tri.columns if any(upper_tri[column] > 0.95)]\n",
    "to_drop"
   ]
  },
  {
   "cell_type": "code",
   "execution_count": null,
   "id": "dc71a694",
   "metadata": {},
   "outputs": [],
   "source": [
    "data_dropped = data.drop(to_drop, axis=1)"
   ]
  },
  {
   "cell_type": "code",
   "execution_count": null,
   "id": "6a96b63a",
   "metadata": {},
   "outputs": [],
   "source": [
    "data_dropped.head()"
   ]
  },
  {
   "cell_type": "markdown",
   "id": "c7f3775a",
   "metadata": {},
   "source": [
    "#### Note: We Will work first with the data_dropped "
   ]
  },
  {
   "cell_type": "markdown",
   "id": "68104d92",
   "metadata": {},
   "source": [
    "### Handle data skewness and outliers"
   ]
  },
  {
   "cell_type": "code",
   "execution_count": null,
   "id": "64bb3bb3",
   "metadata": {},
   "outputs": [],
   "source": [
    "data_dropped.hist(figsize=(20,15))"
   ]
  },
  {
   "cell_type": "code",
   "execution_count": null,
   "id": "52a06ba6",
   "metadata": {},
   "outputs": [],
   "source": [
    "data_dropped.skew().sort_values(ascending=False)"
   ]
  },
  {
   "cell_type": "code",
   "execution_count": null,
   "id": "4b5d900c",
   "metadata": {},
   "outputs": [],
   "source": [
    "data_dropped['Area'] = data_dropped['Area'].apply(lambda x: np.log(x))\n",
    "data_dropped['Solidity'] = data_dropped['Solidity'].apply(lambda x: np.log(x))\n",
    "data_dropped['ShapeFactor4'] = data_dropped['ShapeFactor4'].apply(lambda x: np.log(x))"
   ]
  },
  {
   "cell_type": "code",
   "execution_count": null,
   "id": "b3ca3878",
   "metadata": {},
   "outputs": [],
   "source": [
    "data.hist(figsize=(20,15))"
   ]
  },
  {
   "cell_type": "code",
   "execution_count": null,
   "id": "dea56dc9",
   "metadata": {},
   "outputs": [],
   "source": [
    "data_dropped.skew().sort_values(ascending=False)"
   ]
  },
  {
   "cell_type": "code",
   "execution_count": null,
   "id": "05ff9db8",
   "metadata": {},
   "outputs": [],
   "source": [
    "data_dropped.head()"
   ]
  },
  {
   "cell_type": "code",
   "execution_count": null,
   "id": "dc1be1fa",
   "metadata": {},
   "outputs": [],
   "source": [
    "data_dropped.info()"
   ]
  },
  {
   "cell_type": "markdown",
   "id": "d9386a3b",
   "metadata": {},
   "source": [
    "### Split Data"
   ]
  },
  {
   "cell_type": "code",
   "execution_count": null,
   "id": "242a6008",
   "metadata": {},
   "outputs": [],
   "source": [
    "train_data, val_data = train_test_split(data_dropped, test_size=0.2, random_state=42, shuffle=True, stratify=data_dropped.y) \n",
    "\n",
    "x_train = train_data.drop(columns=['y'])\n",
    "y_train = train_data['y']\n",
    "\n",
    "x_val = val_data.drop(columns=['y'])\n",
    "y_val = val_data['y']"
   ]
  },
  {
   "cell_type": "code",
   "execution_count": null,
   "id": "6d0ec1fd",
   "metadata": {},
   "outputs": [],
   "source": [
    "x_train.shape[0], x_val.shape[0]\n"
   ]
  },
  {
   "cell_type": "code",
   "execution_count": null,
   "id": "56f1cf0a",
   "metadata": {},
   "outputs": [],
   "source": [
    "y_train.shape[0], y_val.shape[0]"
   ]
  },
  {
   "cell_type": "markdown",
   "id": "c4c2ce40",
   "metadata": {},
   "source": [
    "### Normalize"
   ]
  },
  {
   "cell_type": "code",
   "execution_count": null,
   "id": "5667be6b",
   "metadata": {},
   "outputs": [],
   "source": [
    "### Normalize Tained Data\n",
    "x_train_norm = normalize(x_train)\n",
    "\n",
    "### Normalize Validation Data\n",
    "x_val_norm = normalize(x_val)"
   ]
  },
  {
   "cell_type": "markdown",
   "id": "1cb38343",
   "metadata": {},
   "source": [
    "### Feature Engineering"
   ]
  },
  {
   "cell_type": "markdown",
   "id": "c52338c7",
   "metadata": {},
   "source": [
    "### Fix Imbalance Classes - Using Weights"
   ]
  },
  {
   "cell_type": "code",
   "execution_count": null,
   "id": "028fb179",
   "metadata": {},
   "outputs": [],
   "source": [
    "y_train.hist(bins=int(np.sqrt(y_train.shape[0])))"
   ]
  },
  {
   "cell_type": "code",
   "execution_count": null,
   "id": "d2679861",
   "metadata": {},
   "outputs": [],
   "source": [
    "class_weights = class_weight.compute_class_weight(\n",
    "                                        class_weight = \"balanced\",\n",
    "                                        classes = np.unique(y_train),\n",
    "                                        y = y_train                                                    \n",
    "                                    )"
   ]
  },
  {
   "cell_type": "code",
   "execution_count": null,
   "id": "f3762de3",
   "metadata": {},
   "outputs": [],
   "source": [
    "weights = np.ones(y_train.shape[0], dtype = 'float')\n",
    "for i, val in enumerate(y_train):\n",
    "    weights[i] = class_weights[val-1]"
   ]
  },
  {
   "cell_type": "code",
   "execution_count": null,
   "id": "82264438",
   "metadata": {},
   "outputs": [],
   "source": [
    "class_weights"
   ]
  },
  {
   "cell_type": "code",
   "execution_count": null,
   "id": "5e46d166",
   "metadata": {},
   "outputs": [],
   "source": [
    "len(weights)"
   ]
  },
  {
   "cell_type": "code",
   "execution_count": null,
   "id": "3402efee",
   "metadata": {},
   "outputs": [],
   "source": [
    "class_weights = dict(zip(np.unique(y_train), class_weights))\n",
    "class_weights"
   ]
  },
  {
   "cell_type": "code",
   "execution_count": null,
   "id": "7e906890",
   "metadata": {},
   "outputs": [],
   "source": [
    "y_train.value_counts()"
   ]
  },
  {
   "cell_type": "markdown",
   "id": "3db79d62",
   "metadata": {},
   "source": [
    "### Model Trainning"
   ]
  },
  {
   "cell_type": "code",
   "execution_count": null,
   "id": "0163a542",
   "metadata": {},
   "outputs": [],
   "source": [
    "exgb_classifier = XGBClassifier()"
   ]
  },
  {
   "cell_type": "code",
   "execution_count": null,
   "id": "1dd16406",
   "metadata": {},
   "outputs": [],
   "source": [
    "# ## Hyper Parameter Optimization\n",
    "# n_estimators = [100, 500, 900]\n",
    "# max_depth = [5, 10, 20]\n",
    "# booster=['gbtree','dart']\n",
    "# learning_rate=[0.05,0.15,0.25]\n",
    "# base_score=[0.25,0.5,0.75]\n",
    "\n",
    "\n",
    "# # Define the grid of hyperparameters to search\n",
    "# hyperparameter_grid = {\n",
    "#     'n_estimators': n_estimators,\n",
    "#     'max_depth':max_depth,\n",
    "#     'learning_rate':learning_rate,\n",
    "#     'booster':booster,\n",
    "#     'base_score':base_score\n",
    "#     }"
   ]
  },
  {
   "cell_type": "code",
   "execution_count": null,
   "id": "40249cbf",
   "metadata": {},
   "outputs": [],
   "source": [
    "# random_search_cv = RandomizedSearchCV(\n",
    "#                         estimator=exgb_classifier,\n",
    "#                         param_distributions=hyperparameter_grid,\n",
    "#                         scoring = 'f1_micro',\n",
    "#                         random_state=0,\n",
    "#                         )"
   ]
  },
  {
   "cell_type": "code",
   "execution_count": null,
   "id": "7773ceb3",
   "metadata": {},
   "outputs": [],
   "source": [
    "# random_search_cv.fit(x_train_norm,\n",
    "#                      y_train,\n",
    "#                      sample_weight = weights)"
   ]
  },
  {
   "cell_type": "code",
   "execution_count": null,
   "id": "b54eccf7",
   "metadata": {},
   "outputs": [],
   "source": [
    "# random_search_cv.best_estimator_"
   ]
  },
  {
   "cell_type": "code",
   "execution_count": null,
   "id": "37dd2ef3",
   "metadata": {},
   "outputs": [],
   "source": [
    "# exgb_classifier =XGBClassifier(base_score=0.75, booster='gbtree', colsample_bylevel=1,\n",
    "#               colsample_bynode=1, colsample_bytree=1, enable_categorical=False,\n",
    "#               gamma=0, gpu_id=-1, importance_type=None,\n",
    "#               interaction_constraints='', learning_rate=0.5, max_delta_step=0.1,\n",
    "#               max_depth=6, min_child_weight=1, missing=np.nan,\n",
    "#               monotone_constraints='()', n_estimators=400, n_jobs=8,\n",
    "#               num_parallel_tree=4, objective='multi:softprob', predictor='auto',\n",
    "#               random_state=0, reg_alpha=0, reg_lambda=1, scale_pos_weight=None,\n",
    "#               subsample=1, tree_method='exact', validate_parameters=1,\n",
    "#               verbosity=None)\n"
   ]
  },
  {
   "cell_type": "code",
   "execution_count": null,
   "id": "8f055443",
   "metadata": {},
   "outputs": [],
   "source": [
    "exgb_classifier.fit(x_train_norm,\n",
    "                     y_train)\n"
   ]
  },
  {
   "cell_type": "code",
   "execution_count": null,
   "id": "c4297060",
   "metadata": {},
   "outputs": [],
   "source": [
    "y_pred=exgb_classifier.predict(x_val_norm)\n"
   ]
  },
  {
   "cell_type": "code",
   "execution_count": null,
   "id": "5fa30df8",
   "metadata": {},
   "outputs": [],
   "source": [
    "print(classification_report(\n",
    "    y_val,\n",
    "    y_pred,\n",
    "    output_dict=False\n",
    "))"
   ]
  },
  {
   "cell_type": "code",
   "execution_count": null,
   "id": "0237547e",
   "metadata": {},
   "outputs": [],
   "source": [
    "f1_score(y_val, y_pred, average='micro')"
   ]
  },
  {
   "cell_type": "markdown",
   "id": "e0081014",
   "metadata": {},
   "source": [
    "#### Random Forest Classifier"
   ]
  },
  {
   "cell_type": "code",
   "execution_count": null,
   "id": "b876c039",
   "metadata": {},
   "outputs": [],
   "source": [
    "clf = RandomForestClassifier(n_estimators=200,\n",
    "                             criterion='gini',\n",
    "                             max_depth=None,\n",
    "                             min_samples_split=3,\n",
    "                             min_samples_leaf=1,\n",
    "                             min_weight_fraction_leaf=0.0,\n",
    "                             max_features='sqrt',\n",
    "                             max_leaf_nodes=None,\n",
    "                             min_impurity_decrease=0.0,\n",
    "                             bootstrap=True,\n",
    "                             oob_score=False,\n",
    "                             n_jobs=4,\n",
    "                             random_state=None\n",
    "                             , verbose=0,\n",
    "                             warm_start=False,\n",
    "                             class_weight=None,\n",
    "                             ccp_alpha=0.0,\n",
    "                             max_samples=None)"
   ]
  },
  {
   "cell_type": "code",
   "execution_count": null,
   "id": "fe501e12",
   "metadata": {},
   "outputs": [],
   "source": [
    "clf.fit(x_train_norm, y_train)"
   ]
  },
  {
   "cell_type": "code",
   "execution_count": null,
   "id": "76408085",
   "metadata": {},
   "outputs": [],
   "source": [
    "ypred_rf = clf.predict(x_val_norm)"
   ]
  },
  {
   "cell_type": "code",
   "execution_count": null,
   "id": "b6d9dd56",
   "metadata": {},
   "outputs": [],
   "source": [
    "f1_score(y_val, ypred_rf, average='micro')"
   ]
  },
  {
   "cell_type": "code",
   "execution_count": null,
   "id": "6712605b",
   "metadata": {},
   "outputs": [],
   "source": []
  },
  {
   "cell_type": "code",
   "execution_count": null,
   "id": "266ee2df",
   "metadata": {},
   "outputs": [],
   "source": []
  }
 ],
 "metadata": {
  "kernelspec": {
   "display_name": "Python 3 (ipykernel)",
   "language": "python",
   "name": "python3"
  },
  "language_info": {
   "codemirror_mode": {
    "name": "ipython",
    "version": 3
   },
   "file_extension": ".py",
   "mimetype": "text/x-python",
   "name": "python",
   "nbconvert_exporter": "python",
   "pygments_lexer": "ipython3",
   "version": "3.9.10"
  }
 },
 "nbformat": 4,
 "nbformat_minor": 5
}
