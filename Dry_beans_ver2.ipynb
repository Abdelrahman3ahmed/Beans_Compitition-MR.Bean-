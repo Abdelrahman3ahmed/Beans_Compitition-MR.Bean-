{
 "cells": [
  {
   "cell_type": "code",
   "execution_count": 1,
   "metadata": {},
   "outputs": [],
   "source": [
    "import pandas as pd\n",
    "import numpy as np\n",
    "import matplotlib.pyplot as plt\n",
    "import seaborn as sns\n",
    "from scipy import stats\n",
    "from sklearn.utils import class_weight\n"
   ]
  },
  {
   "cell_type": "code",
   "execution_count": 2,
   "metadata": {},
   "outputs": [],
   "source": [
    "data=pd.read_csv(\"train.csv\")\n",
    "data_test=pd.read_csv(\"test.csv\")"
   ]
  },
  {
   "cell_type": "code",
   "execution_count": 3,
   "metadata": {},
   "outputs": [
    {
     "data": {
      "text/html": [
       "<div>\n",
       "<style scoped>\n",
       "    .dataframe tbody tr th:only-of-type {\n",
       "        vertical-align: middle;\n",
       "    }\n",
       "\n",
       "    .dataframe tbody tr th {\n",
       "        vertical-align: top;\n",
       "    }\n",
       "\n",
       "    .dataframe thead th {\n",
       "        text-align: right;\n",
       "    }\n",
       "</style>\n",
       "<table border=\"1\" class=\"dataframe\">\n",
       "  <thead>\n",
       "    <tr style=\"text-align: right;\">\n",
       "      <th></th>\n",
       "      <th>ID</th>\n",
       "      <th>Area</th>\n",
       "      <th>Perimeter</th>\n",
       "      <th>MajorAxisLength</th>\n",
       "      <th>MinorAxisLength</th>\n",
       "      <th>AspectRation</th>\n",
       "      <th>Eccentricity</th>\n",
       "      <th>ConvexArea</th>\n",
       "      <th>EquivDiameter</th>\n",
       "      <th>Extent</th>\n",
       "      <th>Solidity</th>\n",
       "      <th>roundness</th>\n",
       "      <th>Compactness</th>\n",
       "      <th>ShapeFactor1</th>\n",
       "      <th>ShapeFactor2</th>\n",
       "      <th>ShapeFactor3</th>\n",
       "      <th>ShapeFactor4</th>\n",
       "      <th>y</th>\n",
       "    </tr>\n",
       "  </thead>\n",
       "  <tbody>\n",
       "    <tr>\n",
       "      <th>0</th>\n",
       "      <td>0</td>\n",
       "      <td>58238</td>\n",
       "      <td>971.303</td>\n",
       "      <td>397.202654</td>\n",
       "      <td>186.945510</td>\n",
       "      <td>2.124697</td>\n",
       "      <td>0.882317</td>\n",
       "      <td>58977</td>\n",
       "      <td>272.306674</td>\n",
       "      <td>0.604756</td>\n",
       "      <td>0.987470</td>\n",
       "      <td>0.775723</td>\n",
       "      <td>0.685561</td>\n",
       "      <td>0.006820</td>\n",
       "      <td>0.000929</td>\n",
       "      <td>0.469994</td>\n",
       "      <td>0.998595</td>\n",
       "      <td>HOROZ</td>\n",
       "    </tr>\n",
       "    <tr>\n",
       "      <th>1</th>\n",
       "      <td>1</td>\n",
       "      <td>44515</td>\n",
       "      <td>757.601</td>\n",
       "      <td>265.590470</td>\n",
       "      <td>213.967453</td>\n",
       "      <td>1.241266</td>\n",
       "      <td>0.592420</td>\n",
       "      <td>44780</td>\n",
       "      <td>238.071960</td>\n",
       "      <td>0.771745</td>\n",
       "      <td>0.994082</td>\n",
       "      <td>0.974620</td>\n",
       "      <td>0.896387</td>\n",
       "      <td>0.005966</td>\n",
       "      <td>0.002376</td>\n",
       "      <td>0.803510</td>\n",
       "      <td>0.997370</td>\n",
       "      <td>SEKER</td>\n",
       "    </tr>\n",
       "    <tr>\n",
       "      <th>2</th>\n",
       "      <td>2</td>\n",
       "      <td>31662</td>\n",
       "      <td>653.783</td>\n",
       "      <td>239.902428</td>\n",
       "      <td>168.421505</td>\n",
       "      <td>1.424417</td>\n",
       "      <td>0.712136</td>\n",
       "      <td>32034</td>\n",
       "      <td>200.781748</td>\n",
       "      <td>0.801407</td>\n",
       "      <td>0.988387</td>\n",
       "      <td>0.930853</td>\n",
       "      <td>0.836931</td>\n",
       "      <td>0.007577</td>\n",
       "      <td>0.002293</td>\n",
       "      <td>0.700453</td>\n",
       "      <td>0.997737</td>\n",
       "      <td>DERMASON</td>\n",
       "    </tr>\n",
       "    <tr>\n",
       "      <th>3</th>\n",
       "      <td>3</td>\n",
       "      <td>38778</td>\n",
       "      <td>734.020</td>\n",
       "      <td>268.446281</td>\n",
       "      <td>184.061923</td>\n",
       "      <td>1.458456</td>\n",
       "      <td>0.727925</td>\n",
       "      <td>39208</td>\n",
       "      <td>222.201897</td>\n",
       "      <td>0.766137</td>\n",
       "      <td>0.989033</td>\n",
       "      <td>0.904439</td>\n",
       "      <td>0.827733</td>\n",
       "      <td>0.006923</td>\n",
       "      <td>0.002005</td>\n",
       "      <td>0.685142</td>\n",
       "      <td>0.999250</td>\n",
       "      <td>DERMASON</td>\n",
       "    </tr>\n",
       "    <tr>\n",
       "      <th>4</th>\n",
       "      <td>4</td>\n",
       "      <td>42530</td>\n",
       "      <td>775.403</td>\n",
       "      <td>281.212824</td>\n",
       "      <td>193.236878</td>\n",
       "      <td>1.455275</td>\n",
       "      <td>0.726511</td>\n",
       "      <td>43028</td>\n",
       "      <td>232.703412</td>\n",
       "      <td>0.729816</td>\n",
       "      <td>0.988426</td>\n",
       "      <td>0.888895</td>\n",
       "      <td>0.827499</td>\n",
       "      <td>0.006612</td>\n",
       "      <td>0.001912</td>\n",
       "      <td>0.684755</td>\n",
       "      <td>0.996507</td>\n",
       "      <td>SIRA</td>\n",
       "    </tr>\n",
       "  </tbody>\n",
       "</table>\n",
       "</div>"
      ],
      "text/plain": [
       "   ID   Area  Perimeter  MajorAxisLength  MinorAxisLength  AspectRation  \\\n",
       "0   0  58238    971.303       397.202654       186.945510      2.124697   \n",
       "1   1  44515    757.601       265.590470       213.967453      1.241266   \n",
       "2   2  31662    653.783       239.902428       168.421505      1.424417   \n",
       "3   3  38778    734.020       268.446281       184.061923      1.458456   \n",
       "4   4  42530    775.403       281.212824       193.236878      1.455275   \n",
       "\n",
       "   Eccentricity  ConvexArea  EquivDiameter    Extent  Solidity  roundness  \\\n",
       "0      0.882317       58977     272.306674  0.604756  0.987470   0.775723   \n",
       "1      0.592420       44780     238.071960  0.771745  0.994082   0.974620   \n",
       "2      0.712136       32034     200.781748  0.801407  0.988387   0.930853   \n",
       "3      0.727925       39208     222.201897  0.766137  0.989033   0.904439   \n",
       "4      0.726511       43028     232.703412  0.729816  0.988426   0.888895   \n",
       "\n",
       "   Compactness  ShapeFactor1  ShapeFactor2  ShapeFactor3  ShapeFactor4  \\\n",
       "0     0.685561      0.006820      0.000929      0.469994      0.998595   \n",
       "1     0.896387      0.005966      0.002376      0.803510      0.997370   \n",
       "2     0.836931      0.007577      0.002293      0.700453      0.997737   \n",
       "3     0.827733      0.006923      0.002005      0.685142      0.999250   \n",
       "4     0.827499      0.006612      0.001912      0.684755      0.996507   \n",
       "\n",
       "          y  \n",
       "0     HOROZ  \n",
       "1     SEKER  \n",
       "2  DERMASON  \n",
       "3  DERMASON  \n",
       "4      SIRA  "
      ]
     },
     "execution_count": 3,
     "metadata": {},
     "output_type": "execute_result"
    }
   ],
   "source": [
    "data.head()"
   ]
  },
  {
   "cell_type": "markdown",
   "metadata": {},
   "source": [
    "# Check for nulls"
   ]
  },
  {
   "cell_type": "code",
   "execution_count": 4,
   "metadata": {},
   "outputs": [
    {
     "data": {
      "text/plain": [
       "ID                 0\n",
       "Area               0\n",
       "Perimeter          0\n",
       "MajorAxisLength    0\n",
       "MinorAxisLength    0\n",
       "AspectRation       0\n",
       "Eccentricity       0\n",
       "ConvexArea         0\n",
       "EquivDiameter      0\n",
       "Extent             0\n",
       "Solidity           0\n",
       "roundness          0\n",
       "Compactness        0\n",
       "ShapeFactor1       0\n",
       "ShapeFactor2       0\n",
       "ShapeFactor3       0\n",
       "ShapeFactor4       0\n",
       "y                  0\n",
       "dtype: int64"
      ]
     },
     "execution_count": 4,
     "metadata": {},
     "output_type": "execute_result"
    }
   ],
   "source": [
    "data.isna().sum()"
   ]
  },
  {
   "cell_type": "markdown",
   "metadata": {},
   "source": [
    "# check_duplicates"
   ]
  },
  {
   "cell_type": "code",
   "execution_count": 5,
   "metadata": {},
   "outputs": [
    {
     "data": {
      "text/plain": [
       "0"
      ]
     },
     "execution_count": 5,
     "metadata": {},
     "output_type": "execute_result"
    }
   ],
   "source": [
    "data.duplicated().sum()"
   ]
  },
  {
   "cell_type": "markdown",
   "metadata": {},
   "source": [
    "# info"
   ]
  },
  {
   "cell_type": "code",
   "execution_count": 6,
   "metadata": {},
   "outputs": [
    {
     "name": "stdout",
     "output_type": "stream",
     "text": [
      "<class 'pandas.core.frame.DataFrame'>\n",
      "RangeIndex: 10834 entries, 0 to 10833\n",
      "Data columns (total 18 columns):\n",
      " #   Column           Non-Null Count  Dtype  \n",
      "---  ------           --------------  -----  \n",
      " 0   ID               10834 non-null  int64  \n",
      " 1   Area             10834 non-null  int64  \n",
      " 2   Perimeter        10834 non-null  float64\n",
      " 3   MajorAxisLength  10834 non-null  float64\n",
      " 4   MinorAxisLength  10834 non-null  float64\n",
      " 5   AspectRation     10834 non-null  float64\n",
      " 6   Eccentricity     10834 non-null  float64\n",
      " 7   ConvexArea       10834 non-null  int64  \n",
      " 8   EquivDiameter    10834 non-null  float64\n",
      " 9   Extent           10834 non-null  float64\n",
      " 10  Solidity         10834 non-null  float64\n",
      " 11  roundness        10834 non-null  float64\n",
      " 12  Compactness      10834 non-null  float64\n",
      " 13  ShapeFactor1     10834 non-null  float64\n",
      " 14  ShapeFactor2     10834 non-null  float64\n",
      " 15  ShapeFactor3     10834 non-null  float64\n",
      " 16  ShapeFactor4     10834 non-null  float64\n",
      " 17  y                10834 non-null  object \n",
      "dtypes: float64(14), int64(3), object(1)\n",
      "memory usage: 1.5+ MB\n"
     ]
    }
   ],
   "source": [
    "data.info()"
   ]
  },
  {
   "cell_type": "markdown",
   "metadata": {},
   "source": [
    "# Target_variable"
   ]
  },
  {
   "cell_type": "code",
   "execution_count": 7,
   "metadata": {},
   "outputs": [
    {
     "data": {
      "text/plain": [
       "DERMASON    2837\n",
       "SIRA        2109\n",
       "SEKER       1621\n",
       "HOROZ       1488\n",
       "CALI        1304\n",
       "BARBUNYA    1057\n",
       "BOMBAY       418\n",
       "Name: y, dtype: int64"
      ]
     },
     "execution_count": 7,
     "metadata": {},
     "output_type": "execute_result"
    }
   ],
   "source": [
    "data['y'].value_counts()"
   ]
  },
  {
   "cell_type": "markdown",
   "metadata": {},
   "source": [
    "Imabalanced"
   ]
  },
  {
   "cell_type": "code",
   "execution_count": 8,
   "metadata": {},
   "outputs": [
    {
     "data": {
      "image/png": "[encoded data removed]",
      "text/plain": [
       "<Figure size 432x288 with 1 Axes>"
      ]
     },
     "metadata": {
      "needs_background": "light"
     },
     "output_type": "display_data"
    }
   ],
   "source": [
    "plt.hist(data['y'],bins=int(np.sqrt(len(data['y']))))\n",
    "plt.show()"
   ]
  },
  {
   "cell_type": "markdown",
   "metadata": {},
   "source": [
    "# Balance"
   ]
  },
  {
   "cell_type": "code",
   "execution_count": 9,
   "metadata": {},
   "outputs": [],
   "source": [
    "# from imblearn.over_sampling import RandomOverSampler\n",
    "\n",
    "# oversample = RandomOverSampler(sampling_strategy='all')\n",
    "# X=data.drop('y',axis=1)\n",
    "# X_train_copy,y_train_copy = oversample.fit_resample(X,data[['y']])"
   ]
  },
  {
   "cell_type": "code",
   "execution_count": 10,
   "metadata": {},
   "outputs": [],
   "source": [
    "# data=pd.concat([X_train_copy,y_train_copy],axis=1)"
   ]
  },
  {
   "cell_type": "markdown",
   "metadata": {},
   "source": [
    "https://towardsdatascience.com/how-to-handle-multiclass-imbalanced-data-say-no-to-smote-e9a7f393c310"
   ]
  },
  {
   "cell_type": "markdown",
   "metadata": {},
   "source": [
    "# Visualize_features"
   ]
  },
  {
   "cell_type": "code",
   "execution_count": 11,
   "metadata": {},
   "outputs": [],
   "source": [
    "def visualize_data(data):\n",
    "    data_visualize=data.copy()\n",
    "    target_visualize=data_visualize['y']\n",
    "    data_visualize.drop(['ID','y'],axis=1,inplace=True)\n",
    "    for col in data_visualize.columns:\n",
    "            sns.boxplot(target_visualize,data_visualize[col])\n",
    "            plt.show()"
   ]
  },
  {
   "cell_type": "code",
   "execution_count": 12,
   "metadata": {},
   "outputs": [
    {
     "name": "stderr",
     "output_type": "stream",
     "text": [
      "/Users/omarmarie/miniforge3/lib/python3.9/site-packages/seaborn/_decorators.py:36: FutureWarning: Pass the following variables as keyword args: x, y. From version 0.12, the only valid positional argument will be `data`, and passing other arguments without an explicit keyword will result in an error or misinterpretation.\n",
      "  warnings.warn(\n"
     ]
    },
    {
     "data": {
      "image/png": "[encoded data removed]",
      "text/plain": [
       "<Figure size 432x288 with 1 Axes>"
      ]
     },
     "metadata": {
      "needs_background": "light"
     },
     "output_type": "display_data"
    },
    {
     "name": "stderr",
     "output_type": "stream",
     "text": [
      "/Users/omarmarie/miniforge3/lib/python3.9/site-packages/seaborn/_decorators.py:36: FutureWarning: Pass the following variables as keyword args: x, y. From version 0.12, the only valid positional argument will be `data`, and passing other arguments without an explicit keyword will result in an error or misinterpretation.\n",
      "  warnings.warn(\n"
     ]
    },
    {
     "data": {
      "image/png": "[encoded data removed]",
      "text/plain": [
       "<Figure size 432x288 with 1 Axes>"
      ]
     },
     "metadata": {
      "needs_background": "light"
     },
     "output_type": "display_data"
    },
    {
     "name": "stderr",
     "output_type": "stream",
     "text": [
      "/Users/omarmarie/miniforge3/lib/python3.9/site-packages/seaborn/_decorators.py:36: FutureWarning: Pass the following variables as keyword args: x, y. From version 0.12, the only valid positional argument will be `data`, and passing other arguments without an explicit keyword will result in an error or misinterpretation.\n",
      "  warnings.warn(\n"
     ]
    },
    {
     "data": {
      "image/png": "[encoded data removed]",
      "text/plain": [
       "<Figure size 432x288 with 1 Axes>"
      ]
     },
     "metadata": {
      "needs_background": "light"
     },
     "output_type": "display_data"
    },
    {
     "name": "stderr",
     "output_type": "stream",
     "text": [
      "/Users/omarmarie/miniforge3/lib/python3.9/site-packages/seaborn/_decorators.py:36: FutureWarning: Pass the following variables as keyword args: x, y. From version 0.12, the only valid positional argument will be `data`, and passing other arguments without an explicit keyword will result in an error or misinterpretation.\n",
      "  warnings.warn(\n"
     ]
    },
    {
     "data": {
      "image/png": "[encoded data removed]",
      "text/plain": [
       "<Figure size 432x288 with 1 Axes>"
      ]
     },
     "metadata": {
      "needs_background": "light"
     },
     "output_type": "display_data"
    },
    {
     "name": "stderr",
     "output_type": "stream",
     "text": [
      "/Users/omarmarie/miniforge3/lib/python3.9/site-packages/seaborn/_decorators.py:36: FutureWarning: Pass the following variables as keyword args: x, y. From version 0.12, the only valid positional argument will be `data`, and passing other arguments without an explicit keyword will result in an error or misinterpretation.\n",
      "  warnings.warn(\n"
     ]
    },
    {
     "data": {
      "image/png": "[encoded data removed]",
      "text/plain": [
       "<Figure size 432x288 with 1 Axes>"
      ]
     },
     "metadata": {
      "needs_background": "light"
     },
     "output_type": "display_data"
    },
    {
     "name": "stderr",
     "output_type": "stream",
     "text": [
      "/Users/omarmarie/miniforge3/lib/python3.9/site-packages/seaborn/_decorators.py:36: FutureWarning: Pass the following variables as keyword args: x, y. From version 0.12, the only valid positional argument will be `data`, and passing other arguments without an explicit keyword will result in an error or misinterpretation.\n",
      "  warnings.warn(\n"
     ]
    },
    {
     "data": {
      "image/png": "[encoded data removed]",
      "text/plain": [
       "<Figure size 432x288 with 1 Axes>"
      ]
     },
     "metadata": {
      "needs_background": "light"
     },
     "output_type": "display_data"
    },
    {
     "name": "stderr",
     "output_type": "stream",
     "text": [
      "/Users/omarmarie/miniforge3/lib/python3.9/site-packages/seaborn/_decorators.py:36: FutureWarning: Pass the following variables as keyword args: x, y. From version 0.12, the only valid positional argument will be `data`, and passing other arguments without an explicit keyword will result in an error or misinterpretation.\n",
      "  warnings.warn(\n"
     ]
    },
    {
     "data": {
      "image/png": "[encoded data removed]",
      "text/plain": [
       "<Figure size 432x288 with 1 Axes>"
      ]
     },
     "metadata": {
      "needs_background": "light"
     },
     "output_type": "display_data"
    },
    {
     "name": "stderr",
     "output_type": "stream",
     "text": [
      "/Users/omarmarie/miniforge3/lib/python3.9/site-packages/seaborn/_decorators.py:36: FutureWarning: Pass the following variables as keyword args: x, y. From version 0.12, the only valid positional argument will be `data`, and passing other arguments without an explicit keyword will result in an error or misinterpretation.\n",
      "  warnings.warn(\n"
     ]
    },
    {
     "data": {
      "image/png": "[encoded data removed]",
      "text/plain": [
       "<Figure size 432x288 with 1 Axes>"
      ]
     },
     "metadata": {
      "needs_background": "light"
     },
     "output_type": "display_data"
    },
    {
     "name": "stderr",
     "output_type": "stream",
     "text": [
      "/Users/omarmarie/miniforge3/lib/python3.9/site-packages/seaborn/_decorators.py:36: FutureWarning: Pass the following variables as keyword args: x, y. From version 0.12, the only valid positional argument will be `data`, and passing other arguments without an explicit keyword will result in an error or misinterpretation.\n",
      "  warnings.warn(\n"
     ]
    },
    {
     "data": {
      "image/png": "[encoded data removed]",
      "text/plain": [
       "<Figure size 432x288 with 1 Axes>"
      ]
     },
     "metadata": {
      "needs_background": "light"
     },
     "output_type": "display_data"
    },
    {
     "name": "stderr",
     "output_type": "stream",
     "text": [
      "/Users/omarmarie/miniforge3/lib/python3.9/site-packages/seaborn/_decorators.py:36: FutureWarning: Pass the following variables as keyword args: x, y. From version 0.12, the only valid positional argument will be `data`, and passing other arguments without an explicit keyword will result in an error or misinterpretation.\n",
      "  warnings.warn(\n"
     ]
    },
    {
     "data": {
      "image/png": "[encoded data removed]",
      "text/plain": [
       "<Figure size 432x288 with 1 Axes>"
      ]
     },
     "metadata": {
      "needs_background": "light"
     },
     "output_type": "display_data"
    },
    {
     "name": "stderr",
     "output_type": "stream",
     "text": [
      "/Users/omarmarie/miniforge3/lib/python3.9/site-packages/seaborn/_decorators.py:36: FutureWarning: Pass the following variables as keyword args: x, y. From version 0.12, the only valid positional argument will be `data`, and passing other arguments without an explicit keyword will result in an error or misinterpretation.\n",
      "  warnings.warn(\n"
     ]
    },
    {
     "data": {
      "image/png": "[encoded data removed]",
      "text/plain": [
       "<Figure size 432x288 with 1 Axes>"
      ]
     },
     "metadata": {
      "needs_background": "light"
     },
     "output_type": "display_data"
    },
    {
     "name": "stderr",
     "output_type": "stream",
     "text": [
      "/Users/omarmarie/miniforge3/lib/python3.9/site-packages/seaborn/_decorators.py:36: FutureWarning: Pass the following variables as keyword args: x, y. From version 0.12, the only valid positional argument will be `data`, and passing other arguments without an explicit keyword will result in an error or misinterpretation.\n",
      "  warnings.warn(\n"
     ]
    },
    {
     "data": {
      "image/png": "[encoded data removed]",
      "text/plain": [
       "<Figure size 432x288 with 1 Axes>"
      ]
     },
     "metadata": {
      "needs_background": "light"
     },
     "output_type": "display_data"
    },
    {
     "name": "stderr",
     "output_type": "stream",
     "text": [
      "/Users/omarmarie/miniforge3/lib/python3.9/site-packages/seaborn/_decorators.py:36: FutureWarning: Pass the following variables as keyword args: x, y. From version 0.12, the only valid positional argument will be `data`, and passing other arguments without an explicit keyword will result in an error or misinterpretation.\n",
      "  warnings.warn(\n"
     ]
    },
    {
     "data": {
      "image/png": "[encoded data removed]",
      "text/plain": [
       "<Figure size 432x288 with 1 Axes>"
      ]
     },
     "metadata": {
      "needs_background": "light"
     },
     "output_type": "display_data"
    },
    {
     "name": "stderr",
     "output_type": "stream",
     "text": [
      "/Users/omarmarie/miniforge3/lib/python3.9/site-packages/seaborn/_decorators.py:36: FutureWarning: Pass the following variables as keyword args: x, y. From version 0.12, the only valid positional argument will be `data`, and passing other arguments without an explicit keyword will result in an error or misinterpretation.\n",
      "  warnings.warn(\n"
     ]
    },
    {
     "data": {
      "image/png": "[encoded data removed]",
      "text/plain": [
       "<Figure size 432x288 with 1 Axes>"
      ]
     },
     "metadata": {
      "needs_background": "light"
     },
     "output_type": "display_data"
    },
    {
     "name": "stderr",
     "output_type": "stream",
     "text": [
      "/Users/omarmarie/miniforge3/lib/python3.9/site-packages/seaborn/_decorators.py:36: FutureWarning: Pass the following variables as keyword args: x, y. From version 0.12, the only valid positional argument will be `data`, and passing other arguments without an explicit keyword will result in an error or misinterpretation.\n",
      "  warnings.warn(\n"
     ]
    },
    {
     "data": {
      "image/png": "[encoded data removed]",
      "text/plain": [
       "<Figure size 432x288 with 1 Axes>"
      ]
     },
     "metadata": {
      "needs_background": "light"
     },
     "output_type": "display_data"
    },
    {
     "name": "stderr",
     "output_type": "stream",
     "text": [
      "/Users/omarmarie/miniforge3/lib/python3.9/site-packages/seaborn/_decorators.py:36: FutureWarning: Pass the following variables as keyword args: x, y. From version 0.12, the only valid positional argument will be `data`, and passing other arguments without an explicit keyword will result in an error or misinterpretation.\n",
      "  warnings.warn(\n"
     ]
    },
    {
     "data": {
      "image/png": "[encoded data removed]",
      "text/plain": [
       "<Figure size 432x288 with 1 Axes>"
      ]
     },
     "metadata": {
      "needs_background": "light"
     },
     "output_type": "display_data"
    }
   ],
   "source": [
    "visualize_data(data)"
   ]
  },
  {
   "cell_type": "markdown",
   "metadata": {},
   "source": [
    "notes: \n",
    "\n",
    "1-some features have an overlapping between boxes which indicates that they are not doing well in differentating between \n",
    "\n",
    "classes.\n",
    "\n",
    "2-there is huge amount of oultiers"
   ]
  },
  {
   "cell_type": "markdown",
   "metadata": {},
   "source": [
    "# Feature importnace"
   ]
  },
  {
   "cell_type": "markdown",
   "metadata": {},
   "source": [
    "1-for decision trees"
   ]
  },
  {
   "cell_type": "code",
   "execution_count": 13,
   "metadata": {},
   "outputs": [],
   "source": [
    "def Decision_tree_importance(data):\n",
    "    from sklearn.tree import DecisionTreeClassifier\n",
    "    y=data['y']\n",
    "    X=data.drop('y',axis=1)\n",
    "    clf=DecisionTreeClassifier()\n",
    "    clf.fit(X,y)\n",
    "    importances=clf.feature_importances_\n",
    "    forest_importances = pd.Series(importances, index=X.columns)\n",
    "    fig, ax = plt.subplots()\n",
    "    forest_importances.plot.bar(yerr=forest_importances, ax=ax)\n",
    "    ax.set_title(\"Feature importances using MDI\")\n",
    "    ax.set_ylabel(\"Mean decrease in impurity\")\n",
    "    fig.tight_layout()"
   ]
  },
  {
   "cell_type": "code",
   "execution_count": 14,
   "metadata": {},
   "outputs": [
    {
     "data": {
      "image/png": "[encoded data removed]",
      "text/plain": [
       "<Figure size 432x288 with 1 Axes>"
      ]
     },
     "metadata": {
      "needs_background": "light"
     },
     "output_type": "display_data"
    }
   ],
   "source": [
    "Decision_tree_importance(data)"
   ]
  },
  {
   "cell_type": "markdown",
   "metadata": {},
   "source": [
    "# Skewness and oultiers"
   ]
  },
  {
   "cell_type": "code",
   "execution_count": 15,
   "metadata": {},
   "outputs": [
    {
     "data": {
      "image/png": "[encoded data removed]",
      "text/plain": [
       "<Figure size 1080x1080 with 20 Axes>"
      ]
     },
     "metadata": {
      "needs_background": "light"
     },
     "output_type": "display_data"
    }
   ],
   "source": [
    "data.hist(bins=int(np.sqrt(len(data))),figsize=(15,15));"
   ]
  },
  {
   "cell_type": "code",
   "execution_count": 16,
   "metadata": {},
   "outputs": [
    {
     "name": "stderr",
     "output_type": "stream",
     "text": [
      "/var/folders/pt/jyznl8l11dnchkwt6_m3kqy80000gn/T/ipykernel_5664/1188251951.py:1: FutureWarning: Dropping of nuisance columns in DataFrame reductions (with 'numeric_only=None') is deprecated; in a future version this will raise TypeError.  Select only valid columns before calling the reduction.\n",
      "  data.skew()\n"
     ]
    },
    {
     "data": {
      "text/plain": [
       "ID                 0.000000\n",
       "Area               2.970246\n",
       "Perimeter          1.650773\n",
       "MajorAxisLength    1.390286\n",
       "MinorAxisLength    2.251468\n",
       "AspectRation       0.589186\n",
       "Eccentricity      -1.075626\n",
       "ConvexArea         2.960315\n",
       "EquivDiameter      1.971378\n",
       "Extent            -0.900892\n",
       "Solidity          -2.507634\n",
       "roundness         -0.659566\n",
       "Compactness        0.038242\n",
       "ShapeFactor1      -0.544873\n",
       "ShapeFactor2       0.292677\n",
       "ShapeFactor3       0.245589\n",
       "ShapeFactor4      -2.628540\n",
       "dtype: float64"
      ]
     },
     "execution_count": 16,
     "metadata": {},
     "output_type": "execute_result"
    }
   ],
   "source": [
    "data.skew()"
   ]
  },
  {
   "cell_type": "code",
   "execution_count": 17,
   "metadata": {},
   "outputs": [],
   "source": [
    "def display_skew_kurt(df):\n",
    "    skew= df.select_dtypes(np.number).skew()\n",
    "    abs_skew = abs(skew)\n",
    "    kurt = df.select_dtypes(np.number).kurt()\n",
    "    skew_kurt_table = pd.concat([skew,abs_skew,kurt], axis = 1,\n",
    "                                keys =['Skew','Absolute Skew','Kurtosis']).sort_values(\"Skew\",ascending = False)\n",
    "    skew_kurt_table['Skewed'] = skew_kurt_table['Absolute Skew'].apply(lambda x: True if x >= 0.5 else False)\n",
    "    return skew_kurt_table"
   ]
  },
  {
   "cell_type": "code",
   "execution_count": 18,
   "metadata": {},
   "outputs": [
    {
     "data": {
      "text/html": [
       "<div>\n",
       "<style scoped>\n",
       "    .dataframe tbody tr th:only-of-type {\n",
       "        vertical-align: middle;\n",
       "    }\n",
       "\n",
       "    .dataframe tbody tr th {\n",
       "        vertical-align: top;\n",
       "    }\n",
       "\n",
       "    .dataframe thead th {\n",
       "        text-align: right;\n",
       "    }\n",
       "</style>\n",
       "<table border=\"1\" class=\"dataframe\">\n",
       "  <thead>\n",
       "    <tr style=\"text-align: right;\">\n",
       "      <th></th>\n",
       "      <th>Skew</th>\n",
       "      <th>Absolute Skew</th>\n",
       "      <th>Kurtosis</th>\n",
       "      <th>Skewed</th>\n",
       "    </tr>\n",
       "  </thead>\n",
       "  <tbody>\n",
       "    <tr>\n",
       "      <th>Area</th>\n",
       "      <td>2.970246</td>\n",
       "      <td>2.970246</td>\n",
       "      <td>10.846326</td>\n",
       "      <td>True</td>\n",
       "    </tr>\n",
       "    <tr>\n",
       "      <th>ConvexArea</th>\n",
       "      <td>2.960315</td>\n",
       "      <td>2.960315</td>\n",
       "      <td>10.800252</td>\n",
       "      <td>True</td>\n",
       "    </tr>\n",
       "    <tr>\n",
       "      <th>MinorAxisLength</th>\n",
       "      <td>2.251468</td>\n",
       "      <td>2.251468</td>\n",
       "      <td>6.689757</td>\n",
       "      <td>True</td>\n",
       "    </tr>\n",
       "    <tr>\n",
       "      <th>EquivDiameter</th>\n",
       "      <td>1.971378</td>\n",
       "      <td>1.971378</td>\n",
       "      <td>5.267857</td>\n",
       "      <td>True</td>\n",
       "    </tr>\n",
       "    <tr>\n",
       "      <th>Perimeter</th>\n",
       "      <td>1.650773</td>\n",
       "      <td>1.650773</td>\n",
       "      <td>3.673793</td>\n",
       "      <td>True</td>\n",
       "    </tr>\n",
       "    <tr>\n",
       "      <th>MajorAxisLength</th>\n",
       "      <td>1.390286</td>\n",
       "      <td>1.390286</td>\n",
       "      <td>2.640599</td>\n",
       "      <td>True</td>\n",
       "    </tr>\n",
       "    <tr>\n",
       "      <th>AspectRation</th>\n",
       "      <td>0.589186</td>\n",
       "      <td>0.589186</td>\n",
       "      <td>0.169588</td>\n",
       "      <td>True</td>\n",
       "    </tr>\n",
       "    <tr>\n",
       "      <th>ShapeFactor2</th>\n",
       "      <td>0.292677</td>\n",
       "      <td>0.292677</td>\n",
       "      <td>-0.847298</td>\n",
       "      <td>False</td>\n",
       "    </tr>\n",
       "    <tr>\n",
       "      <th>ShapeFactor3</th>\n",
       "      <td>0.245589</td>\n",
       "      <td>0.245589</td>\n",
       "      <td>-0.112545</td>\n",
       "      <td>False</td>\n",
       "    </tr>\n",
       "    <tr>\n",
       "      <th>Compactness</th>\n",
       "      <td>0.038242</td>\n",
       "      <td>0.038242</td>\n",
       "      <td>-0.190212</td>\n",
       "      <td>False</td>\n",
       "    </tr>\n",
       "    <tr>\n",
       "      <th>ID</th>\n",
       "      <td>0.000000</td>\n",
       "      <td>0.000000</td>\n",
       "      <td>-1.200000</td>\n",
       "      <td>False</td>\n",
       "    </tr>\n",
       "    <tr>\n",
       "      <th>ShapeFactor1</th>\n",
       "      <td>-0.544873</td>\n",
       "      <td>0.544873</td>\n",
       "      <td>0.730050</td>\n",
       "      <td>True</td>\n",
       "    </tr>\n",
       "    <tr>\n",
       "      <th>roundness</th>\n",
       "      <td>-0.659566</td>\n",
       "      <td>0.659566</td>\n",
       "      <td>0.460578</td>\n",
       "      <td>True</td>\n",
       "    </tr>\n",
       "    <tr>\n",
       "      <th>Extent</th>\n",
       "      <td>-0.900892</td>\n",
       "      <td>0.900892</td>\n",
       "      <td>0.664159</td>\n",
       "      <td>True</td>\n",
       "    </tr>\n",
       "    <tr>\n",
       "      <th>Eccentricity</th>\n",
       "      <td>-1.075626</td>\n",
       "      <td>1.075626</td>\n",
       "      <td>1.460951</td>\n",
       "      <td>True</td>\n",
       "    </tr>\n",
       "    <tr>\n",
       "      <th>Solidity</th>\n",
       "      <td>-2.507634</td>\n",
       "      <td>2.507634</td>\n",
       "      <td>12.915000</td>\n",
       "      <td>True</td>\n",
       "    </tr>\n",
       "    <tr>\n",
       "      <th>ShapeFactor4</th>\n",
       "      <td>-2.628540</td>\n",
       "      <td>2.628540</td>\n",
       "      <td>11.691832</td>\n",
       "      <td>True</td>\n",
       "    </tr>\n",
       "  </tbody>\n",
       "</table>\n",
       "</div>"
      ],
      "text/plain": [
       "                     Skew  Absolute Skew   Kurtosis  Skewed\n",
       "Area             2.970246       2.970246  10.846326    True\n",
       "ConvexArea       2.960315       2.960315  10.800252    True\n",
       "MinorAxisLength  2.251468       2.251468   6.689757    True\n",
       "EquivDiameter    1.971378       1.971378   5.267857    True\n",
       "Perimeter        1.650773       1.650773   3.673793    True\n",
       "MajorAxisLength  1.390286       1.390286   2.640599    True\n",
       "AspectRation     0.589186       0.589186   0.169588    True\n",
       "ShapeFactor2     0.292677       0.292677  -0.847298   False\n",
       "ShapeFactor3     0.245589       0.245589  -0.112545   False\n",
       "Compactness      0.038242       0.038242  -0.190212   False\n",
       "ID               0.000000       0.000000  -1.200000   False\n",
       "ShapeFactor1    -0.544873       0.544873   0.730050    True\n",
       "roundness       -0.659566       0.659566   0.460578    True\n",
       "Extent          -0.900892       0.900892   0.664159    True\n",
       "Eccentricity    -1.075626       1.075626   1.460951    True\n",
       "Solidity        -2.507634       2.507634  12.915000    True\n",
       "ShapeFactor4    -2.628540       2.628540  11.691832    True"
      ]
     },
     "execution_count": 18,
     "metadata": {},
     "output_type": "execute_result"
    }
   ],
   "source": [
    "skewness_check=display_skew_kurt(data)\n",
    "skewness_check   "
   ]
  },
  {
   "cell_type": "code",
   "execution_count": 19,
   "metadata": {},
   "outputs": [
    {
     "data": {
      "text/plain": [
       "13"
      ]
     },
     "execution_count": 19,
     "metadata": {},
     "output_type": "execute_result"
    }
   ],
   "source": [
    "skewed_columns=skewness_check.index[skewness_check['Skewed'] == True].tolist()\n",
    "len(skewed_columns)"
   ]
  },
  {
   "cell_type": "markdown",
   "metadata": {},
   "source": [
    "from \n",
    "\n",
    "-0.5 to 0.5..................no skewness\n",
    "\n",
    "0.5 to 1 OR -0.5 to -1.........moderate skewness\n",
    "\n",
    "if > 1  or <-1 .....................high skewness"
   ]
  },
  {
   "cell_type": "markdown",
   "metadata": {},
   "source": [
    "# Correlation "
   ]
  },
  {
   "cell_type": "code",
   "execution_count": 20,
   "metadata": {},
   "outputs": [],
   "source": [
    "def encode_target(data):\n",
    "    data['y'].replace({'DERMASON':0,'SIRA':1,'SEKER':2,'HOROZ':3,'CALI':4,'BARBUNYA':5,'BOMBAY':6},inplace=True)\n",
    "    return data"
   ]
  },
  {
   "cell_type": "code",
   "execution_count": 21,
   "metadata": {},
   "outputs": [],
   "source": [
    "def decode_target(data):\n",
    "    data['y'].replace({0:'DERMASON',1:'SIRA',2:'SEKER',3:'HOROZ',4:'CALI',5:'BARBUNYA',6:'BOMBAY'},inplace=True)\n",
    "    return data"
   ]
  },
  {
   "cell_type": "code",
   "execution_count": 22,
   "metadata": {},
   "outputs": [
    {
     "data": {
      "text/html": [
       "<div>\n",
       "<style scoped>\n",
       "    .dataframe tbody tr th:only-of-type {\n",
       "        vertical-align: middle;\n",
       "    }\n",
       "\n",
       "    .dataframe tbody tr th {\n",
       "        vertical-align: top;\n",
       "    }\n",
       "\n",
       "    .dataframe thead th {\n",
       "        text-align: right;\n",
       "    }\n",
       "</style>\n",
       "<table border=\"1\" class=\"dataframe\">\n",
       "  <thead>\n",
       "    <tr style=\"text-align: right;\">\n",
       "      <th></th>\n",
       "      <th>ID</th>\n",
       "      <th>Area</th>\n",
       "      <th>Perimeter</th>\n",
       "      <th>MajorAxisLength</th>\n",
       "      <th>MinorAxisLength</th>\n",
       "      <th>AspectRation</th>\n",
       "      <th>Eccentricity</th>\n",
       "      <th>ConvexArea</th>\n",
       "      <th>EquivDiameter</th>\n",
       "      <th>Extent</th>\n",
       "      <th>Solidity</th>\n",
       "      <th>roundness</th>\n",
       "      <th>Compactness</th>\n",
       "      <th>ShapeFactor1</th>\n",
       "      <th>ShapeFactor2</th>\n",
       "      <th>ShapeFactor3</th>\n",
       "      <th>ShapeFactor4</th>\n",
       "      <th>y</th>\n",
       "    </tr>\n",
       "  </thead>\n",
       "  <tbody>\n",
       "    <tr>\n",
       "      <th>0</th>\n",
       "      <td>0</td>\n",
       "      <td>58238</td>\n",
       "      <td>971.303</td>\n",
       "      <td>397.202654</td>\n",
       "      <td>186.945510</td>\n",
       "      <td>2.124697</td>\n",
       "      <td>0.882317</td>\n",
       "      <td>58977</td>\n",
       "      <td>272.306674</td>\n",
       "      <td>0.604756</td>\n",
       "      <td>0.987470</td>\n",
       "      <td>0.775723</td>\n",
       "      <td>0.685561</td>\n",
       "      <td>0.006820</td>\n",
       "      <td>0.000929</td>\n",
       "      <td>0.469994</td>\n",
       "      <td>0.998595</td>\n",
       "      <td>3</td>\n",
       "    </tr>\n",
       "    <tr>\n",
       "      <th>1</th>\n",
       "      <td>1</td>\n",
       "      <td>44515</td>\n",
       "      <td>757.601</td>\n",
       "      <td>265.590470</td>\n",
       "      <td>213.967453</td>\n",
       "      <td>1.241266</td>\n",
       "      <td>0.592420</td>\n",
       "      <td>44780</td>\n",
       "      <td>238.071960</td>\n",
       "      <td>0.771745</td>\n",
       "      <td>0.994082</td>\n",
       "      <td>0.974620</td>\n",
       "      <td>0.896387</td>\n",
       "      <td>0.005966</td>\n",
       "      <td>0.002376</td>\n",
       "      <td>0.803510</td>\n",
       "      <td>0.997370</td>\n",
       "      <td>2</td>\n",
       "    </tr>\n",
       "    <tr>\n",
       "      <th>2</th>\n",
       "      <td>2</td>\n",
       "      <td>31662</td>\n",
       "      <td>653.783</td>\n",
       "      <td>239.902428</td>\n",
       "      <td>168.421505</td>\n",
       "      <td>1.424417</td>\n",
       "      <td>0.712136</td>\n",
       "      <td>32034</td>\n",
       "      <td>200.781748</td>\n",
       "      <td>0.801407</td>\n",
       "      <td>0.988387</td>\n",
       "      <td>0.930853</td>\n",
       "      <td>0.836931</td>\n",
       "      <td>0.007577</td>\n",
       "      <td>0.002293</td>\n",
       "      <td>0.700453</td>\n",
       "      <td>0.997737</td>\n",
       "      <td>0</td>\n",
       "    </tr>\n",
       "    <tr>\n",
       "      <th>3</th>\n",
       "      <td>3</td>\n",
       "      <td>38778</td>\n",
       "      <td>734.020</td>\n",
       "      <td>268.446281</td>\n",
       "      <td>184.061923</td>\n",
       "      <td>1.458456</td>\n",
       "      <td>0.727925</td>\n",
       "      <td>39208</td>\n",
       "      <td>222.201897</td>\n",
       "      <td>0.766137</td>\n",
       "      <td>0.989033</td>\n",
       "      <td>0.904439</td>\n",
       "      <td>0.827733</td>\n",
       "      <td>0.006923</td>\n",
       "      <td>0.002005</td>\n",
       "      <td>0.685142</td>\n",
       "      <td>0.999250</td>\n",
       "      <td>0</td>\n",
       "    </tr>\n",
       "    <tr>\n",
       "      <th>4</th>\n",
       "      <td>4</td>\n",
       "      <td>42530</td>\n",
       "      <td>775.403</td>\n",
       "      <td>281.212824</td>\n",
       "      <td>193.236878</td>\n",
       "      <td>1.455275</td>\n",
       "      <td>0.726511</td>\n",
       "      <td>43028</td>\n",
       "      <td>232.703412</td>\n",
       "      <td>0.729816</td>\n",
       "      <td>0.988426</td>\n",
       "      <td>0.888895</td>\n",
       "      <td>0.827499</td>\n",
       "      <td>0.006612</td>\n",
       "      <td>0.001912</td>\n",
       "      <td>0.684755</td>\n",
       "      <td>0.996507</td>\n",
       "      <td>1</td>\n",
       "    </tr>\n",
       "    <tr>\n",
       "      <th>...</th>\n",
       "      <td>...</td>\n",
       "      <td>...</td>\n",
       "      <td>...</td>\n",
       "      <td>...</td>\n",
       "      <td>...</td>\n",
       "      <td>...</td>\n",
       "      <td>...</td>\n",
       "      <td>...</td>\n",
       "      <td>...</td>\n",
       "      <td>...</td>\n",
       "      <td>...</td>\n",
       "      <td>...</td>\n",
       "      <td>...</td>\n",
       "      <td>...</td>\n",
       "      <td>...</td>\n",
       "      <td>...</td>\n",
       "      <td>...</td>\n",
       "      <td>...</td>\n",
       "    </tr>\n",
       "    <tr>\n",
       "      <th>10829</th>\n",
       "      <td>10829</td>\n",
       "      <td>37777</td>\n",
       "      <td>716.007</td>\n",
       "      <td>250.174662</td>\n",
       "      <td>192.704033</td>\n",
       "      <td>1.298233</td>\n",
       "      <td>0.637708</td>\n",
       "      <td>38174</td>\n",
       "      <td>219.315230</td>\n",
       "      <td>0.770519</td>\n",
       "      <td>0.989600</td>\n",
       "      <td>0.925983</td>\n",
       "      <td>0.876648</td>\n",
       "      <td>0.006622</td>\n",
       "      <td>0.002413</td>\n",
       "      <td>0.768513</td>\n",
       "      <td>0.997708</td>\n",
       "      <td>2</td>\n",
       "    </tr>\n",
       "    <tr>\n",
       "      <th>10830</th>\n",
       "      <td>10830</td>\n",
       "      <td>32187</td>\n",
       "      <td>667.621</td>\n",
       "      <td>247.778775</td>\n",
       "      <td>165.786862</td>\n",
       "      <td>1.494562</td>\n",
       "      <td>0.743179</td>\n",
       "      <td>32582</td>\n",
       "      <td>202.439525</td>\n",
       "      <td>0.731805</td>\n",
       "      <td>0.987877</td>\n",
       "      <td>0.907466</td>\n",
       "      <td>0.817017</td>\n",
       "      <td>0.007698</td>\n",
       "      <td>0.002116</td>\n",
       "      <td>0.667517</td>\n",
       "      <td>0.997646</td>\n",
       "      <td>0</td>\n",
       "    </tr>\n",
       "    <tr>\n",
       "      <th>10831</th>\n",
       "      <td>10831</td>\n",
       "      <td>81837</td>\n",
       "      <td>1095.937</td>\n",
       "      <td>433.838186</td>\n",
       "      <td>241.527026</td>\n",
       "      <td>1.796230</td>\n",
       "      <td>0.830699</td>\n",
       "      <td>82554</td>\n",
       "      <td>322.797312</td>\n",
       "      <td>0.771996</td>\n",
       "      <td>0.991315</td>\n",
       "      <td>0.856226</td>\n",
       "      <td>0.744050</td>\n",
       "      <td>0.005301</td>\n",
       "      <td>0.001002</td>\n",
       "      <td>0.553610</td>\n",
       "      <td>0.994412</td>\n",
       "      <td>4</td>\n",
       "    </tr>\n",
       "    <tr>\n",
       "      <th>10832</th>\n",
       "      <td>10832</td>\n",
       "      <td>48212</td>\n",
       "      <td>826.362</td>\n",
       "      <td>309.639462</td>\n",
       "      <td>199.285811</td>\n",
       "      <td>1.553746</td>\n",
       "      <td>0.765357</td>\n",
       "      <td>48777</td>\n",
       "      <td>247.760822</td>\n",
       "      <td>0.677002</td>\n",
       "      <td>0.988417</td>\n",
       "      <td>0.887206</td>\n",
       "      <td>0.800159</td>\n",
       "      <td>0.006422</td>\n",
       "      <td>0.001624</td>\n",
       "      <td>0.640255</td>\n",
       "      <td>0.994793</td>\n",
       "      <td>1</td>\n",
       "    </tr>\n",
       "    <tr>\n",
       "      <th>10833</th>\n",
       "      <td>10833</td>\n",
       "      <td>28026</td>\n",
       "      <td>610.943</td>\n",
       "      <td>215.446569</td>\n",
       "      <td>165.740377</td>\n",
       "      <td>1.299904</td>\n",
       "      <td>0.638903</td>\n",
       "      <td>28302</td>\n",
       "      <td>188.901592</td>\n",
       "      <td>0.776688</td>\n",
       "      <td>0.990248</td>\n",
       "      <td>0.943560</td>\n",
       "      <td>0.876791</td>\n",
       "      <td>0.007687</td>\n",
       "      <td>0.002802</td>\n",
       "      <td>0.768762</td>\n",
       "      <td>0.999317</td>\n",
       "      <td>0</td>\n",
       "    </tr>\n",
       "  </tbody>\n",
       "</table>\n",
       "<p>10834 rows × 18 columns</p>\n",
       "</div>"
      ],
      "text/plain": [
       "          ID   Area  Perimeter  MajorAxisLength  MinorAxisLength  \\\n",
       "0          0  58238    971.303       397.202654       186.945510   \n",
       "1          1  44515    757.601       265.590470       213.967453   \n",
       "2          2  31662    653.783       239.902428       168.421505   \n",
       "3          3  38778    734.020       268.446281       184.061923   \n",
       "4          4  42530    775.403       281.212824       193.236878   \n",
       "...      ...    ...        ...              ...              ...   \n",
       "10829  10829  37777    716.007       250.174662       192.704033   \n",
       "10830  10830  32187    667.621       247.778775       165.786862   \n",
       "10831  10831  81837   1095.937       433.838186       241.527026   \n",
       "10832  10832  48212    826.362       309.639462       199.285811   \n",
       "10833  10833  28026    610.943       215.446569       165.740377   \n",
       "\n",
       "       AspectRation  Eccentricity  ConvexArea  EquivDiameter    Extent  \\\n",
       "0          2.124697      0.882317       58977     272.306674  0.604756   \n",
       "1          1.241266      0.592420       44780     238.071960  0.771745   \n",
       "2          1.424417      0.712136       32034     200.781748  0.801407   \n",
       "3          1.458456      0.727925       39208     222.201897  0.766137   \n",
       "4          1.455275      0.726511       43028     232.703412  0.729816   \n",
       "...             ...           ...         ...            ...       ...   \n",
       "10829      1.298233      0.637708       38174     219.315230  0.770519   \n",
       "10830      1.494562      0.743179       32582     202.439525  0.731805   \n",
       "10831      1.796230      0.830699       82554     322.797312  0.771996   \n",
       "10832      1.553746      0.765357       48777     247.760822  0.677002   \n",
       "10833      1.299904      0.638903       28302     188.901592  0.776688   \n",
       "\n",
       "       Solidity  roundness  Compactness  ShapeFactor1  ShapeFactor2  \\\n",
       "0      0.987470   0.775723     0.685561      0.006820      0.000929   \n",
       "1      0.994082   0.974620     0.896387      0.005966      0.002376   \n",
       "2      0.988387   0.930853     0.836931      0.007577      0.002293   \n",
       "3      0.989033   0.904439     0.827733      0.006923      0.002005   \n",
       "4      0.988426   0.888895     0.827499      0.006612      0.001912   \n",
       "...         ...        ...          ...           ...           ...   \n",
       "10829  0.989600   0.925983     0.876648      0.006622      0.002413   \n",
       "10830  0.987877   0.907466     0.817017      0.007698      0.002116   \n",
       "10831  0.991315   0.856226     0.744050      0.005301      0.001002   \n",
       "10832  0.988417   0.887206     0.800159      0.006422      0.001624   \n",
       "10833  0.990248   0.943560     0.876791      0.007687      0.002802   \n",
       "\n",
       "       ShapeFactor3  ShapeFactor4  y  \n",
       "0          0.469994      0.998595  3  \n",
       "1          0.803510      0.997370  2  \n",
       "2          0.700453      0.997737  0  \n",
       "3          0.685142      0.999250  0  \n",
       "4          0.684755      0.996507  1  \n",
       "...             ...           ... ..  \n",
       "10829      0.768513      0.997708  2  \n",
       "10830      0.667517      0.997646  0  \n",
       "10831      0.553610      0.994412  4  \n",
       "10832      0.640255      0.994793  1  \n",
       "10833      0.768762      0.999317  0  \n",
       "\n",
       "[10834 rows x 18 columns]"
      ]
     },
     "execution_count": 22,
     "metadata": {},
     "output_type": "execute_result"
    }
   ],
   "source": [
    "data_encoded=encode_target(data)\n",
    "data_encoded"
   ]
  },
  {
   "cell_type": "code",
   "execution_count": 23,
   "metadata": {},
   "outputs": [
    {
     "data": {
      "text/plain": [
       "y                  1.000000\n",
       "Perimeter          0.856849\n",
       "EquivDiameter      0.834189\n",
       "MajorAxisLength    0.814923\n",
       "MinorAxisLength    0.784747\n",
       "ConvexArea         0.772137\n",
       "Area               0.770679\n",
       "AspectRation       0.307983\n",
       "Eccentricity       0.238923\n",
       "ID                 0.012671\n",
       "Extent            -0.012577\n",
       "ShapeFactor3      -0.288999\n",
       "Compactness       -0.297618\n",
       "Solidity          -0.328793\n",
       "ShapeFactor4      -0.365705\n",
       "roundness         -0.555520\n",
       "ShapeFactor2      -0.637964\n",
       "ShapeFactor1      -0.819143\n",
       "Name: y, dtype: float64"
      ]
     },
     "execution_count": 23,
     "metadata": {},
     "output_type": "execute_result"
    }
   ],
   "source": [
    "data_encoded.corr()['y'].sort_values(ascending=False)"
   ]
  },
  {
   "cell_type": "code",
   "execution_count": 24,
   "metadata": {},
   "outputs": [
    {
     "data": {
      "text/html": [
       "<style type=\"text/css\">\n",
       "#T_bacdd_row0_col0, #T_bacdd_row1_col1, #T_bacdd_row1_col7, #T_bacdd_row2_col2, #T_bacdd_row3_col3, #T_bacdd_row4_col4, #T_bacdd_row5_col5, #T_bacdd_row6_col6, #T_bacdd_row7_col1, #T_bacdd_row7_col7, #T_bacdd_row8_col8, #T_bacdd_row9_col9, #T_bacdd_row10_col10, #T_bacdd_row11_col11, #T_bacdd_row12_col12, #T_bacdd_row12_col15, #T_bacdd_row13_col13, #T_bacdd_row14_col14, #T_bacdd_row15_col12, #T_bacdd_row15_col15, #T_bacdd_row16_col16, #T_bacdd_row17_col17 {\n",
       "  background-color: #b40426;\n",
       "  color: #f1f1f1;\n",
       "}\n",
       "#T_bacdd_row0_col1, #T_bacdd_row0_col7, #T_bacdd_row9_col2 {\n",
       "  background-color: #d1dae9;\n",
       "  color: #000000;\n",
       "}\n",
       "#T_bacdd_row0_col2, #T_bacdd_row0_col3 {\n",
       "  background-color: #d3dbe7;\n",
       "  color: #000000;\n",
       "}\n",
       "#T_bacdd_row0_col4, #T_bacdd_row4_col12, #T_bacdd_row5_col4, #T_bacdd_row15_col13 {\n",
       "  background-color: #d9dce1;\n",
       "  color: #000000;\n",
       "}\n",
       "#T_bacdd_row0_col5, #T_bacdd_row5_col13, #T_bacdd_row6_col4 {\n",
       "  background-color: #dcdddd;\n",
       "  color: #000000;\n",
       "}\n",
       "#T_bacdd_row0_col6, #T_bacdd_row0_col12, #T_bacdd_row0_col15, #T_bacdd_row4_col5, #T_bacdd_row6_col13, #T_bacdd_row9_col1, #T_bacdd_row13_col12, #T_bacdd_row13_col15 {\n",
       "  background-color: #dbdcde;\n",
       "  color: #000000;\n",
       "}\n",
       "#T_bacdd_row0_col8 {\n",
       "  background-color: #d5dbe5;\n",
       "  color: #000000;\n",
       "}\n",
       "#T_bacdd_row0_col9, #T_bacdd_row11_col7, #T_bacdd_row17_col9 {\n",
       "  background-color: #92b4fe;\n",
       "  color: #000000;\n",
       "}\n",
       "#T_bacdd_row0_col10 {\n",
       "  background-color: #88abfd;\n",
       "  color: #000000;\n",
       "}\n",
       "#T_bacdd_row0_col11, #T_bacdd_row9_col3, #T_bacdd_row9_col16 {\n",
       "  background-color: #c7d7f0;\n",
       "  color: #000000;\n",
       "}\n",
       "#T_bacdd_row0_col13, #T_bacdd_row4_col15, #T_bacdd_row12_col13 {\n",
       "  background-color: #d8dce2;\n",
       "  color: #000000;\n",
       "}\n",
       "#T_bacdd_row0_col14, #T_bacdd_row0_col17 {\n",
       "  background-color: #d2dbe8;\n",
       "  color: #000000;\n",
       "}\n",
       "#T_bacdd_row0_col16, #T_bacdd_row8_col12 {\n",
       "  background-color: #a9c6fd;\n",
       "  color: #000000;\n",
       "}\n",
       "#T_bacdd_row1_col0, #T_bacdd_row5_col14, #T_bacdd_row6_col12, #T_bacdd_row7_col0, #T_bacdd_row13_col0, #T_bacdd_row14_col0 {\n",
       "  background-color: #3d50c3;\n",
       "  color: #f1f1f1;\n",
       "}\n",
       "#T_bacdd_row1_col2, #T_bacdd_row2_col1, #T_bacdd_row2_col7, #T_bacdd_row7_col2 {\n",
       "  background-color: #ba162b;\n",
       "  color: #f1f1f1;\n",
       "}\n",
       "#T_bacdd_row1_col3, #T_bacdd_row3_col1, #T_bacdd_row3_col7, #T_bacdd_row5_col6, #T_bacdd_row6_col5, #T_bacdd_row7_col3 {\n",
       "  background-color: #c12b30;\n",
       "  color: #f1f1f1;\n",
       "}\n",
       "#T_bacdd_row1_col4, #T_bacdd_row4_col1, #T_bacdd_row4_col7, #T_bacdd_row4_col8, #T_bacdd_row7_col4, #T_bacdd_row8_col4 {\n",
       "  background-color: #bd1f2d;\n",
       "  color: #f1f1f1;\n",
       "}\n",
       "#T_bacdd_row1_col5, #T_bacdd_row5_col17, #T_bacdd_row7_col5, #T_bacdd_row16_col13 {\n",
       "  background-color: #f4c6af;\n",
       "  color: #000000;\n",
       "}\n",
       "#T_bacdd_row1_col6, #T_bacdd_row7_col6 {\n",
       "  background-color: #f5c2aa;\n",
       "  color: #000000;\n",
       "}\n",
       "#T_bacdd_row1_col8, #T_bacdd_row8_col1, #T_bacdd_row8_col7 {\n",
       "  background-color: #b70d28;\n",
       "  color: #f1f1f1;\n",
       "}\n",
       "#T_bacdd_row1_col9, #T_bacdd_row4_col11, #T_bacdd_row7_col9, #T_bacdd_row12_col1 {\n",
       "  background-color: #a3c2fe;\n",
       "  color: #000000;\n",
       "}\n",
       "#T_bacdd_row1_col10, #T_bacdd_row14_col8 {\n",
       "  background-color: #5875e1;\n",
       "  color: #f1f1f1;\n",
       "}\n",
       "#T_bacdd_row1_col11 {\n",
       "  background-color: #86a9fc;\n",
       "  color: #f1f1f1;\n",
       "}\n",
       "#T_bacdd_row1_col12, #T_bacdd_row7_col12, #T_bacdd_row10_col5 {\n",
       "  background-color: #b3cdfb;\n",
       "  color: #000000;\n",
       "}\n",
       "#T_bacdd_row1_col13, #T_bacdd_row2_col14, #T_bacdd_row5_col10, #T_bacdd_row7_col13 {\n",
       "  background-color: #4961d2;\n",
       "  color: #f1f1f1;\n",
       "}\n",
       "#T_bacdd_row1_col14, #T_bacdd_row17_col11, #T_bacdd_row17_col14 {\n",
       "  background-color: #5f7fe8;\n",
       "  color: #f1f1f1;\n",
       "}\n",
       "#T_bacdd_row1_col15, #T_bacdd_row7_col15 {\n",
       "  background-color: #b2ccfb;\n",
       "  color: #000000;\n",
       "}\n",
       "#T_bacdd_row1_col16, #T_bacdd_row17_col16 {\n",
       "  background-color: #5470de;\n",
       "  color: #f1f1f1;\n",
       "}\n",
       "#T_bacdd_row1_col17, #T_bacdd_row7_col17, #T_bacdd_row14_col11 {\n",
       "  background-color: #de614d;\n",
       "  color: #f1f1f1;\n",
       "}\n",
       "#T_bacdd_row2_col0, #T_bacdd_row2_col10, #T_bacdd_row6_col0 {\n",
       "  background-color: #3f53c6;\n",
       "  color: #f1f1f1;\n",
       "}\n",
       "#T_bacdd_row2_col3, #T_bacdd_row3_col2 {\n",
       "  background-color: #b8122a;\n",
       "  color: #f1f1f1;\n",
       "}\n",
       "#T_bacdd_row2_col4, #T_bacdd_row4_col2 {\n",
       "  background-color: #c43032;\n",
       "  color: #f1f1f1;\n",
       "}\n",
       "#T_bacdd_row2_col5, #T_bacdd_row14_col16 {\n",
       "  background-color: #f7b093;\n",
       "  color: #000000;\n",
       "}\n",
       "#T_bacdd_row2_col6 {\n",
       "  background-color: #f7af91;\n",
       "  color: #000000;\n",
       "}\n",
       "#T_bacdd_row2_col8, #T_bacdd_row7_col8, #T_bacdd_row8_col2 {\n",
       "  background-color: #b50927;\n",
       "  color: #f1f1f1;\n",
       "}\n",
       "#T_bacdd_row2_col9, #T_bacdd_row16_col1, #T_bacdd_row16_col7, #T_bacdd_row16_col8 {\n",
       "  background-color: #90b2fe;\n",
       "  color: #000000;\n",
       "}\n",
       "#T_bacdd_row2_col11 {\n",
       "  background-color: #6180e9;\n",
       "  color: #f1f1f1;\n",
       "}\n",
       "#T_bacdd_row2_col12, #T_bacdd_row15_col17 {\n",
       "  background-color: #9bbcff;\n",
       "  color: #000000;\n",
       "}\n",
       "#T_bacdd_row2_col13 {\n",
       "  background-color: #465ecf;\n",
       "  color: #f1f1f1;\n",
       "}\n",
       "#T_bacdd_row2_col15, #T_bacdd_row12_col17 {\n",
       "  background-color: #9abbff;\n",
       "  color: #000000;\n",
       "}\n",
       "#T_bacdd_row2_col16, #T_bacdd_row3_col10 {\n",
       "  background-color: #445acc;\n",
       "  color: #f1f1f1;\n",
       "}\n",
       "#T_bacdd_row2_col17 {\n",
       "  background-color: #d0473d;\n",
       "  color: #f1f1f1;\n",
       "}\n",
       "#T_bacdd_row3_col0, #T_bacdd_row4_col0, #T_bacdd_row8_col0, #T_bacdd_row12_col0, #T_bacdd_row15_col0, #T_bacdd_row16_col0 {\n",
       "  background-color: #3e51c5;\n",
       "  color: #f1f1f1;\n",
       "}\n",
       "#T_bacdd_row3_col4, #T_bacdd_row17_col8 {\n",
       "  background-color: #d24b40;\n",
       "  color: #f1f1f1;\n",
       "}\n",
       "#T_bacdd_row3_col5, #T_bacdd_row16_col10 {\n",
       "  background-color: #f29072;\n",
       "  color: #f1f1f1;\n",
       "}\n",
       "#T_bacdd_row3_col6 {\n",
       "  background-color: #f29274;\n",
       "  color: #f1f1f1;\n",
       "}\n",
       "#T_bacdd_row3_col8, #T_bacdd_row8_col3 {\n",
       "  background-color: #bb1b2c;\n",
       "  color: #f1f1f1;\n",
       "}\n",
       "#T_bacdd_row3_col9 {\n",
       "  background-color: #82a6fb;\n",
       "  color: #f1f1f1;\n",
       "}\n",
       "#T_bacdd_row3_col11, #T_bacdd_row14_col17 {\n",
       "  background-color: #5977e3;\n",
       "  color: #f1f1f1;\n",
       "}\n",
       "#T_bacdd_row3_col12 {\n",
       "  background-color: #80a3fa;\n",
       "  color: #f1f1f1;\n",
       "}\n",
       "#T_bacdd_row3_col13, #T_bacdd_row7_col10 {\n",
       "  background-color: #5572df;\n",
       "  color: #f1f1f1;\n",
       "}\n",
       "#T_bacdd_row3_col14, #T_bacdd_row3_col16, #T_bacdd_row4_col13, #T_bacdd_row5_col9, #T_bacdd_row5_col11, #T_bacdd_row5_col12, #T_bacdd_row5_col15, #T_bacdd_row6_col14, #T_bacdd_row6_col15, #T_bacdd_row10_col0, #T_bacdd_row11_col0, #T_bacdd_row12_col5, #T_bacdd_row13_col1, #T_bacdd_row13_col2, #T_bacdd_row13_col4, #T_bacdd_row13_col7, #T_bacdd_row13_col8, #T_bacdd_row13_col17, #T_bacdd_row14_col3, #T_bacdd_row15_col6, #T_bacdd_row17_col10 {\n",
       "  background-color: #3b4cc0;\n",
       "  color: #f1f1f1;\n",
       "}\n",
       "#T_bacdd_row3_col15 {\n",
       "  background-color: #7ea1fa;\n",
       "  color: #f1f1f1;\n",
       "}\n",
       "#T_bacdd_row3_col17 {\n",
       "  background-color: #d75445;\n",
       "  color: #f1f1f1;\n",
       "}\n",
       "#T_bacdd_row4_col3, #T_bacdd_row8_col17 {\n",
       "  background-color: #d44e41;\n",
       "  color: #f1f1f1;\n",
       "}\n",
       "#T_bacdd_row4_col6, #T_bacdd_row13_col5, #T_bacdd_row14_col10 {\n",
       "  background-color: #dedcdb;\n",
       "  color: #000000;\n",
       "}\n",
       "#T_bacdd_row4_col9 {\n",
       "  background-color: #bad0f8;\n",
       "  color: #000000;\n",
       "}\n",
       "#T_bacdd_row4_col10 {\n",
       "  background-color: #6282ea;\n",
       "  color: #f1f1f1;\n",
       "}\n",
       "#T_bacdd_row4_col14 {\n",
       "  background-color: #7da0f9;\n",
       "  color: #f1f1f1;\n",
       "}\n",
       "#T_bacdd_row4_col16, #T_bacdd_row11_col17 {\n",
       "  background-color: #688aef;\n",
       "  color: #f1f1f1;\n",
       "}\n",
       "#T_bacdd_row4_col17, #T_bacdd_row11_col12, #T_bacdd_row11_col14 {\n",
       "  background-color: #dc5d4a;\n",
       "  color: #f1f1f1;\n",
       "}\n",
       "#T_bacdd_row5_col0 {\n",
       "  background-color: #4055c8;\n",
       "  color: #f1f1f1;\n",
       "}\n",
       "#T_bacdd_row5_col1, #T_bacdd_row5_col7 {\n",
       "  background-color: #f1cdba;\n",
       "  color: #000000;\n",
       "}\n",
       "#T_bacdd_row5_col2, #T_bacdd_row9_col15 {\n",
       "  background-color: #f7b79b;\n",
       "  color: #000000;\n",
       "}\n",
       "#T_bacdd_row5_col3 {\n",
       "  background-color: #f39778;\n",
       "  color: #000000;\n",
       "}\n",
       "#T_bacdd_row5_col8 {\n",
       "  background-color: #f5c1a9;\n",
       "  color: #000000;\n",
       "}\n",
       "#T_bacdd_row5_col16, #T_bacdd_row6_col10, #T_bacdd_row6_col11, #T_bacdd_row6_col16 {\n",
       "  background-color: #4257c9;\n",
       "  color: #f1f1f1;\n",
       "}\n",
       "#T_bacdd_row6_col1, #T_bacdd_row6_col7 {\n",
       "  background-color: #f2cab5;\n",
       "  color: #000000;\n",
       "}\n",
       "#T_bacdd_row6_col2, #T_bacdd_row9_col12 {\n",
       "  background-color: #f7b599;\n",
       "  color: #000000;\n",
       "}\n",
       "#T_bacdd_row6_col3, #T_bacdd_row16_col14 {\n",
       "  background-color: #f4987a;\n",
       "  color: #000000;\n",
       "}\n",
       "#T_bacdd_row6_col8 {\n",
       "  background-color: #f6bfa6;\n",
       "  color: #000000;\n",
       "}\n",
       "#T_bacdd_row6_col9 {\n",
       "  background-color: #455cce;\n",
       "  color: #f1f1f1;\n",
       "}\n",
       "#T_bacdd_row6_col17 {\n",
       "  background-color: #efcfbf;\n",
       "  color: #000000;\n",
       "}\n",
       "#T_bacdd_row7_col11, #T_bacdd_row16_col2 {\n",
       "  background-color: #85a8fc;\n",
       "  color: #f1f1f1;\n",
       "}\n",
       "#T_bacdd_row7_col14, #T_bacdd_row11_col5 {\n",
       "  background-color: #5e7de7;\n",
       "  color: #f1f1f1;\n",
       "}\n",
       "#T_bacdd_row7_col16 {\n",
       "  background-color: #536edd;\n",
       "  color: #f1f1f1;\n",
       "}\n",
       "#T_bacdd_row8_col5, #T_bacdd_row10_col12, #T_bacdd_row10_col15, #T_bacdd_row11_col16, #T_bacdd_row17_col5 {\n",
       "  background-color: #f6bda2;\n",
       "  color: #000000;\n",
       "}\n",
       "#T_bacdd_row8_col6, #T_bacdd_row12_col16, #T_bacdd_row15_col16 {\n",
       "  background-color: #f7ba9f;\n",
       "  color: #000000;\n",
       "}\n",
       "#T_bacdd_row8_col9, #T_bacdd_row10_col2, #T_bacdd_row12_col8 {\n",
       "  background-color: #9ebeff;\n",
       "  color: #000000;\n",
       "}\n",
       "#T_bacdd_row8_col10 {\n",
       "  background-color: #506bda;\n",
       "  color: #f1f1f1;\n",
       "}\n",
       "#T_bacdd_row8_col11 {\n",
       "  background-color: #7699f6;\n",
       "  color: #f1f1f1;\n",
       "}\n",
       "#T_bacdd_row8_col13, #T_bacdd_row17_col0 {\n",
       "  background-color: #4358cb;\n",
       "  color: #f1f1f1;\n",
       "}\n",
       "#T_bacdd_row8_col14, #T_bacdd_row14_col5 {\n",
       "  background-color: #516ddb;\n",
       "  color: #f1f1f1;\n",
       "}\n",
       "#T_bacdd_row8_col15 {\n",
       "  background-color: #a7c5fe;\n",
       "  color: #000000;\n",
       "}\n",
       "#T_bacdd_row8_col16, #T_bacdd_row14_col6 {\n",
       "  background-color: #4c66d6;\n",
       "  color: #f1f1f1;\n",
       "}\n",
       "#T_bacdd_row9_col0, #T_bacdd_row12_col6, #T_bacdd_row15_col5 {\n",
       "  background-color: #3c4ec2;\n",
       "  color: #f1f1f1;\n",
       "}\n",
       "#T_bacdd_row9_col4, #T_bacdd_row13_col11 {\n",
       "  background-color: #ecd3c5;\n",
       "  color: #000000;\n",
       "}\n",
       "#T_bacdd_row9_col5, #T_bacdd_row12_col7, #T_bacdd_row15_col1, #T_bacdd_row15_col7 {\n",
       "  background-color: #a2c1ff;\n",
       "  color: #000000;\n",
       "}\n",
       "#T_bacdd_row9_col6 {\n",
       "  background-color: #aac7fd;\n",
       "  color: #000000;\n",
       "}\n",
       "#T_bacdd_row9_col7, #T_bacdd_row9_col8 {\n",
       "  background-color: #dadce0;\n",
       "  color: #000000;\n",
       "}\n",
       "#T_bacdd_row9_col10 {\n",
       "  background-color: #bbd1f8;\n",
       "  color: #000000;\n",
       "}\n",
       "#T_bacdd_row9_col11 {\n",
       "  background-color: #f5c4ac;\n",
       "  color: #000000;\n",
       "}\n",
       "#T_bacdd_row9_col13 {\n",
       "  background-color: #c4d5f3;\n",
       "  color: #000000;\n",
       "}\n",
       "#T_bacdd_row9_col14 {\n",
       "  background-color: #f0cdbb;\n",
       "  color: #000000;\n",
       "}\n",
       "#T_bacdd_row9_col17, #T_bacdd_row14_col9 {\n",
       "  background-color: #cdd9ec;\n",
       "  color: #000000;\n",
       "}\n",
       "#T_bacdd_row10_col1, #T_bacdd_row10_col8, #T_bacdd_row17_col15 {\n",
       "  background-color: #afcafc;\n",
       "  color: #000000;\n",
       "}\n",
       "#T_bacdd_row10_col3 {\n",
       "  background-color: #a1c0ff;\n",
       "  color: #000000;\n",
       "}\n",
       "#T_bacdd_row10_col4, #T_bacdd_row10_col9 {\n",
       "  background-color: #c1d4f4;\n",
       "  color: #000000;\n",
       "}\n",
       "#T_bacdd_row10_col6, #T_bacdd_row10_col7, #T_bacdd_row16_col4, #T_bacdd_row17_col12 {\n",
       "  background-color: #aec9fc;\n",
       "  color: #000000;\n",
       "}\n",
       "#T_bacdd_row10_col11 {\n",
       "  background-color: #f08b6e;\n",
       "  color: #f1f1f1;\n",
       "}\n",
       "#T_bacdd_row10_col13 {\n",
       "  background-color: #edd2c3;\n",
       "  color: #000000;\n",
       "}\n",
       "#T_bacdd_row10_col14 {\n",
       "  background-color: #f6bea4;\n",
       "  color: #000000;\n",
       "}\n",
       "#T_bacdd_row10_col16 {\n",
       "  background-color: #ee8669;\n",
       "  color: #f1f1f1;\n",
       "}\n",
       "#T_bacdd_row10_col17 {\n",
       "  background-color: #94b6ff;\n",
       "  color: #000000;\n",
       "}\n",
       "#T_bacdd_row11_col1, #T_bacdd_row16_col5, #T_bacdd_row16_col6 {\n",
       "  background-color: #93b5fe;\n",
       "  color: #000000;\n",
       "}\n",
       "#T_bacdd_row11_col2 {\n",
       "  background-color: #7295f4;\n",
       "  color: #f1f1f1;\n",
       "}\n",
       "#T_bacdd_row11_col3 {\n",
       "  background-color: #6788ee;\n",
       "  color: #f1f1f1;\n",
       "}\n",
       "#T_bacdd_row11_col4, #T_bacdd_row16_col9 {\n",
       "  background-color: #b9d0f9;\n",
       "  color: #000000;\n",
       "}\n",
       "#T_bacdd_row11_col6 {\n",
       "  background-color: #6485ec;\n",
       "  color: #f1f1f1;\n",
       "}\n",
       "#T_bacdd_row11_col8, #T_bacdd_row12_col2, #T_bacdd_row15_col2 {\n",
       "  background-color: #8badfd;\n",
       "  color: #000000;\n",
       "}\n",
       "#T_bacdd_row11_col9 {\n",
       "  background-color: #e2dad5;\n",
       "  color: #000000;\n",
       "}\n",
       "#T_bacdd_row11_col10 {\n",
       "  background-color: #f7a98b;\n",
       "  color: #000000;\n",
       "}\n",
       "#T_bacdd_row11_col13 {\n",
       "  background-color: #f2c9b4;\n",
       "  color: #000000;\n",
       "}\n",
       "#T_bacdd_row11_col15, #T_bacdd_row17_col1, #T_bacdd_row17_col7 {\n",
       "  background-color: #dd5f4b;\n",
       "  color: #f1f1f1;\n",
       "}\n",
       "#T_bacdd_row12_col3, #T_bacdd_row15_col3 {\n",
       "  background-color: #6c8ff1;\n",
       "  color: #f1f1f1;\n",
       "}\n",
       "#T_bacdd_row12_col4, #T_bacdd_row12_col10, #T_bacdd_row15_col4 {\n",
       "  background-color: #d6dce4;\n",
       "  color: #000000;\n",
       "}\n",
       "#T_bacdd_row12_col9 {\n",
       "  background-color: #e4d9d2;\n",
       "  color: #000000;\n",
       "}\n",
       "#T_bacdd_row12_col11 {\n",
       "  background-color: #e0654f;\n",
       "  color: #f1f1f1;\n",
       "}\n",
       "#T_bacdd_row12_col14 {\n",
       "  background-color: #cd423b;\n",
       "  color: #f1f1f1;\n",
       "}\n",
       "#T_bacdd_row13_col3 {\n",
       "  background-color: #485fd1;\n",
       "  color: #f1f1f1;\n",
       "}\n",
       "#T_bacdd_row13_col6, #T_bacdd_row13_col16 {\n",
       "  background-color: #dddcdc;\n",
       "  color: #000000;\n",
       "}\n",
       "#T_bacdd_row13_col9 {\n",
       "  background-color: #6e90f2;\n",
       "  color: #f1f1f1;\n",
       "}\n",
       "#T_bacdd_row13_col10 {\n",
       "  background-color: #b5cdfa;\n",
       "  color: #000000;\n",
       "}\n",
       "#T_bacdd_row13_col14 {\n",
       "  background-color: #f7a688;\n",
       "  color: #000000;\n",
       "}\n",
       "#T_bacdd_row14_col1, #T_bacdd_row14_col7 {\n",
       "  background-color: #5d7ce6;\n",
       "  color: #f1f1f1;\n",
       "}\n",
       "#T_bacdd_row14_col2 {\n",
       "  background-color: #4a63d3;\n",
       "  color: #f1f1f1;\n",
       "}\n",
       "#T_bacdd_row14_col4 {\n",
       "  background-color: #89acfd;\n",
       "  color: #000000;\n",
       "}\n",
       "#T_bacdd_row14_col12, #T_bacdd_row14_col15 {\n",
       "  background-color: #cb3e38;\n",
       "  color: #f1f1f1;\n",
       "}\n",
       "#T_bacdd_row14_col13 {\n",
       "  background-color: #f6a283;\n",
       "  color: #000000;\n",
       "}\n",
       "#T_bacdd_row15_col8 {\n",
       "  background-color: #9dbdff;\n",
       "  color: #000000;\n",
       "}\n",
       "#T_bacdd_row15_col9 {\n",
       "  background-color: #e3d9d3;\n",
       "  color: #000000;\n",
       "}\n",
       "#T_bacdd_row15_col10 {\n",
       "  background-color: #d7dce3;\n",
       "  color: #000000;\n",
       "}\n",
       "#T_bacdd_row15_col11 {\n",
       "  background-color: #e16751;\n",
       "  color: #f1f1f1;\n",
       "}\n",
       "#T_bacdd_row15_col14 {\n",
       "  background-color: #cc403a;\n",
       "  color: #f1f1f1;\n",
       "}\n",
       "#T_bacdd_row16_col3 {\n",
       "  background-color: #7a9df8;\n",
       "  color: #f1f1f1;\n",
       "}\n",
       "#T_bacdd_row16_col11 {\n",
       "  background-color: #f7aa8c;\n",
       "  color: #000000;\n",
       "}\n",
       "#T_bacdd_row16_col12, #T_bacdd_row16_col15 {\n",
       "  background-color: #f59c7d;\n",
       "  color: #000000;\n",
       "}\n",
       "#T_bacdd_row16_col17 {\n",
       "  background-color: #8caffe;\n",
       "  color: #000000;\n",
       "}\n",
       "#T_bacdd_row17_col2 {\n",
       "  background-color: #cf453c;\n",
       "  color: #f1f1f1;\n",
       "}\n",
       "#T_bacdd_row17_col3 {\n",
       "  background-color: #d65244;\n",
       "  color: #f1f1f1;\n",
       "}\n",
       "#T_bacdd_row17_col4 {\n",
       "  background-color: #d95847;\n",
       "  color: #f1f1f1;\n",
       "}\n",
       "#T_bacdd_row17_col6 {\n",
       "  background-color: #f3c7b1;\n",
       "  color: #000000;\n",
       "}\n",
       "#T_bacdd_row17_col13 {\n",
       "  background-color: #4e68d8;\n",
       "  color: #f1f1f1;\n",
       "}\n",
       "</style>\n",
       "<table id=\"T_bacdd\">\n",
       "  <thead>\n",
       "    <tr>\n",
       "      <th class=\"blank level0\" >&nbsp;</th>\n",
       "      <th id=\"T_bacdd_level0_col0\" class=\"col_heading level0 col0\" >ID</th>\n",
       "      <th id=\"T_bacdd_level0_col1\" class=\"col_heading level0 col1\" >Area</th>\n",
       "      <th id=\"T_bacdd_level0_col2\" class=\"col_heading level0 col2\" >Perimeter</th>\n",
       "      <th id=\"T_bacdd_level0_col3\" class=\"col_heading level0 col3\" >MajorAxisLength</th>\n",
       "      <th id=\"T_bacdd_level0_col4\" class=\"col_heading level0 col4\" >MinorAxisLength</th>\n",
       "      <th id=\"T_bacdd_level0_col5\" class=\"col_heading level0 col5\" >AspectRation</th>\n",
       "      <th id=\"T_bacdd_level0_col6\" class=\"col_heading level0 col6\" >Eccentricity</th>\n",
       "      <th id=\"T_bacdd_level0_col7\" class=\"col_heading level0 col7\" >ConvexArea</th>\n",
       "      <th id=\"T_bacdd_level0_col8\" class=\"col_heading level0 col8\" >EquivDiameter</th>\n",
       "      <th id=\"T_bacdd_level0_col9\" class=\"col_heading level0 col9\" >Extent</th>\n",
       "      <th id=\"T_bacdd_level0_col10\" class=\"col_heading level0 col10\" >Solidity</th>\n",
       "      <th id=\"T_bacdd_level0_col11\" class=\"col_heading level0 col11\" >roundness</th>\n",
       "      <th id=\"T_bacdd_level0_col12\" class=\"col_heading level0 col12\" >Compactness</th>\n",
       "      <th id=\"T_bacdd_level0_col13\" class=\"col_heading level0 col13\" >ShapeFactor1</th>\n",
       "      <th id=\"T_bacdd_level0_col14\" class=\"col_heading level0 col14\" >ShapeFactor2</th>\n",
       "      <th id=\"T_bacdd_level0_col15\" class=\"col_heading level0 col15\" >ShapeFactor3</th>\n",
       "      <th id=\"T_bacdd_level0_col16\" class=\"col_heading level0 col16\" >ShapeFactor4</th>\n",
       "      <th id=\"T_bacdd_level0_col17\" class=\"col_heading level0 col17\" >y</th>\n",
       "    </tr>\n",
       "  </thead>\n",
       "  <tbody>\n",
       "    <tr>\n",
       "      <th id=\"T_bacdd_level0_row0\" class=\"row_heading level0 row0\" >ID</th>\n",
       "      <td id=\"T_bacdd_row0_col0\" class=\"data row0 col0\" >1.000000</td>\n",
       "      <td id=\"T_bacdd_row0_col1\" class=\"data row0 col1\" >-0.006442</td>\n",
       "      <td id=\"T_bacdd_row0_col2\" class=\"data row0 col2\" >0.000679</td>\n",
       "      <td id=\"T_bacdd_row0_col3\" class=\"data row0 col3\" >-0.000639</td>\n",
       "      <td id=\"T_bacdd_row0_col4\" class=\"data row0 col4\" >-0.003572</td>\n",
       "      <td id=\"T_bacdd_row0_col5\" class=\"data row0 col5\" >0.004579</td>\n",
       "      <td id=\"T_bacdd_row0_col6\" class=\"data row0 col6\" >0.001265</td>\n",
       "      <td id=\"T_bacdd_row0_col7\" class=\"data row0 col7\" >-0.006194</td>\n",
       "      <td id=\"T_bacdd_row0_col8\" class=\"data row0 col8\" >-0.002186</td>\n",
       "      <td id=\"T_bacdd_row0_col9\" class=\"data row0 col9\" >-0.008626</td>\n",
       "      <td id=\"T_bacdd_row0_col10\" class=\"data row0 col10\" >-0.015873</td>\n",
       "      <td id=\"T_bacdd_row0_col11\" class=\"data row0 col11\" >-0.015406</td>\n",
       "      <td id=\"T_bacdd_row0_col12\" class=\"data row0 col12\" >-0.003421</td>\n",
       "      <td id=\"T_bacdd_row0_col13\" class=\"data row0 col13\" >-0.004321</td>\n",
       "      <td id=\"T_bacdd_row0_col14\" class=\"data row0 col14\" >-0.004543</td>\n",
       "      <td id=\"T_bacdd_row0_col15\" class=\"data row0 col15\" >-0.002997</td>\n",
       "      <td id=\"T_bacdd_row0_col16\" class=\"data row0 col16\" >-0.001742</td>\n",
       "      <td id=\"T_bacdd_row0_col17\" class=\"data row0 col17\" >0.012671</td>\n",
       "    </tr>\n",
       "    <tr>\n",
       "      <th id=\"T_bacdd_level0_row1\" class=\"row_heading level0 row1\" >Area</th>\n",
       "      <td id=\"T_bacdd_row1_col0\" class=\"data row1 col0\" >-0.006442</td>\n",
       "      <td id=\"T_bacdd_row1_col1\" class=\"data row1 col1\" >1.000000</td>\n",
       "      <td id=\"T_bacdd_row1_col2\" class=\"data row1 col2\" >0.966881</td>\n",
       "      <td id=\"T_bacdd_row1_col3\" class=\"data row1 col3\" >0.933198</td>\n",
       "      <td id=\"T_bacdd_row1_col4\" class=\"data row1 col4\" >0.952536</td>\n",
       "      <td id=\"T_bacdd_row1_col5\" class=\"data row1 col5\" >0.243893</td>\n",
       "      <td id=\"T_bacdd_row1_col6\" class=\"data row1 col6\" >0.268565</td>\n",
       "      <td id=\"T_bacdd_row1_col7\" class=\"data row1 col7\" >0.999940</td>\n",
       "      <td id=\"T_bacdd_row1_col8\" class=\"data row1 col8\" >0.984987</td>\n",
       "      <td id=\"T_bacdd_row1_col9\" class=\"data row1 col9\" >0.061387</td>\n",
       "      <td id=\"T_bacdd_row1_col10\" class=\"data row1 col10\" >-0.200078</td>\n",
       "      <td id=\"T_bacdd_row1_col11\" class=\"data row1 col11\" >-0.354127</td>\n",
       "      <td id=\"T_bacdd_row1_col12\" class=\"data row1 col12\" >-0.270134</td>\n",
       "      <td id=\"T_bacdd_row1_col13\" class=\"data row1 col13\" >-0.848371</td>\n",
       "      <td id=\"T_bacdd_row1_col14\" class=\"data row1 col14\" >-0.640619</td>\n",
       "      <td id=\"T_bacdd_row1_col15\" class=\"data row1 col15\" >-0.274081</td>\n",
       "      <td id=\"T_bacdd_row1_col16\" class=\"data row1 col16\" >-0.365265</td>\n",
       "      <td id=\"T_bacdd_row1_col17\" class=\"data row1 col17\" >0.770679</td>\n",
       "    </tr>\n",
       "    <tr>\n",
       "      <th id=\"T_bacdd_level0_row2\" class=\"row_heading level0 row2\" >Perimeter</th>\n",
       "      <td id=\"T_bacdd_row2_col0\" class=\"data row2 col0\" >0.000679</td>\n",
       "      <td id=\"T_bacdd_row2_col1\" class=\"data row2 col1\" >0.966881</td>\n",
       "      <td id=\"T_bacdd_row2_col2\" class=\"data row2 col2\" >1.000000</td>\n",
       "      <td id=\"T_bacdd_row2_col3\" class=\"data row2 col3\" >0.977830</td>\n",
       "      <td id=\"T_bacdd_row2_col4\" class=\"data row2 col4\" >0.915162</td>\n",
       "      <td id=\"T_bacdd_row2_col5\" class=\"data row2 col5\" >0.386119</td>\n",
       "      <td id=\"T_bacdd_row2_col6\" class=\"data row2 col6\" >0.390878</td>\n",
       "      <td id=\"T_bacdd_row2_col7\" class=\"data row2 col7\" >0.967823</td>\n",
       "      <td id=\"T_bacdd_row2_col8\" class=\"data row2 col8\" >0.991439</td>\n",
       "      <td id=\"T_bacdd_row2_col9\" class=\"data row2 col9\" >-0.013889</td>\n",
       "      <td id=\"T_bacdd_row2_col10\" class=\"data row2 col10\" >-0.307817</td>\n",
       "      <td id=\"T_bacdd_row2_col11\" class=\"data row2 col11\" >-0.543906</td>\n",
       "      <td id=\"T_bacdd_row2_col12\" class=\"data row2 col12\" >-0.407622</td>\n",
       "      <td id=\"T_bacdd_row2_col13\" class=\"data row2 col13\" >-0.866250</td>\n",
       "      <td id=\"T_bacdd_row2_col14\" class=\"data row2 col14\" >-0.768104</td>\n",
       "      <td id=\"T_bacdd_row2_col15\" class=\"data row2 col15\" >-0.409079</td>\n",
       "      <td id=\"T_bacdd_row2_col16\" class=\"data row2 col16\" >-0.439272</td>\n",
       "      <td id=\"T_bacdd_row2_col17\" class=\"data row2 col17\" >0.856849</td>\n",
       "    </tr>\n",
       "    <tr>\n",
       "      <th id=\"T_bacdd_level0_row3\" class=\"row_heading level0 row3\" >MajorAxisLength</th>\n",
       "      <td id=\"T_bacdd_row3_col0\" class=\"data row3 col0\" >-0.000639</td>\n",
       "      <td id=\"T_bacdd_row3_col1\" class=\"data row3 col1\" >0.933198</td>\n",
       "      <td id=\"T_bacdd_row3_col2\" class=\"data row3 col2\" >0.977830</td>\n",
       "      <td id=\"T_bacdd_row3_col3\" class=\"data row3 col3\" >1.000000</td>\n",
       "      <td id=\"T_bacdd_row3_col4\" class=\"data row3 col4\" >0.830452</td>\n",
       "      <td id=\"T_bacdd_row3_col5\" class=\"data row3 col5\" >0.548912</td>\n",
       "      <td id=\"T_bacdd_row3_col6\" class=\"data row3 col6\" >0.539787</td>\n",
       "      <td id=\"T_bacdd_row3_col7\" class=\"data row3 col7\" >0.933934</td>\n",
       "      <td id=\"T_bacdd_row3_col8\" class=\"data row3 col8\" >0.962754</td>\n",
       "      <td id=\"T_bacdd_row3_col9\" class=\"data row3 col9\" >-0.070935</td>\n",
       "      <td id=\"T_bacdd_row3_col10\" class=\"data row3 col10\" >-0.285916</td>\n",
       "      <td id=\"T_bacdd_row3_col11\" class=\"data row3 col11\" >-0.589910</td>\n",
       "      <td id=\"T_bacdd_row3_col12\" class=\"data row3 col12\" >-0.566905</td>\n",
       "      <td id=\"T_bacdd_row3_col13\" class=\"data row3 col13\" >-0.777222</td>\n",
       "      <td id=\"T_bacdd_row3_col14\" class=\"data row3 col14\" >-0.858387</td>\n",
       "      <td id=\"T_bacdd_row3_col15\" class=\"data row3 col15\" >-0.566625</td>\n",
       "      <td id=\"T_bacdd_row3_col16\" class=\"data row3 col16\" >-0.491591</td>\n",
       "      <td id=\"T_bacdd_row3_col17\" class=\"data row3 col17\" >0.814923</td>\n",
       "    </tr>\n",
       "    <tr>\n",
       "      <th id=\"T_bacdd_level0_row4\" class=\"row_heading level0 row4\" >MinorAxisLength</th>\n",
       "      <td id=\"T_bacdd_row4_col0\" class=\"data row4 col0\" >-0.003572</td>\n",
       "      <td id=\"T_bacdd_row4_col1\" class=\"data row4 col1\" >0.952536</td>\n",
       "      <td id=\"T_bacdd_row4_col2\" class=\"data row4 col2\" >0.915162</td>\n",
       "      <td id=\"T_bacdd_row4_col3\" class=\"data row4 col3\" >0.830452</td>\n",
       "      <td id=\"T_bacdd_row4_col4\" class=\"data row4 col4\" >1.000000</td>\n",
       "      <td id=\"T_bacdd_row4_col5\" class=\"data row4 col5\" >-0.003095</td>\n",
       "      <td id=\"T_bacdd_row4_col6\" class=\"data row4 col6\" >0.024388</td>\n",
       "      <td id=\"T_bacdd_row4_col7\" class=\"data row4 col7\" >0.952268</td>\n",
       "      <td id=\"T_bacdd_row4_col8\" class=\"data row4 col8\" >0.949832</td>\n",
       "      <td id=\"T_bacdd_row4_col9\" class=\"data row4 col9\" >0.152157</td>\n",
       "      <td id=\"T_bacdd_row4_col10\" class=\"data row4 col10\" >-0.160567</td>\n",
       "      <td id=\"T_bacdd_row4_col11\" class=\"data row4 col11\" >-0.211275</td>\n",
       "      <td id=\"T_bacdd_row4_col12\" class=\"data row4 col12\" >-0.021042</td>\n",
       "      <td id=\"T_bacdd_row4_col13\" class=\"data row4 col13\" >-0.947040</td>\n",
       "      <td id=\"T_bacdd_row4_col14\" class=\"data row4 col14\" >-0.476659</td>\n",
       "      <td id=\"T_bacdd_row4_col15\" class=\"data row4 col15\" >-0.025152</td>\n",
       "      <td id=\"T_bacdd_row4_col16\" class=\"data row4 col16\" >-0.273554</td>\n",
       "      <td id=\"T_bacdd_row4_col17\" class=\"data row4 col17\" >0.784747</td>\n",
       "    </tr>\n",
       "    <tr>\n",
       "      <th id=\"T_bacdd_level0_row5\" class=\"row_heading level0 row5\" >AspectRation</th>\n",
       "      <td id=\"T_bacdd_row5_col0\" class=\"data row5 col0\" >0.004579</td>\n",
       "      <td id=\"T_bacdd_row5_col1\" class=\"data row5 col1\" >0.243893</td>\n",
       "      <td id=\"T_bacdd_row5_col2\" class=\"data row5 col2\" >0.386119</td>\n",
       "      <td id=\"T_bacdd_row5_col3\" class=\"data row5 col3\" >0.548912</td>\n",
       "      <td id=\"T_bacdd_row5_col4\" class=\"data row5 col4\" >-0.003095</td>\n",
       "      <td id=\"T_bacdd_row5_col5\" class=\"data row5 col5\" >1.000000</td>\n",
       "      <td id=\"T_bacdd_row5_col6\" class=\"data row5 col6\" >0.924040</td>\n",
       "      <td id=\"T_bacdd_row5_col7\" class=\"data row5 col7\" >0.245408</td>\n",
       "      <td id=\"T_bacdd_row5_col8\" class=\"data row5 col8\" >0.305557</td>\n",
       "      <td id=\"T_bacdd_row5_col9\" class=\"data row5 col9\" >-0.372383</td>\n",
       "      <td id=\"T_bacdd_row5_col10\" class=\"data row5 col10\" >-0.266038</td>\n",
       "      <td id=\"T_bacdd_row5_col11\" class=\"data row5 col11\" >-0.762150</td>\n",
       "      <td id=\"T_bacdd_row5_col12\" class=\"data row5 col12\" >-0.987664</td>\n",
       "      <td id=\"T_bacdd_row5_col13\" class=\"data row5 col13\" >0.019197</td>\n",
       "      <td id=\"T_bacdd_row5_col14\" class=\"data row5 col14\" >-0.837526</td>\n",
       "      <td id=\"T_bacdd_row5_col15\" class=\"data row5 col15\" >-0.978550</td>\n",
       "      <td id=\"T_bacdd_row5_col16\" class=\"data row5 col16\" >-0.456479</td>\n",
       "      <td id=\"T_bacdd_row5_col17\" class=\"data row5 col17\" >0.307983</td>\n",
       "    </tr>\n",
       "    <tr>\n",
       "      <th id=\"T_bacdd_level0_row6\" class=\"row_heading level0 row6\" >Eccentricity</th>\n",
       "      <td id=\"T_bacdd_row6_col0\" class=\"data row6 col0\" >0.001265</td>\n",
       "      <td id=\"T_bacdd_row6_col1\" class=\"data row6 col1\" >0.268565</td>\n",
       "      <td id=\"T_bacdd_row6_col2\" class=\"data row6 col2\" >0.390878</td>\n",
       "      <td id=\"T_bacdd_row6_col3\" class=\"data row6 col3\" >0.539787</td>\n",
       "      <td id=\"T_bacdd_row6_col4\" class=\"data row6 col4\" >0.024388</td>\n",
       "      <td id=\"T_bacdd_row6_col5\" class=\"data row6 col5\" >0.924040</td>\n",
       "      <td id=\"T_bacdd_row6_col6\" class=\"data row6 col6\" >1.000000</td>\n",
       "      <td id=\"T_bacdd_row6_col7\" class=\"data row6 col7\" >0.270283</td>\n",
       "      <td id=\"T_bacdd_row6_col8\" class=\"data row6 col8\" >0.319497</td>\n",
       "      <td id=\"T_bacdd_row6_col9\" class=\"data row6 col9\" >-0.319550</td>\n",
       "      <td id=\"T_bacdd_row6_col10\" class=\"data row6 col10\" >-0.295614</td>\n",
       "      <td id=\"T_bacdd_row6_col11\" class=\"data row6 col11\" >-0.716765</td>\n",
       "      <td id=\"T_bacdd_row6_col12\" class=\"data row6 col12\" >-0.970173</td>\n",
       "      <td id=\"T_bacdd_row6_col13\" class=\"data row6 col13\" >0.015644</td>\n",
       "      <td id=\"T_bacdd_row6_col14\" class=\"data row6 col14\" >-0.859207</td>\n",
       "      <td id=\"T_bacdd_row6_col15\" class=\"data row6 col15\" >-0.980946</td>\n",
       "      <td id=\"T_bacdd_row6_col16\" class=\"data row6 col16\" >-0.453895</td>\n",
       "      <td id=\"T_bacdd_row6_col17\" class=\"data row6 col17\" >0.238923</td>\n",
       "    </tr>\n",
       "    <tr>\n",
       "      <th id=\"T_bacdd_level0_row7\" class=\"row_heading level0 row7\" >ConvexArea</th>\n",
       "      <td id=\"T_bacdd_row7_col0\" class=\"data row7 col0\" >-0.006194</td>\n",
       "      <td id=\"T_bacdd_row7_col1\" class=\"data row7 col1\" >0.999940</td>\n",
       "      <td id=\"T_bacdd_row7_col2\" class=\"data row7 col2\" >0.967823</td>\n",
       "      <td id=\"T_bacdd_row7_col3\" class=\"data row7 col3\" >0.933934</td>\n",
       "      <td id=\"T_bacdd_row7_col4\" class=\"data row7 col4\" >0.952268</td>\n",
       "      <td id=\"T_bacdd_row7_col5\" class=\"data row7 col5\" >0.245408</td>\n",
       "      <td id=\"T_bacdd_row7_col6\" class=\"data row7 col6\" >0.270283</td>\n",
       "      <td id=\"T_bacdd_row7_col7\" class=\"data row7 col7\" >1.000000</td>\n",
       "      <td id=\"T_bacdd_row7_col8\" class=\"data row7 col8\" >0.985223</td>\n",
       "      <td id=\"T_bacdd_row7_col9\" class=\"data row7 col9\" >0.059711</td>\n",
       "      <td id=\"T_bacdd_row7_col10\" class=\"data row7 col10\" >-0.209552</td>\n",
       "      <td id=\"T_bacdd_row7_col11\" class=\"data row7 col11\" >-0.358655</td>\n",
       "      <td id=\"T_bacdd_row7_col12\" class=\"data row7 col12\" >-0.271930</td>\n",
       "      <td id=\"T_bacdd_row7_col13\" class=\"data row7 col13\" >-0.848345</td>\n",
       "      <td id=\"T_bacdd_row7_col14\" class=\"data row7 col14\" >-0.642119</td>\n",
       "      <td id=\"T_bacdd_row7_col15\" class=\"data row7 col15\" >-0.275901</td>\n",
       "      <td id=\"T_bacdd_row7_col16\" class=\"data row7 col16\" >-0.371420</td>\n",
       "      <td id=\"T_bacdd_row7_col17\" class=\"data row7 col17\" >0.772137</td>\n",
       "    </tr>\n",
       "    <tr>\n",
       "      <th id=\"T_bacdd_level0_row8\" class=\"row_heading level0 row8\" >EquivDiameter</th>\n",
       "      <td id=\"T_bacdd_row8_col0\" class=\"data row8 col0\" >-0.002186</td>\n",
       "      <td id=\"T_bacdd_row8_col1\" class=\"data row8 col1\" >0.984987</td>\n",
       "      <td id=\"T_bacdd_row8_col2\" class=\"data row8 col2\" >0.991439</td>\n",
       "      <td id=\"T_bacdd_row8_col3\" class=\"data row8 col3\" >0.962754</td>\n",
       "      <td id=\"T_bacdd_row8_col4\" class=\"data row8 col4\" >0.949832</td>\n",
       "      <td id=\"T_bacdd_row8_col5\" class=\"data row8 col5\" >0.305557</td>\n",
       "      <td id=\"T_bacdd_row8_col6\" class=\"data row8 col6\" >0.319497</td>\n",
       "      <td id=\"T_bacdd_row8_col7\" class=\"data row8 col7\" >0.985223</td>\n",
       "      <td id=\"T_bacdd_row8_col8\" class=\"data row8 col8\" >1.000000</td>\n",
       "      <td id=\"T_bacdd_row8_col9\" class=\"data row8 col9\" >0.035291</td>\n",
       "      <td id=\"T_bacdd_row8_col10\" class=\"data row8 col10\" >-0.234767</td>\n",
       "      <td id=\"T_bacdd_row8_col11\" class=\"data row8 col11\" >-0.432327</td>\n",
       "      <td id=\"T_bacdd_row8_col12\" class=\"data row8 col12\" >-0.329457</td>\n",
       "      <td id=\"T_bacdd_row8_col13\" class=\"data row8 col13\" >-0.893598</td>\n",
       "      <td id=\"T_bacdd_row8_col14\" class=\"data row8 col14\" >-0.714397</td>\n",
       "      <td id=\"T_bacdd_row8_col15\" class=\"data row8 col15\" >-0.332067</td>\n",
       "      <td id=\"T_bacdd_row8_col16\" class=\"data row8 col16\" >-0.402038</td>\n",
       "      <td id=\"T_bacdd_row8_col17\" class=\"data row8 col17\" >0.834189</td>\n",
       "    </tr>\n",
       "    <tr>\n",
       "      <th id=\"T_bacdd_level0_row9\" class=\"row_heading level0 row9\" >Extent</th>\n",
       "      <td id=\"T_bacdd_row9_col0\" class=\"data row9 col0\" >-0.008626</td>\n",
       "      <td id=\"T_bacdd_row9_col1\" class=\"data row9 col1\" >0.061387</td>\n",
       "      <td id=\"T_bacdd_row9_col2\" class=\"data row9 col2\" >-0.013889</td>\n",
       "      <td id=\"T_bacdd_row9_col3\" class=\"data row9 col3\" >-0.070935</td>\n",
       "      <td id=\"T_bacdd_row9_col4\" class=\"data row9 col4\" >0.152157</td>\n",
       "      <td id=\"T_bacdd_row9_col5\" class=\"data row9 col5\" >-0.372383</td>\n",
       "      <td id=\"T_bacdd_row9_col6\" class=\"data row9 col6\" >-0.319550</td>\n",
       "      <td id=\"T_bacdd_row9_col7\" class=\"data row9 col7\" >0.059711</td>\n",
       "      <td id=\"T_bacdd_row9_col8\" class=\"data row9 col8\" >0.035291</td>\n",
       "      <td id=\"T_bacdd_row9_col9\" class=\"data row9 col9\" >1.000000</td>\n",
       "      <td id=\"T_bacdd_row9_col10\" class=\"data row9 col10\" >0.180843</td>\n",
       "      <td id=\"T_bacdd_row9_col11\" class=\"data row9 col11\" >0.341669</td>\n",
       "      <td id=\"T_bacdd_row9_col12\" class=\"data row9 col12\" >0.355279</td>\n",
       "      <td id=\"T_bacdd_row9_col13\" class=\"data row9 col13\" >-0.147888</td>\n",
       "      <td id=\"T_bacdd_row9_col14\" class=\"data row9 col14\" >0.235020</td>\n",
       "      <td id=\"T_bacdd_row9_col15\" class=\"data row9 col15\" >0.348442</td>\n",
       "      <td id=\"T_bacdd_row9_col16\" class=\"data row9 col16\" >0.142275</td>\n",
       "      <td id=\"T_bacdd_row9_col17\" class=\"data row9 col17\" >-0.012577</td>\n",
       "    </tr>\n",
       "    <tr>\n",
       "      <th id=\"T_bacdd_level0_row10\" class=\"row_heading level0 row10\" >Solidity</th>\n",
       "      <td id=\"T_bacdd_row10_col0\" class=\"data row10 col0\" >-0.015873</td>\n",
       "      <td id=\"T_bacdd_row10_col1\" class=\"data row10 col1\" >-0.200078</td>\n",
       "      <td id=\"T_bacdd_row10_col2\" class=\"data row10 col2\" >-0.307817</td>\n",
       "      <td id=\"T_bacdd_row10_col3\" class=\"data row10 col3\" >-0.285916</td>\n",
       "      <td id=\"T_bacdd_row10_col4\" class=\"data row10 col4\" >-0.160567</td>\n",
       "      <td id=\"T_bacdd_row10_col5\" class=\"data row10 col5\" >-0.266038</td>\n",
       "      <td id=\"T_bacdd_row10_col6\" class=\"data row10 col6\" >-0.295614</td>\n",
       "      <td id=\"T_bacdd_row10_col7\" class=\"data row10 col7\" >-0.209552</td>\n",
       "      <td id=\"T_bacdd_row10_col8\" class=\"data row10 col8\" >-0.234767</td>\n",
       "      <td id=\"T_bacdd_row10_col9\" class=\"data row10 col9\" >0.180843</td>\n",
       "      <td id=\"T_bacdd_row10_col10\" class=\"data row10 col10\" >1.000000</td>\n",
       "      <td id=\"T_bacdd_row10_col11\" class=\"data row10 col11\" >0.614744</td>\n",
       "      <td id=\"T_bacdd_row10_col12\" class=\"data row10 col12\" >0.301718</td>\n",
       "      <td id=\"T_bacdd_row10_col13\" class=\"data row10 col13\" >0.158452</td>\n",
       "      <td id=\"T_bacdd_row10_col14\" class=\"data row10 col14\" >0.343114</td>\n",
       "      <td id=\"T_bacdd_row10_col15\" class=\"data row10 col15\" >0.305648</td>\n",
       "      <td id=\"T_bacdd_row10_col16\" class=\"data row10 col16\" >0.695040</td>\n",
       "      <td id=\"T_bacdd_row10_col17\" class=\"data row10 col17\" >-0.328793</td>\n",
       "    </tr>\n",
       "    <tr>\n",
       "      <th id=\"T_bacdd_level0_row11\" class=\"row_heading level0 row11\" >roundness</th>\n",
       "      <td id=\"T_bacdd_row11_col0\" class=\"data row11 col0\" >-0.015406</td>\n",
       "      <td id=\"T_bacdd_row11_col1\" class=\"data row11 col1\" >-0.354127</td>\n",
       "      <td id=\"T_bacdd_row11_col2\" class=\"data row11 col2\" >-0.543906</td>\n",
       "      <td id=\"T_bacdd_row11_col3\" class=\"data row11 col3\" >-0.589910</td>\n",
       "      <td id=\"T_bacdd_row11_col4\" class=\"data row11 col4\" >-0.211275</td>\n",
       "      <td id=\"T_bacdd_row11_col5\" class=\"data row11 col5\" >-0.762150</td>\n",
       "      <td id=\"T_bacdd_row11_col6\" class=\"data row11 col6\" >-0.716765</td>\n",
       "      <td id=\"T_bacdd_row11_col7\" class=\"data row11 col7\" >-0.358655</td>\n",
       "      <td id=\"T_bacdd_row11_col8\" class=\"data row11 col8\" >-0.432327</td>\n",
       "      <td id=\"T_bacdd_row11_col9\" class=\"data row11 col9\" >0.341669</td>\n",
       "      <td id=\"T_bacdd_row11_col10\" class=\"data row11 col10\" >0.614744</td>\n",
       "      <td id=\"T_bacdd_row11_col11\" class=\"data row11 col11\" >1.000000</td>\n",
       "      <td id=\"T_bacdd_row11_col12\" class=\"data row11 col12\" >0.763130</td>\n",
       "      <td id=\"T_bacdd_row11_col13\" class=\"data row11 col13\" >0.232067</td>\n",
       "      <td id=\"T_bacdd_row11_col14\" class=\"data row11 col14\" >0.776929</td>\n",
       "      <td id=\"T_bacdd_row11_col15\" class=\"data row11 col15\" >0.758101</td>\n",
       "      <td id=\"T_bacdd_row11_col16\" class=\"data row11 col16\" >0.479108</td>\n",
       "      <td id=\"T_bacdd_row11_col17\" class=\"data row11 col17\" >-0.555520</td>\n",
       "    </tr>\n",
       "    <tr>\n",
       "      <th id=\"T_bacdd_level0_row12\" class=\"row_heading level0 row12\" >Compactness</th>\n",
       "      <td id=\"T_bacdd_row12_col0\" class=\"data row12 col0\" >-0.003421</td>\n",
       "      <td id=\"T_bacdd_row12_col1\" class=\"data row12 col1\" >-0.270134</td>\n",
       "      <td id=\"T_bacdd_row12_col2\" class=\"data row12 col2\" >-0.407622</td>\n",
       "      <td id=\"T_bacdd_row12_col3\" class=\"data row12 col3\" >-0.566905</td>\n",
       "      <td id=\"T_bacdd_row12_col4\" class=\"data row12 col4\" >-0.021042</td>\n",
       "      <td id=\"T_bacdd_row12_col5\" class=\"data row12 col5\" >-0.987664</td>\n",
       "      <td id=\"T_bacdd_row12_col6\" class=\"data row12 col6\" >-0.970173</td>\n",
       "      <td id=\"T_bacdd_row12_col7\" class=\"data row12 col7\" >-0.271930</td>\n",
       "      <td id=\"T_bacdd_row12_col8\" class=\"data row12 col8\" >-0.329457</td>\n",
       "      <td id=\"T_bacdd_row12_col9\" class=\"data row12 col9\" >0.355279</td>\n",
       "      <td id=\"T_bacdd_row12_col10\" class=\"data row12 col10\" >0.301718</td>\n",
       "      <td id=\"T_bacdd_row12_col11\" class=\"data row12 col11\" >0.763130</td>\n",
       "      <td id=\"T_bacdd_row12_col12\" class=\"data row12 col12\" >1.000000</td>\n",
       "      <td id=\"T_bacdd_row12_col13\" class=\"data row12 col13\" >-0.004101</td>\n",
       "      <td id=\"T_bacdd_row12_col14\" class=\"data row12 col14\" >0.868571</td>\n",
       "      <td id=\"T_bacdd_row12_col15\" class=\"data row12 col15\" >0.998684</td>\n",
       "      <td id=\"T_bacdd_row12_col16\" class=\"data row12 col16\" >0.490530</td>\n",
       "      <td id=\"T_bacdd_row12_col17\" class=\"data row12 col17\" >-0.297618</td>\n",
       "    </tr>\n",
       "    <tr>\n",
       "      <th id=\"T_bacdd_level0_row13\" class=\"row_heading level0 row13\" >ShapeFactor1</th>\n",
       "      <td id=\"T_bacdd_row13_col0\" class=\"data row13 col0\" >-0.004321</td>\n",
       "      <td id=\"T_bacdd_row13_col1\" class=\"data row13 col1\" >-0.848371</td>\n",
       "      <td id=\"T_bacdd_row13_col2\" class=\"data row13 col2\" >-0.866250</td>\n",
       "      <td id=\"T_bacdd_row13_col3\" class=\"data row13 col3\" >-0.777222</td>\n",
       "      <td id=\"T_bacdd_row13_col4\" class=\"data row13 col4\" >-0.947040</td>\n",
       "      <td id=\"T_bacdd_row13_col5\" class=\"data row13 col5\" >0.019197</td>\n",
       "      <td id=\"T_bacdd_row13_col6\" class=\"data row13 col6\" >0.015644</td>\n",
       "      <td id=\"T_bacdd_row13_col7\" class=\"data row13 col7\" >-0.848345</td>\n",
       "      <td id=\"T_bacdd_row13_col8\" class=\"data row13 col8\" >-0.893598</td>\n",
       "      <td id=\"T_bacdd_row13_col9\" class=\"data row13 col9\" >-0.147888</td>\n",
       "      <td id=\"T_bacdd_row13_col10\" class=\"data row13 col10\" >0.158452</td>\n",
       "      <td id=\"T_bacdd_row13_col11\" class=\"data row13 col11\" >0.232067</td>\n",
       "      <td id=\"T_bacdd_row13_col12\" class=\"data row13 col12\" >-0.004101</td>\n",
       "      <td id=\"T_bacdd_row13_col13\" class=\"data row13 col13\" >1.000000</td>\n",
       "      <td id=\"T_bacdd_row13_col14\" class=\"data row13 col14\" >0.474601</td>\n",
       "      <td id=\"T_bacdd_row13_col15\" class=\"data row13 col15\" >-0.003162</td>\n",
       "      <td id=\"T_bacdd_row13_col16\" class=\"data row13 col16\" >0.257126</td>\n",
       "      <td id=\"T_bacdd_row13_col17\" class=\"data row13 col17\" >-0.819143</td>\n",
       "    </tr>\n",
       "    <tr>\n",
       "      <th id=\"T_bacdd_level0_row14\" class=\"row_heading level0 row14\" >ShapeFactor2</th>\n",
       "      <td id=\"T_bacdd_row14_col0\" class=\"data row14 col0\" >-0.004543</td>\n",
       "      <td id=\"T_bacdd_row14_col1\" class=\"data row14 col1\" >-0.640619</td>\n",
       "      <td id=\"T_bacdd_row14_col2\" class=\"data row14 col2\" >-0.768104</td>\n",
       "      <td id=\"T_bacdd_row14_col3\" class=\"data row14 col3\" >-0.858387</td>\n",
       "      <td id=\"T_bacdd_row14_col4\" class=\"data row14 col4\" >-0.476659</td>\n",
       "      <td id=\"T_bacdd_row14_col5\" class=\"data row14 col5\" >-0.837526</td>\n",
       "      <td id=\"T_bacdd_row14_col6\" class=\"data row14 col6\" >-0.859207</td>\n",
       "      <td id=\"T_bacdd_row14_col7\" class=\"data row14 col7\" >-0.642119</td>\n",
       "      <td id=\"T_bacdd_row14_col8\" class=\"data row14 col8\" >-0.714397</td>\n",
       "      <td id=\"T_bacdd_row14_col9\" class=\"data row14 col9\" >0.235020</td>\n",
       "      <td id=\"T_bacdd_row14_col10\" class=\"data row14 col10\" >0.343114</td>\n",
       "      <td id=\"T_bacdd_row14_col11\" class=\"data row14 col11\" >0.776929</td>\n",
       "      <td id=\"T_bacdd_row14_col12\" class=\"data row14 col12\" >0.868571</td>\n",
       "      <td id=\"T_bacdd_row14_col13\" class=\"data row14 col13\" >0.474601</td>\n",
       "      <td id=\"T_bacdd_row14_col14\" class=\"data row14 col14\" >1.000000</td>\n",
       "      <td id=\"T_bacdd_row14_col15\" class=\"data row14 col15\" >0.872534</td>\n",
       "      <td id=\"T_bacdd_row14_col16\" class=\"data row14 col16\" >0.537707</td>\n",
       "      <td id=\"T_bacdd_row14_col17\" class=\"data row14 col17\" >-0.637964</td>\n",
       "    </tr>\n",
       "    <tr>\n",
       "      <th id=\"T_bacdd_level0_row15\" class=\"row_heading level0 row15\" >ShapeFactor3</th>\n",
       "      <td id=\"T_bacdd_row15_col0\" class=\"data row15 col0\" >-0.002997</td>\n",
       "      <td id=\"T_bacdd_row15_col1\" class=\"data row15 col1\" >-0.274081</td>\n",
       "      <td id=\"T_bacdd_row15_col2\" class=\"data row15 col2\" >-0.409079</td>\n",
       "      <td id=\"T_bacdd_row15_col3\" class=\"data row15 col3\" >-0.566625</td>\n",
       "      <td id=\"T_bacdd_row15_col4\" class=\"data row15 col4\" >-0.025152</td>\n",
       "      <td id=\"T_bacdd_row15_col5\" class=\"data row15 col5\" >-0.978550</td>\n",
       "      <td id=\"T_bacdd_row15_col6\" class=\"data row15 col6\" >-0.980946</td>\n",
       "      <td id=\"T_bacdd_row15_col7\" class=\"data row15 col7\" >-0.275901</td>\n",
       "      <td id=\"T_bacdd_row15_col8\" class=\"data row15 col8\" >-0.332067</td>\n",
       "      <td id=\"T_bacdd_row15_col9\" class=\"data row15 col9\" >0.348442</td>\n",
       "      <td id=\"T_bacdd_row15_col10\" class=\"data row15 col10\" >0.305648</td>\n",
       "      <td id=\"T_bacdd_row15_col11\" class=\"data row15 col11\" >0.758101</td>\n",
       "      <td id=\"T_bacdd_row15_col12\" class=\"data row15 col12\" >0.998684</td>\n",
       "      <td id=\"T_bacdd_row15_col13\" class=\"data row15 col13\" >-0.003162</td>\n",
       "      <td id=\"T_bacdd_row15_col14\" class=\"data row15 col14\" >0.872534</td>\n",
       "      <td id=\"T_bacdd_row15_col15\" class=\"data row15 col15\" >1.000000</td>\n",
       "      <td id=\"T_bacdd_row15_col16\" class=\"data row15 col16\" >0.490083</td>\n",
       "      <td id=\"T_bacdd_row15_col17\" class=\"data row15 col17\" >-0.288999</td>\n",
       "    </tr>\n",
       "    <tr>\n",
       "      <th id=\"T_bacdd_level0_row16\" class=\"row_heading level0 row16\" >ShapeFactor4</th>\n",
       "      <td id=\"T_bacdd_row16_col0\" class=\"data row16 col0\" >-0.001742</td>\n",
       "      <td id=\"T_bacdd_row16_col1\" class=\"data row16 col1\" >-0.365265</td>\n",
       "      <td id=\"T_bacdd_row16_col2\" class=\"data row16 col2\" >-0.439272</td>\n",
       "      <td id=\"T_bacdd_row16_col3\" class=\"data row16 col3\" >-0.491591</td>\n",
       "      <td id=\"T_bacdd_row16_col4\" class=\"data row16 col4\" >-0.273554</td>\n",
       "      <td id=\"T_bacdd_row16_col5\" class=\"data row16 col5\" >-0.456479</td>\n",
       "      <td id=\"T_bacdd_row16_col6\" class=\"data row16 col6\" >-0.453895</td>\n",
       "      <td id=\"T_bacdd_row16_col7\" class=\"data row16 col7\" >-0.371420</td>\n",
       "      <td id=\"T_bacdd_row16_col8\" class=\"data row16 col8\" >-0.402038</td>\n",
       "      <td id=\"T_bacdd_row16_col9\" class=\"data row16 col9\" >0.142275</td>\n",
       "      <td id=\"T_bacdd_row16_col10\" class=\"data row16 col10\" >0.695040</td>\n",
       "      <td id=\"T_bacdd_row16_col11\" class=\"data row16 col11\" >0.479108</td>\n",
       "      <td id=\"T_bacdd_row16_col12\" class=\"data row16 col12\" >0.490530</td>\n",
       "      <td id=\"T_bacdd_row16_col13\" class=\"data row16 col13\" >0.257126</td>\n",
       "      <td id=\"T_bacdd_row16_col14\" class=\"data row16 col14\" >0.537707</td>\n",
       "      <td id=\"T_bacdd_row16_col15\" class=\"data row16 col15\" >0.490083</td>\n",
       "      <td id=\"T_bacdd_row16_col16\" class=\"data row16 col16\" >1.000000</td>\n",
       "      <td id=\"T_bacdd_row16_col17\" class=\"data row16 col17\" >-0.365705</td>\n",
       "    </tr>\n",
       "    <tr>\n",
       "      <th id=\"T_bacdd_level0_row17\" class=\"row_heading level0 row17\" >y</th>\n",
       "      <td id=\"T_bacdd_row17_col0\" class=\"data row17 col0\" >0.012671</td>\n",
       "      <td id=\"T_bacdd_row17_col1\" class=\"data row17 col1\" >0.770679</td>\n",
       "      <td id=\"T_bacdd_row17_col2\" class=\"data row17 col2\" >0.856849</td>\n",
       "      <td id=\"T_bacdd_row17_col3\" class=\"data row17 col3\" >0.814923</td>\n",
       "      <td id=\"T_bacdd_row17_col4\" class=\"data row17 col4\" >0.784747</td>\n",
       "      <td id=\"T_bacdd_row17_col5\" class=\"data row17 col5\" >0.307983</td>\n",
       "      <td id=\"T_bacdd_row17_col6\" class=\"data row17 col6\" >0.238923</td>\n",
       "      <td id=\"T_bacdd_row17_col7\" class=\"data row17 col7\" >0.772137</td>\n",
       "      <td id=\"T_bacdd_row17_col8\" class=\"data row17 col8\" >0.834189</td>\n",
       "      <td id=\"T_bacdd_row17_col9\" class=\"data row17 col9\" >-0.012577</td>\n",
       "      <td id=\"T_bacdd_row17_col10\" class=\"data row17 col10\" >-0.328793</td>\n",
       "      <td id=\"T_bacdd_row17_col11\" class=\"data row17 col11\" >-0.555520</td>\n",
       "      <td id=\"T_bacdd_row17_col12\" class=\"data row17 col12\" >-0.297618</td>\n",
       "      <td id=\"T_bacdd_row17_col13\" class=\"data row17 col13\" >-0.819143</td>\n",
       "      <td id=\"T_bacdd_row17_col14\" class=\"data row17 col14\" >-0.637964</td>\n",
       "      <td id=\"T_bacdd_row17_col15\" class=\"data row17 col15\" >-0.288999</td>\n",
       "      <td id=\"T_bacdd_row17_col16\" class=\"data row17 col16\" >-0.365705</td>\n",
       "      <td id=\"T_bacdd_row17_col17\" class=\"data row17 col17\" >1.000000</td>\n",
       "    </tr>\n",
       "  </tbody>\n",
       "</table>\n"
      ],
      "text/plain": [
       "<pandas.io.formats.style.Styler at 0x135a58fa0>"
      ]
     },
     "execution_count": 24,
     "metadata": {},
     "output_type": "execute_result"
    }
   ],
   "source": [
    "correlation=data_encoded.corr()\n",
    "correlation.style.background_gradient(cmap='coolwarm')"
   ]
  },
  {
   "cell_type": "markdown",
   "metadata": {},
   "source": [
    "# Preprocessing"
   ]
  },
  {
   "cell_type": "code",
   "execution_count": 25,
   "metadata": {},
   "outputs": [],
   "source": [
    "def remove_outliers(data):\n",
    "    z_scores = stats. zscore(data[skewed_columns]) \n",
    "    abs_z_scores = np. abs(z_scores)\n",
    "    filtered_entries = (abs_z_scores < 3). all(axis=1)\n",
    "    new_df = data[filtered_entries]\n",
    "    return new_df\n",
    "    "
   ]
  },
  {
   "cell_type": "code",
   "execution_count": 26,
   "metadata": {},
   "outputs": [],
   "source": [
    "data_new_features=data.copy()"
   ]
  },
  {
   "cell_type": "code",
   "execution_count": 27,
   "metadata": {},
   "outputs": [],
   "source": [
    "data_new_features['Equivalent Spherical Volume']=(4/3)*np.pi*np.sqrt(data_new_features['Area']/np.pi)**3\n"
   ]
  },
  {
   "cell_type": "code",
   "execution_count": 28,
   "metadata": {},
   "outputs": [
    {
     "data": {
      "text/plain": [
       "y                              1.000000\n",
       "Perimeter                      0.856849\n",
       "EquivDiameter                  0.834189\n",
       "MajorAxisLength                0.814923\n",
       "MinorAxisLength                0.784747\n",
       "ConvexArea                     0.772137\n",
       "Area                           0.770679\n",
       "Equivalent Spherical Volume    0.690892\n",
       "AspectRation                   0.307983\n",
       "Eccentricity                   0.238923\n",
       "ID                             0.012671\n",
       "Extent                        -0.012577\n",
       "ShapeFactor3                  -0.288999\n",
       "Compactness                   -0.297618\n",
       "Solidity                      -0.328793\n",
       "ShapeFactor4                  -0.365705\n",
       "roundness                     -0.555520\n",
       "ShapeFactor2                  -0.637964\n",
       "ShapeFactor1                  -0.819143\n",
       "Name: y, dtype: float64"
      ]
     },
     "execution_count": 28,
     "metadata": {},
     "output_type": "execute_result"
    }
   ],
   "source": [
    "data_new_features.corr()['y'].sort_values(ascending=False)"
   ]
  },
  {
   "cell_type": "code",
   "execution_count": 29,
   "metadata": {},
   "outputs": [
    {
     "data": {
      "image/png": "[encoded data removed]",
      "text/plain": [
       "<Figure size 432x288 with 1 Axes>"
      ]
     },
     "metadata": {
      "needs_background": "light"
     },
     "output_type": "display_data"
    }
   ],
   "source": [
    "Decision_tree_importance(data_new_features)"
   ]
  },
  {
   "cell_type": "code",
   "execution_count": 30,
   "metadata": {},
   "outputs": [],
   "source": [
    "from sklearn.preprocessing import StandardScaler\n",
    "scale=StandardScaler()"
   ]
  },
  {
   "cell_type": "code",
   "execution_count": 31,
   "metadata": {},
   "outputs": [
    {
     "data": {
      "text/plain": [
       "[<matplotlib.lines.Line2D at 0x1360b8100>]"
      ]
     },
     "execution_count": 31,
     "metadata": {},
     "output_type": "execute_result"
    },
    {
     "data": {
      "image/png": "[encoded data removed]",
      "text/plain": [
       "<Figure size 432x288 with 1 Axes>"
      ]
     },
     "metadata": {
      "needs_background": "light"
     },
     "output_type": "display_data"
    }
   ],
   "source": [
    "from sklearn.decomposition import PCA\n",
    "data_new_features=scale.fit_transform(data_new_features)\n",
    "pca=PCA()\n",
    "pca.fit(data_new_features)\n",
    "exp_var=pca.explained_variance_ratio_\n",
    "exp_cumsum=np.cumsum(exp_var)\n",
    "plt.plot(exp_cumsum)"
   ]
  },
  {
   "cell_type": "code",
   "execution_count": 32,
   "metadata": {},
   "outputs": [],
   "source": [
    "pca=PCA(n_components=6)"
   ]
  },
  {
   "cell_type": "code",
   "execution_count": 33,
   "metadata": {},
   "outputs": [],
   "source": [
    "def data_prep (data,test=False):\n",
    "    if test==True:\n",
    "        id_col=data['ID']\n",
    "        data_scaled=scale.transform(data)\n",
    "        data_scaled=pca.transform(data_scaled)\n",
    "        data_scaled=pd.DataFrame(data_scaled)\n",
    "        return data_scaled, id_col\n",
    "    else :\n",
    "        new_df=remove_outliers(data)\n",
    "        labels=new_df['y']\n",
    "        new_df=new_df.drop('y',axis=1)\n",
    "        data_scaled=scale.fit_transform(new_df)\n",
    "        data_scaled=pca.fit_transform(data_scaled)\n",
    "        data_scaled=pd.DataFrame(data_scaled)\n",
    "        return data_scaled,labels\n",
    "    \n",
    "    "
   ]
  },
  {
   "cell_type": "code",
   "execution_count": 34,
   "metadata": {},
   "outputs": [],
   "source": [
    "final_data=data.copy()"
   ]
  },
  {
   "cell_type": "code",
   "execution_count": 35,
   "metadata": {},
   "outputs": [],
   "source": [
    "y=final_data['y']\n",
    "X=final_data.drop('y',axis=1)"
   ]
  },
  {
   "cell_type": "code",
   "execution_count": 36,
   "metadata": {},
   "outputs": [],
   "source": [
    "from sklearn.model_selection import train_test_split\n",
    "X_train,X_val,y_train,y_val=train_test_split(X,y,test_size=0.2,random_state=42,stratify=data['y'])"
   ]
  },
  {
   "cell_type": "code",
   "execution_count": 37,
   "metadata": {},
   "outputs": [],
   "source": [
    "X_train['y']=y_train\n"
   ]
  },
  {
   "cell_type": "code",
   "execution_count": 38,
   "metadata": {},
   "outputs": [],
   "source": [
    "X_train=encode_target(X_train)\n"
   ]
  },
  {
   "cell_type": "code",
   "execution_count": 39,
   "metadata": {},
   "outputs": [],
   "source": [
    "data_to_model,labels=data_prep(X_train)\n"
   ]
  },
  {
   "cell_type": "code",
   "execution_count": null,
   "metadata": {},
   "outputs": [],
   "source": []
  },
  {
   "cell_type": "code",
   "execution_count": null,
   "metadata": {},
   "outputs": [],
   "source": []
  },
  {
   "cell_type": "code",
   "execution_count": 40,
   "metadata": {},
   "outputs": [],
   "source": [
    "from lightgbm import LGBMClassifier\n",
    "model = LGBMClassifier(max_depth=6,n_estimators=200,\n",
    "                       learning_rate=0.05,random_state=42)\n"
   ]
  },
  {
   "cell_type": "code",
   "execution_count": 41,
   "metadata": {},
   "outputs": [
    {
     "data": {
      "text/plain": [
       "LGBMClassifier(learning_rate=0.05, max_depth=6, n_estimators=200,\n",
       "               random_state=42)"
      ]
     },
     "execution_count": 41,
     "metadata": {},
     "output_type": "execute_result"
    }
   ],
   "source": [
    "model.fit(data_to_model,labels)\n"
   ]
  },
  {
   "cell_type": "code",
   "execution_count": 42,
   "metadata": {},
   "outputs": [],
   "source": [
    "X_val,_=data_prep(X_val,test=True)\n"
   ]
  },
  {
   "cell_type": "code",
   "execution_count": 43,
   "metadata": {},
   "outputs": [],
   "source": [
    "predictions=model.predict(X_val)\n"
   ]
  },
  {
   "cell_type": "code",
   "execution_count": 44,
   "metadata": {},
   "outputs": [],
   "source": [
    "from sklearn.metrics import accuracy_score,f1_score,classification_report,confusion_matrix,plot_confusion_matrix"
   ]
  },
  {
   "cell_type": "code",
   "execution_count": 45,
   "metadata": {},
   "outputs": [
    {
     "data": {
      "text/plain": [
       "0.912782648823258"
      ]
     },
     "execution_count": 45,
     "metadata": {},
     "output_type": "execute_result"
    }
   ],
   "source": [
    "f1_score(y_val,predictions,average='micro')\n"
   ]
  },
  {
   "cell_type": "code",
   "execution_count": 46,
   "metadata": {},
   "outputs": [],
   "source": [
    "data_test_to_model,ID=data_prep(data_test,test=True)"
   ]
  },
  {
   "cell_type": "code",
   "execution_count": 47,
   "metadata": {},
   "outputs": [
    {
     "name": "stderr",
     "output_type": "stream",
     "text": [
      "/Users/omarmarie/miniforge3/lib/python3.9/site-packages/sklearn/utils/deprecation.py:87: FutureWarning: Function plot_confusion_matrix is deprecated; Function `plot_confusion_matrix` is deprecated in 1.0 and will be removed in 1.2. Use one of the class methods: ConfusionMatrixDisplay.from_predictions or ConfusionMatrixDisplay.from_estimator.\n",
      "  warnings.warn(msg, category=FutureWarning)\n"
     ]
    },
    {
     "data": {
      "image/png": "[encoded data removed]",
      "text/plain": [
       "<Figure size 432x288 with 2 Axes>"
      ]
     },
     "metadata": {
      "needs_background": "light"
     },
     "output_type": "display_data"
    }
   ],
   "source": [
    "from sklearn.metrics import accuracy_score,f1_score,classification_report,confusion_matrix,plot_confusion_matrix\n",
    "plot_confusion_matrix(model,X_val,y_val);"
   ]
  },
  {
   "cell_type": "code",
   "execution_count": 48,
   "metadata": {},
   "outputs": [
    {
     "data": {
      "text/plain": [
       "array([3, 0, 5, ..., 3, 0, 1])"
      ]
     },
     "execution_count": 48,
     "metadata": {},
     "output_type": "execute_result"
    }
   ],
   "source": [
    "predictions=model.predict(data_test_to_model)\n",
    "predictions"
   ]
  },
  {
   "cell_type": "code",
   "execution_count": 49,
   "metadata": {},
   "outputs": [
    {
     "data": {
      "text/html": [
       "<div>\n",
       "<style scoped>\n",
       "    .dataframe tbody tr th:only-of-type {\n",
       "        vertical-align: middle;\n",
       "    }\n",
       "\n",
       "    .dataframe tbody tr th {\n",
       "        vertical-align: top;\n",
       "    }\n",
       "\n",
       "    .dataframe thead th {\n",
       "        text-align: right;\n",
       "    }\n",
       "</style>\n",
       "<table border=\"1\" class=\"dataframe\">\n",
       "  <thead>\n",
       "    <tr style=\"text-align: right;\">\n",
       "      <th></th>\n",
       "      <th>0</th>\n",
       "      <th>1</th>\n",
       "      <th>2</th>\n",
       "      <th>3</th>\n",
       "      <th>4</th>\n",
       "      <th>5</th>\n",
       "      <th>y</th>\n",
       "    </tr>\n",
       "  </thead>\n",
       "  <tbody>\n",
       "    <tr>\n",
       "      <th>0</th>\n",
       "      <td>7.156392</td>\n",
       "      <td>-3.313845</td>\n",
       "      <td>10.280887</td>\n",
       "      <td>-1.518740</td>\n",
       "      <td>2.293267</td>\n",
       "      <td>4.431227</td>\n",
       "      <td>3</td>\n",
       "    </tr>\n",
       "    <tr>\n",
       "      <th>1</th>\n",
       "      <td>-3.416419</td>\n",
       "      <td>-1.136787</td>\n",
       "      <td>0.293735</td>\n",
       "      <td>-1.746563</td>\n",
       "      <td>0.425362</td>\n",
       "      <td>-0.408536</td>\n",
       "      <td>0</td>\n",
       "    </tr>\n",
       "    <tr>\n",
       "      <th>2</th>\n",
       "      <td>0.716612</td>\n",
       "      <td>2.209204</td>\n",
       "      <td>2.429434</td>\n",
       "      <td>-1.693204</td>\n",
       "      <td>0.132507</td>\n",
       "      <td>-1.320355</td>\n",
       "      <td>5</td>\n",
       "    </tr>\n",
       "    <tr>\n",
       "      <th>3</th>\n",
       "      <td>-4.184385</td>\n",
       "      <td>-1.958459</td>\n",
       "      <td>0.464651</td>\n",
       "      <td>-1.779952</td>\n",
       "      <td>-0.530553</td>\n",
       "      <td>-0.109291</td>\n",
       "      <td>0</td>\n",
       "    </tr>\n",
       "    <tr>\n",
       "      <th>4</th>\n",
       "      <td>8.911954</td>\n",
       "      <td>7.749260</td>\n",
       "      <td>-1.300149</td>\n",
       "      <td>-1.665028</td>\n",
       "      <td>0.202942</td>\n",
       "      <td>0.816565</td>\n",
       "      <td>6</td>\n",
       "    </tr>\n",
       "    <tr>\n",
       "      <th>...</th>\n",
       "      <td>...</td>\n",
       "      <td>...</td>\n",
       "      <td>...</td>\n",
       "      <td>...</td>\n",
       "      <td>...</td>\n",
       "      <td>...</td>\n",
       "      <td>...</td>\n",
       "    </tr>\n",
       "    <tr>\n",
       "      <th>2704</th>\n",
       "      <td>4.298869</td>\n",
       "      <td>-0.321515</td>\n",
       "      <td>-0.186749</td>\n",
       "      <td>-2.562767</td>\n",
       "      <td>0.633965</td>\n",
       "      <td>0.217972</td>\n",
       "      <td>4</td>\n",
       "    </tr>\n",
       "    <tr>\n",
       "      <th>2705</th>\n",
       "      <td>-3.666540</td>\n",
       "      <td>2.848061</td>\n",
       "      <td>-0.248227</td>\n",
       "      <td>-2.627324</td>\n",
       "      <td>-0.358599</td>\n",
       "      <td>0.618002</td>\n",
       "      <td>2</td>\n",
       "    </tr>\n",
       "    <tr>\n",
       "      <th>2706</th>\n",
       "      <td>8.354228</td>\n",
       "      <td>-3.595534</td>\n",
       "      <td>10.845687</td>\n",
       "      <td>-2.362128</td>\n",
       "      <td>2.603451</td>\n",
       "      <td>5.354068</td>\n",
       "      <td>3</td>\n",
       "    </tr>\n",
       "    <tr>\n",
       "      <th>2707</th>\n",
       "      <td>-1.898482</td>\n",
       "      <td>-1.117783</td>\n",
       "      <td>0.773054</td>\n",
       "      <td>-2.617754</td>\n",
       "      <td>-0.318100</td>\n",
       "      <td>-0.470480</td>\n",
       "      <td>0</td>\n",
       "    </tr>\n",
       "    <tr>\n",
       "      <th>2708</th>\n",
       "      <td>-0.123981</td>\n",
       "      <td>0.687582</td>\n",
       "      <td>-1.091316</td>\n",
       "      <td>-2.594970</td>\n",
       "      <td>0.675310</td>\n",
       "      <td>-0.093935</td>\n",
       "      <td>1</td>\n",
       "    </tr>\n",
       "  </tbody>\n",
       "</table>\n",
       "<p>2709 rows × 7 columns</p>\n",
       "</div>"
      ],
      "text/plain": [
       "             0         1          2         3         4         5  y\n",
       "0     7.156392 -3.313845  10.280887 -1.518740  2.293267  4.431227  3\n",
       "1    -3.416419 -1.136787   0.293735 -1.746563  0.425362 -0.408536  0\n",
       "2     0.716612  2.209204   2.429434 -1.693204  0.132507 -1.320355  5\n",
       "3    -4.184385 -1.958459   0.464651 -1.779952 -0.530553 -0.109291  0\n",
       "4     8.911954  7.749260  -1.300149 -1.665028  0.202942  0.816565  6\n",
       "...        ...       ...        ...       ...       ...       ... ..\n",
       "2704  4.298869 -0.321515  -0.186749 -2.562767  0.633965  0.217972  4\n",
       "2705 -3.666540  2.848061  -0.248227 -2.627324 -0.358599  0.618002  2\n",
       "2706  8.354228 -3.595534  10.845687 -2.362128  2.603451  5.354068  3\n",
       "2707 -1.898482 -1.117783   0.773054 -2.617754 -0.318100 -0.470480  0\n",
       "2708 -0.123981  0.687582  -1.091316 -2.594970  0.675310 -0.093935  1\n",
       "\n",
       "[2709 rows x 7 columns]"
      ]
     },
     "execution_count": 49,
     "metadata": {},
     "output_type": "execute_result"
    }
   ],
   "source": [
    "data_test_to_model['y']=predictions\n",
    "data_test_to_model"
   ]
  },
  {
   "cell_type": "code",
   "execution_count": 50,
   "metadata": {},
   "outputs": [
    {
     "data": {
      "text/html": [
       "<div>\n",
       "<style scoped>\n",
       "    .dataframe tbody tr th:only-of-type {\n",
       "        vertical-align: middle;\n",
       "    }\n",
       "\n",
       "    .dataframe tbody tr th {\n",
       "        vertical-align: top;\n",
       "    }\n",
       "\n",
       "    .dataframe thead th {\n",
       "        text-align: right;\n",
       "    }\n",
       "</style>\n",
       "<table border=\"1\" class=\"dataframe\">\n",
       "  <thead>\n",
       "    <tr style=\"text-align: right;\">\n",
       "      <th></th>\n",
       "      <th>0</th>\n",
       "      <th>1</th>\n",
       "      <th>2</th>\n",
       "      <th>3</th>\n",
       "      <th>4</th>\n",
       "      <th>5</th>\n",
       "      <th>y</th>\n",
       "    </tr>\n",
       "  </thead>\n",
       "  <tbody>\n",
       "    <tr>\n",
       "      <th>0</th>\n",
       "      <td>7.156392</td>\n",
       "      <td>-3.313845</td>\n",
       "      <td>10.280887</td>\n",
       "      <td>-1.518740</td>\n",
       "      <td>2.293267</td>\n",
       "      <td>4.431227</td>\n",
       "      <td>HOROZ</td>\n",
       "    </tr>\n",
       "    <tr>\n",
       "      <th>1</th>\n",
       "      <td>-3.416419</td>\n",
       "      <td>-1.136787</td>\n",
       "      <td>0.293735</td>\n",
       "      <td>-1.746563</td>\n",
       "      <td>0.425362</td>\n",
       "      <td>-0.408536</td>\n",
       "      <td>DERMASON</td>\n",
       "    </tr>\n",
       "    <tr>\n",
       "      <th>2</th>\n",
       "      <td>0.716612</td>\n",
       "      <td>2.209204</td>\n",
       "      <td>2.429434</td>\n",
       "      <td>-1.693204</td>\n",
       "      <td>0.132507</td>\n",
       "      <td>-1.320355</td>\n",
       "      <td>BARBUNYA</td>\n",
       "    </tr>\n",
       "    <tr>\n",
       "      <th>3</th>\n",
       "      <td>-4.184385</td>\n",
       "      <td>-1.958459</td>\n",
       "      <td>0.464651</td>\n",
       "      <td>-1.779952</td>\n",
       "      <td>-0.530553</td>\n",
       "      <td>-0.109291</td>\n",
       "      <td>DERMASON</td>\n",
       "    </tr>\n",
       "    <tr>\n",
       "      <th>4</th>\n",
       "      <td>8.911954</td>\n",
       "      <td>7.749260</td>\n",
       "      <td>-1.300149</td>\n",
       "      <td>-1.665028</td>\n",
       "      <td>0.202942</td>\n",
       "      <td>0.816565</td>\n",
       "      <td>BOMBAY</td>\n",
       "    </tr>\n",
       "    <tr>\n",
       "      <th>...</th>\n",
       "      <td>...</td>\n",
       "      <td>...</td>\n",
       "      <td>...</td>\n",
       "      <td>...</td>\n",
       "      <td>...</td>\n",
       "      <td>...</td>\n",
       "      <td>...</td>\n",
       "    </tr>\n",
       "    <tr>\n",
       "      <th>2704</th>\n",
       "      <td>4.298869</td>\n",
       "      <td>-0.321515</td>\n",
       "      <td>-0.186749</td>\n",
       "      <td>-2.562767</td>\n",
       "      <td>0.633965</td>\n",
       "      <td>0.217972</td>\n",
       "      <td>CALI</td>\n",
       "    </tr>\n",
       "    <tr>\n",
       "      <th>2705</th>\n",
       "      <td>-3.666540</td>\n",
       "      <td>2.848061</td>\n",
       "      <td>-0.248227</td>\n",
       "      <td>-2.627324</td>\n",
       "      <td>-0.358599</td>\n",
       "      <td>0.618002</td>\n",
       "      <td>SEKER</td>\n",
       "    </tr>\n",
       "    <tr>\n",
       "      <th>2706</th>\n",
       "      <td>8.354228</td>\n",
       "      <td>-3.595534</td>\n",
       "      <td>10.845687</td>\n",
       "      <td>-2.362128</td>\n",
       "      <td>2.603451</td>\n",
       "      <td>5.354068</td>\n",
       "      <td>HOROZ</td>\n",
       "    </tr>\n",
       "    <tr>\n",
       "      <th>2707</th>\n",
       "      <td>-1.898482</td>\n",
       "      <td>-1.117783</td>\n",
       "      <td>0.773054</td>\n",
       "      <td>-2.617754</td>\n",
       "      <td>-0.318100</td>\n",
       "      <td>-0.470480</td>\n",
       "      <td>DERMASON</td>\n",
       "    </tr>\n",
       "    <tr>\n",
       "      <th>2708</th>\n",
       "      <td>-0.123981</td>\n",
       "      <td>0.687582</td>\n",
       "      <td>-1.091316</td>\n",
       "      <td>-2.594970</td>\n",
       "      <td>0.675310</td>\n",
       "      <td>-0.093935</td>\n",
       "      <td>SIRA</td>\n",
       "    </tr>\n",
       "  </tbody>\n",
       "</table>\n",
       "<p>2709 rows × 7 columns</p>\n",
       "</div>"
      ],
      "text/plain": [
       "             0         1          2         3         4         5         y\n",
       "0     7.156392 -3.313845  10.280887 -1.518740  2.293267  4.431227     HOROZ\n",
       "1    -3.416419 -1.136787   0.293735 -1.746563  0.425362 -0.408536  DERMASON\n",
       "2     0.716612  2.209204   2.429434 -1.693204  0.132507 -1.320355  BARBUNYA\n",
       "3    -4.184385 -1.958459   0.464651 -1.779952 -0.530553 -0.109291  DERMASON\n",
       "4     8.911954  7.749260  -1.300149 -1.665028  0.202942  0.816565    BOMBAY\n",
       "...        ...       ...        ...       ...       ...       ...       ...\n",
       "2704  4.298869 -0.321515  -0.186749 -2.562767  0.633965  0.217972      CALI\n",
       "2705 -3.666540  2.848061  -0.248227 -2.627324 -0.358599  0.618002     SEKER\n",
       "2706  8.354228 -3.595534  10.845687 -2.362128  2.603451  5.354068     HOROZ\n",
       "2707 -1.898482 -1.117783   0.773054 -2.617754 -0.318100 -0.470480  DERMASON\n",
       "2708 -0.123981  0.687582  -1.091316 -2.594970  0.675310 -0.093935      SIRA\n",
       "\n",
       "[2709 rows x 7 columns]"
      ]
     },
     "execution_count": 50,
     "metadata": {},
     "output_type": "execute_result"
    }
   ],
   "source": [
    "s=decode_target(data_test_to_model)\n",
    "s"
   ]
  },
  {
   "cell_type": "code",
   "execution_count": 51,
   "metadata": {},
   "outputs": [],
   "source": [
    "f=pd.concat([ID,s['y']],axis=1)"
   ]
  },
  {
   "cell_type": "code",
   "execution_count": 52,
   "metadata": {},
   "outputs": [
    {
     "data": {
      "text/html": [
       "<div>\n",
       "<style scoped>\n",
       "    .dataframe tbody tr th:only-of-type {\n",
       "        vertical-align: middle;\n",
       "    }\n",
       "\n",
       "    .dataframe tbody tr th {\n",
       "        vertical-align: top;\n",
       "    }\n",
       "\n",
       "    .dataframe thead th {\n",
       "        text-align: right;\n",
       "    }\n",
       "</style>\n",
       "<table border=\"1\" class=\"dataframe\">\n",
       "  <thead>\n",
       "    <tr style=\"text-align: right;\">\n",
       "      <th></th>\n",
       "      <th>ID</th>\n",
       "      <th>y</th>\n",
       "    </tr>\n",
       "  </thead>\n",
       "  <tbody>\n",
       "    <tr>\n",
       "      <th>0</th>\n",
       "      <td>10834</td>\n",
       "      <td>HOROZ</td>\n",
       "    </tr>\n",
       "    <tr>\n",
       "      <th>1</th>\n",
       "      <td>10835</td>\n",
       "      <td>DERMASON</td>\n",
       "    </tr>\n",
       "    <tr>\n",
       "      <th>2</th>\n",
       "      <td>10836</td>\n",
       "      <td>BARBUNYA</td>\n",
       "    </tr>\n",
       "    <tr>\n",
       "      <th>3</th>\n",
       "      <td>10837</td>\n",
       "      <td>DERMASON</td>\n",
       "    </tr>\n",
       "    <tr>\n",
       "      <th>4</th>\n",
       "      <td>10838</td>\n",
       "      <td>BOMBAY</td>\n",
       "    </tr>\n",
       "    <tr>\n",
       "      <th>...</th>\n",
       "      <td>...</td>\n",
       "      <td>...</td>\n",
       "    </tr>\n",
       "    <tr>\n",
       "      <th>2704</th>\n",
       "      <td>13538</td>\n",
       "      <td>CALI</td>\n",
       "    </tr>\n",
       "    <tr>\n",
       "      <th>2705</th>\n",
       "      <td>13539</td>\n",
       "      <td>SEKER</td>\n",
       "    </tr>\n",
       "    <tr>\n",
       "      <th>2706</th>\n",
       "      <td>13540</td>\n",
       "      <td>HOROZ</td>\n",
       "    </tr>\n",
       "    <tr>\n",
       "      <th>2707</th>\n",
       "      <td>13541</td>\n",
       "      <td>DERMASON</td>\n",
       "    </tr>\n",
       "    <tr>\n",
       "      <th>2708</th>\n",
       "      <td>13542</td>\n",
       "      <td>SIRA</td>\n",
       "    </tr>\n",
       "  </tbody>\n",
       "</table>\n",
       "<p>2709 rows × 2 columns</p>\n",
       "</div>"
      ],
      "text/plain": [
       "         ID         y\n",
       "0     10834     HOROZ\n",
       "1     10835  DERMASON\n",
       "2     10836  BARBUNYA\n",
       "3     10837  DERMASON\n",
       "4     10838    BOMBAY\n",
       "...     ...       ...\n",
       "2704  13538      CALI\n",
       "2705  13539     SEKER\n",
       "2706  13540     HOROZ\n",
       "2707  13541  DERMASON\n",
       "2708  13542      SIRA\n",
       "\n",
       "[2709 rows x 2 columns]"
      ]
     },
     "execution_count": 52,
     "metadata": {},
     "output_type": "execute_result"
    }
   ],
   "source": [
    "f"
   ]
  },
  {
   "cell_type": "code",
   "execution_count": null,
   "metadata": {},
   "outputs": [],
   "source": []
  }
 ],
 "metadata": {
  "kernelspec": {
   "display_name": "Python 3 (ipykernel)",
   "language": "python",
   "name": "python3"
  },
  "language_info": {
   "codemirror_mode": {
    "name": "ipython",
    "version": 3
   },
   "file_extension": ".py",
   "mimetype": "text/x-python",
   "name": "python",
   "nbconvert_exporter": "python",
   "pygments_lexer": "ipython3",
   "version": "3.9.10"
  }
 },
 "nbformat": 4,
 "nbformat_minor": 4
}
