{
 "cells": [
  {
   "cell_type": "markdown",
   "id": "656a2145",
   "metadata": {},
   "source": [
    "### Imports"
   ]
  },
  {
   "cell_type": "code",
   "execution_count": 1,
   "id": "a6e35e62",
   "metadata": {},
   "outputs": [
    {
     "name": "stderr",
     "output_type": "stream",
     "text": [
      "/Users/omarmarie/miniforge3/lib/python3.9/site-packages/xgboost/compat.py:36: FutureWarning: pandas.Int64Index is deprecated and will be removed from pandas in a future version. Use pandas.Index with the appropriate dtype instead.\n",
      "  from pandas import MultiIndex, Int64Index\n"
     ]
    }
   ],
   "source": [
    "import numpy as np\n",
    "import pandas as pd\n",
    "import matplotlib.pyplot as plt\n",
    "import seaborn as sns\n",
    "from sklearn.model_selection import train_test_split\n",
    "from xgboost import XGBClassifier\n",
    "from sklearn.utils import class_weight\n",
    "from scipy import stats\n",
    "from sklearn.preprocessing import normalize\n",
    "from sklearn.model_selection import RandomizedSearchCV\n",
    "from sklearn.linear_model import LogisticRegression\n",
    "from sklearn.svm import SVC\n",
    "from sklearn.naive_bayes import GaussianNB\n",
    "from imblearn.over_sampling import RandomOverSampler\n",
    "from sklearn.ensemble import RandomForestClassifier\n",
    "from sklearn.metrics import SCORERS, accuracy_score,f1_score,classification_report,confusion_matrix,plot_confusion_matrix"
   ]
  },
  {
   "cell_type": "markdown",
   "id": "0f83a22e",
   "metadata": {},
   "source": [
    "### EDA"
   ]
  },
  {
   "cell_type": "code",
   "execution_count": 2,
   "id": "95aa7860",
   "metadata": {},
   "outputs": [],
   "source": [
    "# Readig The dataset\n",
    "data       = pd.read_csv('train.csv')\n",
    "data_test  = pd.read_csv('test.csv')\n",
    "\n"
   ]
  },
  {
   "cell_type": "code",
   "execution_count": 3,
   "id": "0933490b",
   "metadata": {},
   "outputs": [
    {
     "data": {
      "text/html": [
       "<div>\n",
       "<style scoped>\n",
       "    .dataframe tbody tr th:only-of-type {\n",
       "        vertical-align: middle;\n",
       "    }\n",
       "\n",
       "    .dataframe tbody tr th {\n",
       "        vertical-align: top;\n",
       "    }\n",
       "\n",
       "    .dataframe thead th {\n",
       "        text-align: right;\n",
       "    }\n",
       "</style>\n",
       "<table border=\"1\" class=\"dataframe\">\n",
       "  <thead>\n",
       "    <tr style=\"text-align: right;\">\n",
       "      <th></th>\n",
       "      <th>Area</th>\n",
       "      <th>Perimeter</th>\n",
       "      <th>MajorAxisLength</th>\n",
       "      <th>MinorAxisLength</th>\n",
       "      <th>AspectRation</th>\n",
       "      <th>Eccentricity</th>\n",
       "      <th>ConvexArea</th>\n",
       "      <th>EquivDiameter</th>\n",
       "      <th>Extent</th>\n",
       "      <th>Solidity</th>\n",
       "      <th>roundness</th>\n",
       "      <th>Compactness</th>\n",
       "      <th>ShapeFactor1</th>\n",
       "      <th>ShapeFactor2</th>\n",
       "      <th>ShapeFactor3</th>\n",
       "      <th>ShapeFactor4</th>\n",
       "      <th>y</th>\n",
       "    </tr>\n",
       "  </thead>\n",
       "  <tbody>\n",
       "    <tr>\n",
       "      <th>0</th>\n",
       "      <td>58238</td>\n",
       "      <td>971.303</td>\n",
       "      <td>397.202654</td>\n",
       "      <td>186.945510</td>\n",
       "      <td>2.124697</td>\n",
       "      <td>0.882317</td>\n",
       "      <td>58977</td>\n",
       "      <td>272.306674</td>\n",
       "      <td>0.604756</td>\n",
       "      <td>0.987470</td>\n",
       "      <td>0.775723</td>\n",
       "      <td>0.685561</td>\n",
       "      <td>0.006820</td>\n",
       "      <td>0.000929</td>\n",
       "      <td>0.469994</td>\n",
       "      <td>0.998595</td>\n",
       "      <td>HOROZ</td>\n",
       "    </tr>\n",
       "    <tr>\n",
       "      <th>1</th>\n",
       "      <td>44515</td>\n",
       "      <td>757.601</td>\n",
       "      <td>265.590470</td>\n",
       "      <td>213.967453</td>\n",
       "      <td>1.241266</td>\n",
       "      <td>0.592420</td>\n",
       "      <td>44780</td>\n",
       "      <td>238.071960</td>\n",
       "      <td>0.771745</td>\n",
       "      <td>0.994082</td>\n",
       "      <td>0.974620</td>\n",
       "      <td>0.896387</td>\n",
       "      <td>0.005966</td>\n",
       "      <td>0.002376</td>\n",
       "      <td>0.803510</td>\n",
       "      <td>0.997370</td>\n",
       "      <td>SEKER</td>\n",
       "    </tr>\n",
       "    <tr>\n",
       "      <th>2</th>\n",
       "      <td>31662</td>\n",
       "      <td>653.783</td>\n",
       "      <td>239.902428</td>\n",
       "      <td>168.421505</td>\n",
       "      <td>1.424417</td>\n",
       "      <td>0.712136</td>\n",
       "      <td>32034</td>\n",
       "      <td>200.781748</td>\n",
       "      <td>0.801407</td>\n",
       "      <td>0.988387</td>\n",
       "      <td>0.930853</td>\n",
       "      <td>0.836931</td>\n",
       "      <td>0.007577</td>\n",
       "      <td>0.002293</td>\n",
       "      <td>0.700453</td>\n",
       "      <td>0.997737</td>\n",
       "      <td>DERMASON</td>\n",
       "    </tr>\n",
       "    <tr>\n",
       "      <th>3</th>\n",
       "      <td>38778</td>\n",
       "      <td>734.020</td>\n",
       "      <td>268.446281</td>\n",
       "      <td>184.061923</td>\n",
       "      <td>1.458456</td>\n",
       "      <td>0.727925</td>\n",
       "      <td>39208</td>\n",
       "      <td>222.201897</td>\n",
       "      <td>0.766137</td>\n",
       "      <td>0.989033</td>\n",
       "      <td>0.904439</td>\n",
       "      <td>0.827733</td>\n",
       "      <td>0.006923</td>\n",
       "      <td>0.002005</td>\n",
       "      <td>0.685142</td>\n",
       "      <td>0.999250</td>\n",
       "      <td>DERMASON</td>\n",
       "    </tr>\n",
       "    <tr>\n",
       "      <th>4</th>\n",
       "      <td>42530</td>\n",
       "      <td>775.403</td>\n",
       "      <td>281.212824</td>\n",
       "      <td>193.236878</td>\n",
       "      <td>1.455275</td>\n",
       "      <td>0.726511</td>\n",
       "      <td>43028</td>\n",
       "      <td>232.703412</td>\n",
       "      <td>0.729816</td>\n",
       "      <td>0.988426</td>\n",
       "      <td>0.888895</td>\n",
       "      <td>0.827499</td>\n",
       "      <td>0.006612</td>\n",
       "      <td>0.001912</td>\n",
       "      <td>0.684755</td>\n",
       "      <td>0.996507</td>\n",
       "      <td>SIRA</td>\n",
       "    </tr>\n",
       "  </tbody>\n",
       "</table>\n",
       "</div>"
      ],
      "text/plain": [
       "    Area  Perimeter  MajorAxisLength  MinorAxisLength  AspectRation  \\\n",
       "0  58238    971.303       397.202654       186.945510      2.124697   \n",
       "1  44515    757.601       265.590470       213.967453      1.241266   \n",
       "2  31662    653.783       239.902428       168.421505      1.424417   \n",
       "3  38778    734.020       268.446281       184.061923      1.458456   \n",
       "4  42530    775.403       281.212824       193.236878      1.455275   \n",
       "\n",
       "   Eccentricity  ConvexArea  EquivDiameter    Extent  Solidity  roundness  \\\n",
       "0      0.882317       58977     272.306674  0.604756  0.987470   0.775723   \n",
       "1      0.592420       44780     238.071960  0.771745  0.994082   0.974620   \n",
       "2      0.712136       32034     200.781748  0.801407  0.988387   0.930853   \n",
       "3      0.727925       39208     222.201897  0.766137  0.989033   0.904439   \n",
       "4      0.726511       43028     232.703412  0.729816  0.988426   0.888895   \n",
       "\n",
       "   Compactness  ShapeFactor1  ShapeFactor2  ShapeFactor3  ShapeFactor4  \\\n",
       "0     0.685561      0.006820      0.000929      0.469994      0.998595   \n",
       "1     0.896387      0.005966      0.002376      0.803510      0.997370   \n",
       "2     0.836931      0.007577      0.002293      0.700453      0.997737   \n",
       "3     0.827733      0.006923      0.002005      0.685142      0.999250   \n",
       "4     0.827499      0.006612      0.001912      0.684755      0.996507   \n",
       "\n",
       "          y  \n",
       "0     HOROZ  \n",
       "1     SEKER  \n",
       "2  DERMASON  \n",
       "3  DERMASON  \n",
       "4      SIRA  "
      ]
     },
     "execution_count": 3,
     "metadata": {},
     "output_type": "execute_result"
    }
   ],
   "source": [
    "data.drop('ID', axis=1, inplace=True)\n",
    "data.head()\n",
    "\n"
   ]
  },
  {
   "cell_type": "code",
   "execution_count": 4,
   "id": "89bccb1c",
   "metadata": {},
   "outputs": [
    {
     "data": {
      "text/plain": [
       "Area               0\n",
       "Perimeter          0\n",
       "MajorAxisLength    0\n",
       "MinorAxisLength    0\n",
       "AspectRation       0\n",
       "Eccentricity       0\n",
       "ConvexArea         0\n",
       "EquivDiameter      0\n",
       "Extent             0\n",
       "Solidity           0\n",
       "roundness          0\n",
       "Compactness        0\n",
       "ShapeFactor1       0\n",
       "ShapeFactor2       0\n",
       "ShapeFactor3       0\n",
       "ShapeFactor4       0\n",
       "y                  0\n",
       "dtype: int64"
      ]
     },
     "execution_count": 4,
     "metadata": {},
     "output_type": "execute_result"
    }
   ],
   "source": [
    "data.isna().sum()\n"
   ]
  },
  {
   "cell_type": "code",
   "execution_count": 5,
   "id": "411d7b88",
   "metadata": {},
   "outputs": [
    {
     "name": "stdout",
     "output_type": "stream",
     "text": [
      "<class 'pandas.core.frame.DataFrame'>\n",
      "RangeIndex: 10834 entries, 0 to 10833\n",
      "Data columns (total 17 columns):\n",
      " #   Column           Non-Null Count  Dtype  \n",
      "---  ------           --------------  -----  \n",
      " 0   Area             10834 non-null  int64  \n",
      " 1   Perimeter        10834 non-null  float64\n",
      " 2   MajorAxisLength  10834 non-null  float64\n",
      " 3   MinorAxisLength  10834 non-null  float64\n",
      " 4   AspectRation     10834 non-null  float64\n",
      " 5   Eccentricity     10834 non-null  float64\n",
      " 6   ConvexArea       10834 non-null  int64  \n",
      " 7   EquivDiameter    10834 non-null  float64\n",
      " 8   Extent           10834 non-null  float64\n",
      " 9   Solidity         10834 non-null  float64\n",
      " 10  roundness        10834 non-null  float64\n",
      " 11  Compactness      10834 non-null  float64\n",
      " 12  ShapeFactor1     10834 non-null  float64\n",
      " 13  ShapeFactor2     10834 non-null  float64\n",
      " 14  ShapeFactor3     10834 non-null  float64\n",
      " 15  ShapeFactor4     10834 non-null  float64\n",
      " 16  y                10834 non-null  object \n",
      "dtypes: float64(14), int64(2), object(1)\n",
      "memory usage: 1.4+ MB\n"
     ]
    }
   ],
   "source": [
    "data.info()\n"
   ]
  },
  {
   "cell_type": "code",
   "execution_count": 6,
   "id": "b46286c0",
   "metadata": {},
   "outputs": [
    {
     "data": {
      "text/html": [
       "<div>\n",
       "<style scoped>\n",
       "    .dataframe tbody tr th:only-of-type {\n",
       "        vertical-align: middle;\n",
       "    }\n",
       "\n",
       "    .dataframe tbody tr th {\n",
       "        vertical-align: top;\n",
       "    }\n",
       "\n",
       "    .dataframe thead th {\n",
       "        text-align: right;\n",
       "    }\n",
       "</style>\n",
       "<table border=\"1\" class=\"dataframe\">\n",
       "  <thead>\n",
       "    <tr style=\"text-align: right;\">\n",
       "      <th></th>\n",
       "      <th>Area</th>\n",
       "      <th>Perimeter</th>\n",
       "      <th>MajorAxisLength</th>\n",
       "      <th>MinorAxisLength</th>\n",
       "      <th>AspectRation</th>\n",
       "      <th>Eccentricity</th>\n",
       "      <th>ConvexArea</th>\n",
       "      <th>EquivDiameter</th>\n",
       "      <th>Extent</th>\n",
       "      <th>Solidity</th>\n",
       "      <th>roundness</th>\n",
       "      <th>Compactness</th>\n",
       "      <th>ShapeFactor1</th>\n",
       "      <th>ShapeFactor2</th>\n",
       "      <th>ShapeFactor3</th>\n",
       "      <th>ShapeFactor4</th>\n",
       "    </tr>\n",
       "  </thead>\n",
       "  <tbody>\n",
       "    <tr>\n",
       "      <th>count</th>\n",
       "      <td>10834.000000</td>\n",
       "      <td>10834.000000</td>\n",
       "      <td>10834.000000</td>\n",
       "      <td>10834.000000</td>\n",
       "      <td>10834.000000</td>\n",
       "      <td>10834.000000</td>\n",
       "      <td>10834.000000</td>\n",
       "      <td>10834.000000</td>\n",
       "      <td>10834.000000</td>\n",
       "      <td>10834.000000</td>\n",
       "      <td>10834.000000</td>\n",
       "      <td>10834.000000</td>\n",
       "      <td>10834.000000</td>\n",
       "      <td>10834.000000</td>\n",
       "      <td>10834.000000</td>\n",
       "      <td>10834.000000</td>\n",
       "    </tr>\n",
       "    <tr>\n",
       "      <th>mean</th>\n",
       "      <td>53095.675189</td>\n",
       "      <td>855.274892</td>\n",
       "      <td>320.036169</td>\n",
       "      <td>202.410342</td>\n",
       "      <td>1.581294</td>\n",
       "      <td>0.750588</td>\n",
       "      <td>53816.205926</td>\n",
       "      <td>253.123583</td>\n",
       "      <td>0.749937</td>\n",
       "      <td>0.987152</td>\n",
       "      <td>0.873647</td>\n",
       "      <td>0.800244</td>\n",
       "      <td>0.006559</td>\n",
       "      <td>0.001718</td>\n",
       "      <td>0.644139</td>\n",
       "      <td>0.995083</td>\n",
       "    </tr>\n",
       "    <tr>\n",
       "      <th>std</th>\n",
       "      <td>29542.542580</td>\n",
       "      <td>214.991122</td>\n",
       "      <td>85.961630</td>\n",
       "      <td>45.113965</td>\n",
       "      <td>0.244314</td>\n",
       "      <td>0.091481</td>\n",
       "      <td>29999.710739</td>\n",
       "      <td>59.433080</td>\n",
       "      <td>0.048949</td>\n",
       "      <td>0.004626</td>\n",
       "      <td>0.059344</td>\n",
       "      <td>0.061228</td>\n",
       "      <td>0.001127</td>\n",
       "      <td>0.000593</td>\n",
       "      <td>0.098268</td>\n",
       "      <td>0.004306</td>\n",
       "    </tr>\n",
       "    <tr>\n",
       "      <th>min</th>\n",
       "      <td>20420.000000</td>\n",
       "      <td>524.932000</td>\n",
       "      <td>183.601165</td>\n",
       "      <td>129.576207</td>\n",
       "      <td>1.024868</td>\n",
       "      <td>0.218951</td>\n",
       "      <td>20684.000000</td>\n",
       "      <td>161.243764</td>\n",
       "      <td>0.555315</td>\n",
       "      <td>0.919246</td>\n",
       "      <td>0.489618</td>\n",
       "      <td>0.645368</td>\n",
       "      <td>0.002856</td>\n",
       "      <td>0.000564</td>\n",
       "      <td>0.416499</td>\n",
       "      <td>0.947687</td>\n",
       "    </tr>\n",
       "    <tr>\n",
       "      <th>25%</th>\n",
       "      <td>36343.500000</td>\n",
       "      <td>703.601250</td>\n",
       "      <td>253.501071</td>\n",
       "      <td>175.927024</td>\n",
       "      <td>1.432985</td>\n",
       "      <td>0.716250</td>\n",
       "      <td>36731.250000</td>\n",
       "      <td>215.113880</td>\n",
       "      <td>0.718778</td>\n",
       "      <td>0.985627</td>\n",
       "      <td>0.833479</td>\n",
       "      <td>0.763378</td>\n",
       "      <td>0.005888</td>\n",
       "      <td>0.001161</td>\n",
       "      <td>0.582747</td>\n",
       "      <td>0.993690</td>\n",
       "    </tr>\n",
       "    <tr>\n",
       "      <th>50%</th>\n",
       "      <td>44645.000000</td>\n",
       "      <td>793.739500</td>\n",
       "      <td>296.377365</td>\n",
       "      <td>192.525040</td>\n",
       "      <td>1.550761</td>\n",
       "      <td>0.764314</td>\n",
       "      <td>45148.000000</td>\n",
       "      <td>238.419335</td>\n",
       "      <td>0.760141</td>\n",
       "      <td>0.988290</td>\n",
       "      <td>0.883472</td>\n",
       "      <td>0.801428</td>\n",
       "      <td>0.006643</td>\n",
       "      <td>0.001700</td>\n",
       "      <td>0.642287</td>\n",
       "      <td>0.996397</td>\n",
       "    </tr>\n",
       "    <tr>\n",
       "      <th>75%</th>\n",
       "      <td>61295.000000</td>\n",
       "      <td>975.517500</td>\n",
       "      <td>376.068399</td>\n",
       "      <td>217.315195</td>\n",
       "      <td>1.703029</td>\n",
       "      <td>0.809450</td>\n",
       "      <td>62251.500000</td>\n",
       "      <td>279.362162</td>\n",
       "      <td>0.786871</td>\n",
       "      <td>0.990014</td>\n",
       "      <td>0.916883</td>\n",
       "      <td>0.834068</td>\n",
       "      <td>0.007268</td>\n",
       "      <td>0.002169</td>\n",
       "      <td>0.695670</td>\n",
       "      <td>0.997895</td>\n",
       "    </tr>\n",
       "    <tr>\n",
       "      <th>max</th>\n",
       "      <td>254616.000000</td>\n",
       "      <td>1985.370000</td>\n",
       "      <td>738.860153</td>\n",
       "      <td>450.926187</td>\n",
       "      <td>2.388873</td>\n",
       "      <td>0.908167</td>\n",
       "      <td>263261.000000</td>\n",
       "      <td>569.374358</td>\n",
       "      <td>0.866195</td>\n",
       "      <td>0.994677</td>\n",
       "      <td>0.990685</td>\n",
       "      <td>0.987303</td>\n",
       "      <td>0.009897</td>\n",
       "      <td>0.003665</td>\n",
       "      <td>0.974767</td>\n",
       "      <td>0.999733</td>\n",
       "    </tr>\n",
       "  </tbody>\n",
       "</table>\n",
       "</div>"
      ],
      "text/plain": [
       "                Area     Perimeter  MajorAxisLength  MinorAxisLength  \\\n",
       "count   10834.000000  10834.000000     10834.000000     10834.000000   \n",
       "mean    53095.675189    855.274892       320.036169       202.410342   \n",
       "std     29542.542580    214.991122        85.961630        45.113965   \n",
       "min     20420.000000    524.932000       183.601165       129.576207   \n",
       "25%     36343.500000    703.601250       253.501071       175.927024   \n",
       "50%     44645.000000    793.739500       296.377365       192.525040   \n",
       "75%     61295.000000    975.517500       376.068399       217.315195   \n",
       "max    254616.000000   1985.370000       738.860153       450.926187   \n",
       "\n",
       "       AspectRation  Eccentricity     ConvexArea  EquivDiameter        Extent  \\\n",
       "count  10834.000000  10834.000000   10834.000000   10834.000000  10834.000000   \n",
       "mean       1.581294      0.750588   53816.205926     253.123583      0.749937   \n",
       "std        0.244314      0.091481   29999.710739      59.433080      0.048949   \n",
       "min        1.024868      0.218951   20684.000000     161.243764      0.555315   \n",
       "25%        1.432985      0.716250   36731.250000     215.113880      0.718778   \n",
       "50%        1.550761      0.764314   45148.000000     238.419335      0.760141   \n",
       "75%        1.703029      0.809450   62251.500000     279.362162      0.786871   \n",
       "max        2.388873      0.908167  263261.000000     569.374358      0.866195   \n",
       "\n",
       "           Solidity     roundness   Compactness  ShapeFactor1  ShapeFactor2  \\\n",
       "count  10834.000000  10834.000000  10834.000000  10834.000000  10834.000000   \n",
       "mean       0.987152      0.873647      0.800244      0.006559      0.001718   \n",
       "std        0.004626      0.059344      0.061228      0.001127      0.000593   \n",
       "min        0.919246      0.489618      0.645368      0.002856      0.000564   \n",
       "25%        0.985627      0.833479      0.763378      0.005888      0.001161   \n",
       "50%        0.988290      0.883472      0.801428      0.006643      0.001700   \n",
       "75%        0.990014      0.916883      0.834068      0.007268      0.002169   \n",
       "max        0.994677      0.990685      0.987303      0.009897      0.003665   \n",
       "\n",
       "       ShapeFactor3  ShapeFactor4  \n",
       "count  10834.000000  10834.000000  \n",
       "mean       0.644139      0.995083  \n",
       "std        0.098268      0.004306  \n",
       "min        0.416499      0.947687  \n",
       "25%        0.582747      0.993690  \n",
       "50%        0.642287      0.996397  \n",
       "75%        0.695670      0.997895  \n",
       "max        0.974767      0.999733  "
      ]
     },
     "execution_count": 6,
     "metadata": {},
     "output_type": "execute_result"
    }
   ],
   "source": [
    "data.describe()\n",
    "\n"
   ]
  },
  {
   "cell_type": "code",
   "execution_count": 7,
   "id": "bada40a1",
   "metadata": {},
   "outputs": [
    {
     "data": {
      "text/plain": [
       "DERMASON    2837\n",
       "SIRA        2109\n",
       "SEKER       1621\n",
       "HOROZ       1488\n",
       "CALI        1304\n",
       "BARBUNYA    1057\n",
       "BOMBAY       418\n",
       "Name: y, dtype: int64"
      ]
     },
     "execution_count": 7,
     "metadata": {},
     "output_type": "execute_result"
    }
   ],
   "source": [
    "data['y'].value_counts()\n",
    "\n"
   ]
  },
  {
   "cell_type": "markdown",
   "id": "55e3ae2b",
   "metadata": {},
   "source": [
    "## Handle Imbalanced Classes Methods"
   ]
  },
  {
   "cell_type": "code",
   "execution_count": 8,
   "id": "5a2cb13f",
   "metadata": {},
   "outputs": [
    {
     "name": "stdout",
     "output_type": "stream",
     "text": [
      "class 0: (2837, 17)\n",
      "class 1: (2109, 17)\n",
      "class 2: (1621, 17)\n",
      "class 3: (1488, 17)\n",
      "class 4: (1304, 17)\n",
      "class 5: (1057, 17)\n",
      "class 6: (418, 17)\n"
     ]
    }
   ],
   "source": [
    "# class count\n",
    "class_count_0, class_count_1, class_count_2, class_count_3, class_count_4, class_count_5, class_count_6 = data['y'].value_counts()\n",
    "\n",
    "# Separate class\n",
    "class_0 = data[data['y'] == 'DERMASON']\n",
    "class_1 = data[data['y'] == 'SIRA']\n",
    "class_2 = data[data['y'] == 'SEKER']\n",
    "class_3 = data[data['y'] == 'HOROZ']\n",
    "class_4 = data[data['y'] == 'CALI']\n",
    "class_5 = data[data['y'] == 'BARBUNYA']\n",
    "class_6 = data[data['y'] == 'BOMBAY']\n",
    "\n",
    "print('class 0:', class_0.shape)\n",
    "print('class 1:', class_1.shape)\n",
    "print('class 2:', class_2.shape)\n",
    "print('class 3:', class_3.shape)\n",
    "print('class 4:', class_4.shape)\n",
    "print('class 5:', class_5.shape)\n",
    "print('class 6:', class_6.shape)"
   ]
  },
  {
   "cell_type": "markdown",
   "id": "137e0efa",
   "metadata": {},
   "source": [
    "#### 1- Random Under-Sampling"
   ]
  },
  {
   "cell_type": "code",
   "execution_count": 9,
   "id": "72258a26",
   "metadata": {},
   "outputs": [],
   "source": [
    "# class_0_under = class_0.sample(class_count_6)\n",
    "# class_1_under = class_1.sample(class_count_6)\n",
    "# class_2_under = class_2.sample(class_count_6)\n",
    "# class_3_under = class_3.sample(class_count_6)\n",
    "# class_4_under = class_4.sample(class_count_6)\n",
    "# class_5_under = class_5.sample(class_count_6)\n",
    "\n",
    "\n",
    "# data = pd.concat([class_0_under,\n",
    "#                         class_1_under,\n",
    "#                         class_2_under,\n",
    "#                         class_3_under,\n",
    "#                         class_4_under,\n",
    "#                         class_5_under,\n",
    "#                         class_6], axis=0)\n",
    "\n",
    "# print(\"total class of 1 and 0:\",data['y'].value_counts())# plot the count after under-sampeling\n",
    "# data['y'].value_counts().plot(kind='bar', title='count (target)')"
   ]
  },
  {
   "cell_type": "markdown",
   "id": "50d703fd",
   "metadata": {},
   "source": [
    "#### 2- Random Over-Sampling"
   ]
  },
  {
   "cell_type": "code",
   "execution_count": 10,
   "id": "d7e376c3",
   "metadata": {},
   "outputs": [
    {
     "name": "stdout",
     "output_type": "stream",
     "text": [
      "total class of 1 and 0: SIRA        2837\n",
      "SEKER       2837\n",
      "HOROZ       2837\n",
      "CALI        2837\n",
      "BARBUNYA    2837\n",
      "BOMBAY      2837\n",
      "DERMASON    2837\n",
      "Name: y, dtype: int64\n"
     ]
    },
    {
     "data": {
      "text/plain": [
       "<AxesSubplot:title={'center':'count (target)'}>"
      ]
     },
     "execution_count": 10,
     "metadata": {},
     "output_type": "execute_result"
    },
    {
     "data": {
      "image/png": "[encoded data removed]",
      "text/plain": [
       "<Figure size 432x288 with 1 Axes>"
      ]
     },
     "metadata": {
      "needs_background": "light"
     },
     "output_type": "display_data"
    }
   ],
   "source": [
    "class_1_over = class_1.sample(class_count_0, replace=True)\n",
    "class_2_over = class_2.sample(class_count_0, replace=True)\n",
    "class_3_over = class_3.sample(class_count_0, replace=True)\n",
    "class_4_over = class_4.sample(class_count_0, replace=True)\n",
    "class_5_over = class_5.sample(class_count_0, replace=True)\n",
    "class_6_over = class_6.sample(class_count_0, replace=True)\n",
    "\n",
    "\n",
    "data = pd.concat([class_1_over,\n",
    "                        class_2_over,\n",
    "                        class_3_over,\n",
    "                        class_4_over,\n",
    "                        class_5_over,\n",
    "                        class_6_over,\n",
    "                        class_0], axis=0)\n",
    "\n",
    "print(\"total class of 1 and 0:\",data['y'].value_counts())# plot the count after under-sampeling\n",
    "data['y'].value_counts().plot(kind='bar', title='count (target)')"
   ]
  },
  {
   "cell_type": "code",
   "execution_count": null,
   "id": "ec597b34",
   "metadata": {},
   "outputs": [],
   "source": [
    "\n"
   ]
  },
  {
   "cell_type": "markdown",
   "id": "9e69c5ce",
   "metadata": {},
   "source": [
    "#### 3- Over + Under == 2109"
   ]
  },
  {
   "cell_type": "code",
   "execution_count": 11,
   "id": "b18bf154",
   "metadata": {},
   "outputs": [],
   "source": [
    "# class_0_under = class_0.sample(class_count_1)\n",
    "# class_2_under = class_2.sample(class_count_1, replace=True)\n",
    "# class_3_under = class_3.sample(class_count_1, replace=True)\n",
    "# class_4_under = class_4.sample(class_count_1, replace=True)\n",
    "# class_5_under = class_5.sample(class_count_1, replace=True)\n",
    "# class_6_under = class_6.sample(class_count_1, replace=True)\n",
    "\n",
    "\n",
    "# data = pd.concat([class_0_under,\n",
    "#                         class_2_under,\n",
    "#                         class_3_under,\n",
    "#                         class_4_under,\n",
    "#                         class_5_under,\n",
    "#                         class_6_under,\n",
    "#                         class_1], axis=0)\n",
    "\n",
    "# print(\"total class of 1 and 0:\",data['y'].value_counts())# plot the count after under-sampeling\n",
    "# data['y'].value_counts().plot(kind='bar', title='count (target)')"
   ]
  },
  {
   "cell_type": "markdown",
   "id": "ff77a338",
   "metadata": {},
   "source": [
    "#### 4- Random Over-Sampling - Mohand"
   ]
  },
  {
   "cell_type": "code",
   "execution_count": 12,
   "id": "965ef7d8",
   "metadata": {},
   "outputs": [],
   "source": [
    "# from imblearn.over_sampling import RandomOverSampler\n",
    "\n",
    "# oversample = RandomOverSampler(sampling_strategy='all')\n",
    "# X=data.drop('y',axis=1)\n",
    "# X_train_copy,y_train_copy = oversample.fit_resample(X,data[['y']])\n"
   ]
  },
  {
   "cell_type": "code",
   "execution_count": 13,
   "id": "5694c234",
   "metadata": {},
   "outputs": [],
   "source": [
    "# data=pd.concat([X_train_copy,y_train_copy],axis=1)\n"
   ]
  },
  {
   "cell_type": "code",
   "execution_count": 14,
   "id": "52ae9311",
   "metadata": {},
   "outputs": [],
   "source": [
    "# data['y'].value_counts()\n"
   ]
  },
  {
   "cell_type": "markdown",
   "id": "1f1d0db1",
   "metadata": {},
   "source": [
    "#### 5- Random under-sampling with imblearn"
   ]
  },
  {
   "cell_type": "code",
   "execution_count": 15,
   "id": "6a3bec5a",
   "metadata": {},
   "outputs": [],
   "source": [
    "# # import library\n",
    "# from imblearn.under_sampling import RandomUnderSampler\n",
    "\n",
    "# rus = RandomUnderSampler(random_state=42, replacement=True)# fit predictor and target variable\n",
    "# X=data.drop('y',axis=1)\n",
    "# x_rus, y_rus = rus.fit_resample(X, data[['y']])"
   ]
  },
  {
   "cell_type": "code",
   "execution_count": 16,
   "id": "c6c51c91",
   "metadata": {},
   "outputs": [],
   "source": [
    "# data=pd.concat([x_rus,y_rus],axis=1)\n"
   ]
  },
  {
   "cell_type": "markdown",
   "id": "df32779b",
   "metadata": {},
   "source": [
    "#### 6- Random over-sampling with imblearn"
   ]
  },
  {
   "cell_type": "code",
   "execution_count": 17,
   "id": "f50d17d7",
   "metadata": {},
   "outputs": [],
   "source": [
    "# # import library\n",
    "# from imblearn.over_sampling import RandomOverSampler\n",
    "\n",
    "# ros = RandomOverSampler(random_state=42)\n",
    "# X=data.drop('y',axis=1)\n",
    "# x_ros, y_ros = ros.fit_resample(X, data[['y']])"
   ]
  },
  {
   "cell_type": "code",
   "execution_count": 18,
   "id": "c8dd8645",
   "metadata": {},
   "outputs": [],
   "source": [
    "# data=pd.concat([x_ros,y_ros],axis=1)\n"
   ]
  },
  {
   "cell_type": "markdown",
   "id": "ca6d6294",
   "metadata": {},
   "source": [
    "#### 7- Under-sampling: Tomek links"
   ]
  },
  {
   "cell_type": "code",
   "execution_count": 19,
   "id": "80818079",
   "metadata": {},
   "outputs": [],
   "source": [
    "# from imblearn.under_sampling import TomekLinks\n",
    "\n",
    "# tl = TomekLinks(sampling_strategy='majority')\n",
    "# X=data.drop('y',axis=1)\n",
    "# x_tl, y_tl = tl.fit_resample(X, data[['y']])"
   ]
  },
  {
   "cell_type": "code",
   "execution_count": 20,
   "id": "3d872e1d",
   "metadata": {},
   "outputs": [],
   "source": [
    "# data=pd.concat([x_tl,y_tl],axis=1)\n"
   ]
  },
  {
   "cell_type": "markdown",
   "id": "799d23e7",
   "metadata": {},
   "source": [
    "#### 8. Synthetic Minority Oversampling Technique (SMOTE)\n"
   ]
  },
  {
   "cell_type": "code",
   "execution_count": 21,
   "id": "78546533",
   "metadata": {},
   "outputs": [],
   "source": [
    "# from imblearn.over_sampling import SMOTE\n",
    "\n",
    "# smote = SMOTE()\n",
    "# X=data.drop('y',axis=1)\n",
    "# x_smote, y_smote = smote.fit_resample(X, data[['y']])"
   ]
  },
  {
   "cell_type": "code",
   "execution_count": 22,
   "id": "3ea5e808",
   "metadata": {},
   "outputs": [],
   "source": [
    "# data=pd.concat([x_smote,y_smote],axis=1)\n"
   ]
  },
  {
   "cell_type": "markdown",
   "id": "6a825279",
   "metadata": {},
   "source": [
    "#### 9- NearMiss"
   ]
  },
  {
   "cell_type": "code",
   "execution_count": 23,
   "id": "1ddd2c1c",
   "metadata": {},
   "outputs": [],
   "source": [
    "# from imblearn.under_sampling import NearMiss\n",
    "\n",
    "# nm = NearMiss()\n",
    "# X=data.drop('y',axis=1)\n",
    "# x_nm, y_nm = nm.fit_resample(X, data[['y']])"
   ]
  },
  {
   "cell_type": "code",
   "execution_count": 24,
   "id": "61f71ff2",
   "metadata": {},
   "outputs": [],
   "source": [
    "# data=pd.concat([x_nm,y_nm],axis=1)\n"
   ]
  },
  {
   "cell_type": "code",
   "execution_count": null,
   "id": "5ba2407c",
   "metadata": {},
   "outputs": [],
   "source": []
  },
  {
   "cell_type": "code",
   "execution_count": null,
   "id": "1a91af14",
   "metadata": {},
   "outputs": [],
   "source": []
  },
  {
   "cell_type": "code",
   "execution_count": null,
   "id": "f07a7409",
   "metadata": {},
   "outputs": [],
   "source": []
  },
  {
   "cell_type": "markdown",
   "id": "4312a24c",
   "metadata": {},
   "source": [
    "### Encode the Categorical Target"
   ]
  },
  {
   "cell_type": "code",
   "execution_count": 25,
   "id": "a650c47c",
   "metadata": {},
   "outputs": [],
   "source": [
    "data['y'].replace({'DERMASON':0,'SIRA':1,'SEKER':2,'HOROZ':3,'CALI':4,'BARBUNYA':5,'BOMBAY':6},inplace=True)"
   ]
  },
  {
   "cell_type": "markdown",
   "id": "c64564bb",
   "metadata": {},
   "source": [
    "### Visualize Data"
   ]
  },
  {
   "cell_type": "code",
   "execution_count": 26,
   "id": "72bd481e",
   "metadata": {},
   "outputs": [
    {
     "data": {
      "image/png": "[encoded data removed]",
      "text/plain": [
       "<Figure size 1080x1080 with 2 Axes>"
      ]
     },
     "metadata": {
      "needs_background": "light"
     },
     "output_type": "display_data"
    }
   ],
   "source": [
    "corr_matrix = data.corr().abs()\n",
    "\n",
    "plt.figure(figsize=(15,15))\n",
    "plt.title('Correlation Heatmap of Beans Dataset')\n",
    "a = sns.heatmap(corr_matrix, square=True, annot=True, fmt='.2f', linecolor='black')\n",
    "a.set_xticklabels(a.get_xticklabels(), rotation=30)\n",
    "a.set_yticklabels(a.get_yticklabels(), rotation=30)\n",
    "plt.show()\n"
   ]
  },
  {
   "cell_type": "markdown",
   "id": "beac97be",
   "metadata": {},
   "source": [
    "### Deal with Corr Data - Try with / without dropping"
   ]
  },
  {
   "cell_type": "code",
   "execution_count": 27,
   "id": "a35d75d9",
   "metadata": {},
   "outputs": [
    {
     "name": "stderr",
     "output_type": "stream",
     "text": [
      "/var/folders/pt/jyznl8l11dnchkwt6_m3kqy80000gn/T/ipykernel_6763/3248188976.py:1: DeprecationWarning: `np.bool` is a deprecated alias for the builtin `bool`. To silence this warning, use `bool` by itself. Doing this will not modify any behavior and is safe. If you specifically wanted the numpy scalar type, use `np.bool_` here.\n",
      "Deprecated in NumPy 1.20; for more details and guidance: https://numpy.org/devdocs/release/1.20.0-notes.html#deprecations\n",
      "  upper_tri = corr_matrix.where(np.triu(np.ones(corr_matrix.shape),k=1).astype(np.bool))\n"
     ]
    }
   ],
   "source": [
    "upper_tri = corr_matrix.where(np.triu(np.ones(corr_matrix.shape),k=1).astype(np.bool))\n"
   ]
  },
  {
   "cell_type": "code",
   "execution_count": 28,
   "id": "c98b6017",
   "metadata": {},
   "outputs": [
    {
     "data": {
      "text/plain": [
       "['Perimeter',\n",
       " 'MajorAxisLength',\n",
       " 'MinorAxisLength',\n",
       " 'ConvexArea',\n",
       " 'EquivDiameter',\n",
       " 'Compactness',\n",
       " 'ShapeFactor1',\n",
       " 'ShapeFactor3']"
      ]
     },
     "execution_count": 28,
     "metadata": {},
     "output_type": "execute_result"
    }
   ],
   "source": [
    "to_drop = [column for column in upper_tri.columns if any(upper_tri[column] > 0.95)]\n",
    "to_drop\n",
    "\n"
   ]
  },
  {
   "cell_type": "code",
   "execution_count": 29,
   "id": "dc71a694",
   "metadata": {},
   "outputs": [],
   "source": [
    "data_dropped = data.drop(to_drop, axis=1)\n",
    "\n"
   ]
  },
  {
   "cell_type": "code",
   "execution_count": 30,
   "id": "6fb26a6b",
   "metadata": {},
   "outputs": [],
   "source": [
    "data_test.drop(to_drop, axis=1, inplace=True)\n",
    "ID = data_test['ID']\n",
    "data_test.drop('ID', axis=1, inplace=True)\n"
   ]
  },
  {
   "cell_type": "code",
   "execution_count": 31,
   "id": "6a96b63a",
   "metadata": {},
   "outputs": [
    {
     "data": {
      "text/html": [
       "<div>\n",
       "<style scoped>\n",
       "    .dataframe tbody tr th:only-of-type {\n",
       "        vertical-align: middle;\n",
       "    }\n",
       "\n",
       "    .dataframe tbody tr th {\n",
       "        vertical-align: top;\n",
       "    }\n",
       "\n",
       "    .dataframe thead th {\n",
       "        text-align: right;\n",
       "    }\n",
       "</style>\n",
       "<table border=\"1\" class=\"dataframe\">\n",
       "  <thead>\n",
       "    <tr style=\"text-align: right;\">\n",
       "      <th></th>\n",
       "      <th>Area</th>\n",
       "      <th>AspectRation</th>\n",
       "      <th>Eccentricity</th>\n",
       "      <th>Extent</th>\n",
       "      <th>Solidity</th>\n",
       "      <th>roundness</th>\n",
       "      <th>ShapeFactor2</th>\n",
       "      <th>ShapeFactor4</th>\n",
       "    </tr>\n",
       "  </thead>\n",
       "  <tbody>\n",
       "    <tr>\n",
       "      <th>0</th>\n",
       "      <td>57659</td>\n",
       "      <td>1.972059</td>\n",
       "      <td>0.861896</td>\n",
       "      <td>0.620790</td>\n",
       "      <td>0.957982</td>\n",
       "      <td>0.793735</td>\n",
       "      <td>0.000989</td>\n",
       "      <td>0.962889</td>\n",
       "    </tr>\n",
       "    <tr>\n",
       "      <th>1</th>\n",
       "      <td>28772</td>\n",
       "      <td>1.440960</td>\n",
       "      <td>0.719993</td>\n",
       "      <td>0.767458</td>\n",
       "      <td>0.987812</td>\n",
       "      <td>0.909913</td>\n",
       "      <td>0.002365</td>\n",
       "      <td>0.997956</td>\n",
       "    </tr>\n",
       "    <tr>\n",
       "      <th>2</th>\n",
       "      <td>54677</td>\n",
       "      <td>1.364204</td>\n",
       "      <td>0.680198</td>\n",
       "      <td>0.753013</td>\n",
       "      <td>0.978857</td>\n",
       "      <td>0.827860</td>\n",
       "      <td>0.001856</td>\n",
       "      <td>0.995607</td>\n",
       "    </tr>\n",
       "    <tr>\n",
       "      <th>3</th>\n",
       "      <td>24827</td>\n",
       "      <td>1.449322</td>\n",
       "      <td>0.723831</td>\n",
       "      <td>0.716508</td>\n",
       "      <td>0.988297</td>\n",
       "      <td>0.932871</td>\n",
       "      <td>0.002526</td>\n",
       "      <td>0.998596</td>\n",
       "    </tr>\n",
       "    <tr>\n",
       "      <th>4</th>\n",
       "      <td>141850</td>\n",
       "      <td>1.513136</td>\n",
       "      <td>0.750492</td>\n",
       "      <td>0.804617</td>\n",
       "      <td>0.987263</td>\n",
       "      <td>0.868240</td>\n",
       "      <td>0.000981</td>\n",
       "      <td>0.991803</td>\n",
       "    </tr>\n",
       "  </tbody>\n",
       "</table>\n",
       "</div>"
      ],
      "text/plain": [
       "     Area  AspectRation  Eccentricity    Extent  Solidity  roundness  \\\n",
       "0   57659      1.972059      0.861896  0.620790  0.957982   0.793735   \n",
       "1   28772      1.440960      0.719993  0.767458  0.987812   0.909913   \n",
       "2   54677      1.364204      0.680198  0.753013  0.978857   0.827860   \n",
       "3   24827      1.449322      0.723831  0.716508  0.988297   0.932871   \n",
       "4  141850      1.513136      0.750492  0.804617  0.987263   0.868240   \n",
       "\n",
       "   ShapeFactor2  ShapeFactor4  \n",
       "0      0.000989      0.962889  \n",
       "1      0.002365      0.997956  \n",
       "2      0.001856      0.995607  \n",
       "3      0.002526      0.998596  \n",
       "4      0.000981      0.991803  "
      ]
     },
     "execution_count": 31,
     "metadata": {},
     "output_type": "execute_result"
    }
   ],
   "source": [
    "data_test.head()\n",
    "\n"
   ]
  },
  {
   "cell_type": "markdown",
   "id": "c7f3775a",
   "metadata": {},
   "source": [
    "#### Note: We Will work first with the data_dropped "
   ]
  },
  {
   "cell_type": "markdown",
   "id": "68104d92",
   "metadata": {},
   "source": [
    "### Handle data skewness and outliers"
   ]
  },
  {
   "cell_type": "code",
   "execution_count": 32,
   "id": "64bb3bb3",
   "metadata": {},
   "outputs": [
    {
     "data": {
      "text/plain": [
       "array([[<AxesSubplot:title={'center':'Area'}>,\n",
       "        <AxesSubplot:title={'center':'AspectRation'}>,\n",
       "        <AxesSubplot:title={'center':'Eccentricity'}>],\n",
       "       [<AxesSubplot:title={'center':'Extent'}>,\n",
       "        <AxesSubplot:title={'center':'Solidity'}>,\n",
       "        <AxesSubplot:title={'center':'roundness'}>],\n",
       "       [<AxesSubplot:title={'center':'ShapeFactor2'}>,\n",
       "        <AxesSubplot:title={'center':'ShapeFactor4'}>,\n",
       "        <AxesSubplot:title={'center':'y'}>]], dtype=object)"
      ]
     },
     "execution_count": 32,
     "metadata": {},
     "output_type": "execute_result"
    },
    {
     "data": {
      "image/png": "[encoded data removed]",
      "text/plain": [
       "<Figure size 1440x1080 with 9 Axes>"
      ]
     },
     "metadata": {
      "needs_background": "light"
     },
     "output_type": "display_data"
    }
   ],
   "source": [
    "\n",
    "data_dropped.hist(figsize=(20,15))\n",
    "\n"
   ]
  },
  {
   "cell_type": "code",
   "execution_count": 33,
   "id": "52a06ba6",
   "metadata": {},
   "outputs": [
    {
     "data": {
      "text/plain": [
       "Area            1.727220\n",
       "ShapeFactor2    0.663454\n",
       "AspectRation    0.421688\n",
       "y               0.000000\n",
       "roundness      -0.401040\n",
       "Extent         -0.955302\n",
       "Eccentricity   -1.219325\n",
       "Solidity       -2.013813\n",
       "ShapeFactor4   -2.068935\n",
       "dtype: float64"
      ]
     },
     "execution_count": 33,
     "metadata": {},
     "output_type": "execute_result"
    }
   ],
   "source": [
    "data_dropped.skew().sort_values(ascending=False)\n",
    "\n"
   ]
  },
  {
   "cell_type": "code",
   "execution_count": 34,
   "id": "4b5d900c",
   "metadata": {},
   "outputs": [],
   "source": [
    "data_dropped['Area'] = data_dropped['Area'].apply(lambda x: np.log(x))\n",
    "data_dropped['Solidity'] = data_dropped['Solidity'].apply(lambda x: np.log(x))\n",
    "data_dropped['ShapeFactor4'] = data_dropped['ShapeFactor4'].apply(lambda x: np.log(x))\n",
    "\n"
   ]
  },
  {
   "cell_type": "code",
   "execution_count": 35,
   "id": "b3ca3878",
   "metadata": {},
   "outputs": [
    {
     "data": {
      "text/plain": [
       "array([[<AxesSubplot:title={'center':'Area'}>,\n",
       "        <AxesSubplot:title={'center':'Perimeter'}>,\n",
       "        <AxesSubplot:title={'center':'MajorAxisLength'}>,\n",
       "        <AxesSubplot:title={'center':'MinorAxisLength'}>],\n",
       "       [<AxesSubplot:title={'center':'AspectRation'}>,\n",
       "        <AxesSubplot:title={'center':'Eccentricity'}>,\n",
       "        <AxesSubplot:title={'center':'ConvexArea'}>,\n",
       "        <AxesSubplot:title={'center':'EquivDiameter'}>],\n",
       "       [<AxesSubplot:title={'center':'Extent'}>,\n",
       "        <AxesSubplot:title={'center':'Solidity'}>,\n",
       "        <AxesSubplot:title={'center':'roundness'}>,\n",
       "        <AxesSubplot:title={'center':'Compactness'}>],\n",
       "       [<AxesSubplot:title={'center':'ShapeFactor1'}>,\n",
       "        <AxesSubplot:title={'center':'ShapeFactor2'}>,\n",
       "        <AxesSubplot:title={'center':'ShapeFactor3'}>,\n",
       "        <AxesSubplot:title={'center':'ShapeFactor4'}>],\n",
       "       [<AxesSubplot:title={'center':'y'}>, <AxesSubplot:>,\n",
       "        <AxesSubplot:>, <AxesSubplot:>]], dtype=object)"
      ]
     },
     "execution_count": 35,
     "metadata": {},
     "output_type": "execute_result"
    },
    {
     "data": {
      "image/png": "[encoded data removed]",
      "text/plain": [
       "<Figure size 1440x1080 with 20 Axes>"
      ]
     },
     "metadata": {
      "needs_background": "light"
     },
     "output_type": "display_data"
    }
   ],
   "source": [
    "data.hist(figsize=(20,15))\n",
    "\n"
   ]
  },
  {
   "cell_type": "code",
   "execution_count": 36,
   "id": "dea56dc9",
   "metadata": {},
   "outputs": [
    {
     "data": {
      "text/plain": [
       "Area            0.840681\n",
       "ShapeFactor2    0.663454\n",
       "AspectRation    0.421688\n",
       "y               0.000000\n",
       "roundness      -0.401040\n",
       "Extent         -0.955302\n",
       "Eccentricity   -1.219325\n",
       "Solidity       -2.057761\n",
       "ShapeFactor4   -2.102563\n",
       "dtype: float64"
      ]
     },
     "execution_count": 36,
     "metadata": {},
     "output_type": "execute_result"
    }
   ],
   "source": [
    "data_dropped.skew().sort_values(ascending=False)\n",
    "\n"
   ]
  },
  {
   "cell_type": "code",
   "execution_count": 37,
   "id": "05ff9db8",
   "metadata": {},
   "outputs": [
    {
     "data": {
      "text/html": [
       "<div>\n",
       "<style scoped>\n",
       "    .dataframe tbody tr th:only-of-type {\n",
       "        vertical-align: middle;\n",
       "    }\n",
       "\n",
       "    .dataframe tbody tr th {\n",
       "        vertical-align: top;\n",
       "    }\n",
       "\n",
       "    .dataframe thead th {\n",
       "        text-align: right;\n",
       "    }\n",
       "</style>\n",
       "<table border=\"1\" class=\"dataframe\">\n",
       "  <thead>\n",
       "    <tr style=\"text-align: right;\">\n",
       "      <th></th>\n",
       "      <th>Area</th>\n",
       "      <th>AspectRation</th>\n",
       "      <th>Eccentricity</th>\n",
       "      <th>Extent</th>\n",
       "      <th>Solidity</th>\n",
       "      <th>roundness</th>\n",
       "      <th>ShapeFactor2</th>\n",
       "      <th>ShapeFactor4</th>\n",
       "      <th>y</th>\n",
       "    </tr>\n",
       "  </thead>\n",
       "  <tbody>\n",
       "    <tr>\n",
       "      <th>7625</th>\n",
       "      <td>10.709070</td>\n",
       "      <td>1.669518</td>\n",
       "      <td>0.800768</td>\n",
       "      <td>0.705838</td>\n",
       "      <td>-0.011661</td>\n",
       "      <td>0.871941</td>\n",
       "      <td>0.001514</td>\n",
       "      <td>-0.004925</td>\n",
       "      <td>1</td>\n",
       "    </tr>\n",
       "    <tr>\n",
       "      <th>6720</th>\n",
       "      <td>10.743567</td>\n",
       "      <td>1.613674</td>\n",
       "      <td>0.784836</td>\n",
       "      <td>0.746552</td>\n",
       "      <td>-0.015570</td>\n",
       "      <td>0.860215</td>\n",
       "      <td>0.001563</td>\n",
       "      <td>-0.006362</td>\n",
       "      <td>1</td>\n",
       "    </tr>\n",
       "    <tr>\n",
       "      <th>8811</th>\n",
       "      <td>10.513362</td>\n",
       "      <td>1.523369</td>\n",
       "      <td>0.754379</td>\n",
       "      <td>0.793600</td>\n",
       "      <td>-0.012824</td>\n",
       "      <td>0.898873</td>\n",
       "      <td>0.001909</td>\n",
       "      <td>-0.007067</td>\n",
       "      <td>1</td>\n",
       "    </tr>\n",
       "    <tr>\n",
       "      <th>178</th>\n",
       "      <td>10.764562</td>\n",
       "      <td>1.562400</td>\n",
       "      <td>0.768341</td>\n",
       "      <td>0.806415</td>\n",
       "      <td>-0.012080</td>\n",
       "      <td>0.868730</td>\n",
       "      <td>0.001632</td>\n",
       "      <td>-0.002786</td>\n",
       "      <td>1</td>\n",
       "    </tr>\n",
       "    <tr>\n",
       "      <th>7612</th>\n",
       "      <td>10.523096</td>\n",
       "      <td>1.515801</td>\n",
       "      <td>0.751514</td>\n",
       "      <td>0.751608</td>\n",
       "      <td>-0.013205</td>\n",
       "      <td>0.899573</td>\n",
       "      <td>0.001929</td>\n",
       "      <td>-0.002024</td>\n",
       "      <td>1</td>\n",
       "    </tr>\n",
       "  </tbody>\n",
       "</table>\n",
       "</div>"
      ],
      "text/plain": [
       "           Area  AspectRation  Eccentricity    Extent  Solidity  roundness  \\\n",
       "7625  10.709070      1.669518      0.800768  0.705838 -0.011661   0.871941   \n",
       "6720  10.743567      1.613674      0.784836  0.746552 -0.015570   0.860215   \n",
       "8811  10.513362      1.523369      0.754379  0.793600 -0.012824   0.898873   \n",
       "178   10.764562      1.562400      0.768341  0.806415 -0.012080   0.868730   \n",
       "7612  10.523096      1.515801      0.751514  0.751608 -0.013205   0.899573   \n",
       "\n",
       "      ShapeFactor2  ShapeFactor4  y  \n",
       "7625      0.001514     -0.004925  1  \n",
       "6720      0.001563     -0.006362  1  \n",
       "8811      0.001909     -0.007067  1  \n",
       "178       0.001632     -0.002786  1  \n",
       "7612      0.001929     -0.002024  1  "
      ]
     },
     "execution_count": 37,
     "metadata": {},
     "output_type": "execute_result"
    }
   ],
   "source": [
    "data_dropped.head()\n",
    "\n"
   ]
  },
  {
   "cell_type": "code",
   "execution_count": 38,
   "id": "dc1be1fa",
   "metadata": {},
   "outputs": [
    {
     "name": "stdout",
     "output_type": "stream",
     "text": [
      "<class 'pandas.core.frame.DataFrame'>\n",
      "Int64Index: 19859 entries, 7625 to 10833\n",
      "Data columns (total 9 columns):\n",
      " #   Column        Non-Null Count  Dtype  \n",
      "---  ------        --------------  -----  \n",
      " 0   Area          19859 non-null  float64\n",
      " 1   AspectRation  19859 non-null  float64\n",
      " 2   Eccentricity  19859 non-null  float64\n",
      " 3   Extent        19859 non-null  float64\n",
      " 4   Solidity      19859 non-null  float64\n",
      " 5   roundness     19859 non-null  float64\n",
      " 6   ShapeFactor2  19859 non-null  float64\n",
      " 7   ShapeFactor4  19859 non-null  float64\n",
      " 8   y             19859 non-null  int64  \n",
      "dtypes: float64(8), int64(1)\n",
      "memory usage: 1.5 MB\n"
     ]
    }
   ],
   "source": [
    "data_dropped.info()\n",
    "\n"
   ]
  },
  {
   "cell_type": "markdown",
   "id": "d9386a3b",
   "metadata": {},
   "source": [
    "### Split Data"
   ]
  },
  {
   "cell_type": "code",
   "execution_count": 39,
   "id": "242a6008",
   "metadata": {},
   "outputs": [],
   "source": [
    "train_data, val_data = train_test_split(data_dropped, test_size=0.2, random_state=42, shuffle=True, stratify=data_dropped.y) \n",
    "\n",
    "x_train = train_data.drop(columns=['y'])\n",
    "y_train = train_data['y']\n",
    "\n",
    "x_val = val_data.drop(columns=['y'])\n",
    "y_val = val_data['y']"
   ]
  },
  {
   "cell_type": "code",
   "execution_count": 40,
   "id": "6d0ec1fd",
   "metadata": {},
   "outputs": [
    {
     "data": {
      "text/plain": [
       "(15887, 3972)"
      ]
     },
     "execution_count": 40,
     "metadata": {},
     "output_type": "execute_result"
    }
   ],
   "source": [
    "x_train.shape[0], x_val.shape[0]\n"
   ]
  },
  {
   "cell_type": "code",
   "execution_count": 41,
   "id": "56f1cf0a",
   "metadata": {},
   "outputs": [
    {
     "data": {
      "text/plain": [
       "(15887, 3972)"
      ]
     },
     "execution_count": 41,
     "metadata": {},
     "output_type": "execute_result"
    }
   ],
   "source": [
    "y_train.shape[0], y_val.shape[0]\n",
    "\n"
   ]
  },
  {
   "cell_type": "markdown",
   "id": "c4c2ce40",
   "metadata": {},
   "source": [
    "### Normalize"
   ]
  },
  {
   "cell_type": "code",
   "execution_count": 42,
   "id": "5667be6b",
   "metadata": {},
   "outputs": [],
   "source": [
    "### Normalize Tained Data\n",
    "x_train_norm = normalize(x_train)\n",
    "\n",
    "### Normalize Validation Data\n",
    "x_val_norm = normalize(x_val)\n",
    "\n"
   ]
  },
  {
   "cell_type": "code",
   "execution_count": 43,
   "id": "691084c7",
   "metadata": {},
   "outputs": [],
   "source": [
    "data_test_norm = normalize(data_test)\n"
   ]
  },
  {
   "cell_type": "code",
   "execution_count": 44,
   "id": "7f774c0a",
   "metadata": {},
   "outputs": [
    {
     "data": {
      "text/plain": [
       "array([[9.99999999e-01, 3.42020987e-05, 1.49481691e-05, ...,\n",
       "        1.37660226e-05, 1.71521680e-08, 1.66997253e-05],\n",
       "       [9.99999996e-01, 5.00820398e-05, 2.50240776e-05, ...,\n",
       "        3.16249475e-05, 8.21994079e-08, 3.46849687e-05],\n",
       "       [9.99999999e-01, 2.49502404e-05, 1.24403026e-05, ...,\n",
       "        1.51409154e-05, 3.39422569e-08, 1.82088846e-05],\n",
       "       ...,\n",
       "       [9.99999999e-01, 3.34405701e-05, 1.42522877e-05, ...,\n",
       "        1.23584254e-05, 1.46991876e-08, 1.56428267e-05],\n",
       "       [9.99999997e-01, 4.37303869e-05, 2.17377000e-05, ...,\n",
       "        2.57303476e-05, 5.97240897e-08, 2.91273866e-05],\n",
       "       [9.99999999e-01, 3.11928656e-05, 1.54200293e-05, ...,\n",
       "        1.83030367e-05, 3.34521921e-08, 2.02764918e-05]])"
      ]
     },
     "execution_count": 44,
     "metadata": {},
     "output_type": "execute_result"
    }
   ],
   "source": [
    "data_test_norm"
   ]
  },
  {
   "cell_type": "markdown",
   "id": "1cb38343",
   "metadata": {},
   "source": [
    "### Feature Engineering"
   ]
  },
  {
   "cell_type": "markdown",
   "id": "c52338c7",
   "metadata": {},
   "source": [
    "### Fix Imbalance Classes - Using Weights"
   ]
  },
  {
   "cell_type": "code",
   "execution_count": 45,
   "id": "028fb179",
   "metadata": {},
   "outputs": [
    {
     "data": {
      "text/plain": [
       "<AxesSubplot:>"
      ]
     },
     "execution_count": 45,
     "metadata": {},
     "output_type": "execute_result"
    },
    {
     "data": {
      "image/png": "[encoded data removed]",
      "text/plain": [
       "<Figure size 432x288 with 1 Axes>"
      ]
     },
     "metadata": {
      "needs_background": "light"
     },
     "output_type": "display_data"
    }
   ],
   "source": [
    "y_train.hist(bins=int(np.sqrt(y_train.shape[0])))\n",
    "\n"
   ]
  },
  {
   "cell_type": "code",
   "execution_count": 46,
   "id": "d2679861",
   "metadata": {},
   "outputs": [],
   "source": [
    "class_weights = class_weight.compute_class_weight(\n",
    "                                        class_weight = \"balanced\",\n",
    "                                        classes = np.unique(y_train),\n",
    "                                        y = y_train                                                    \n",
    "                                    )\n"
   ]
  },
  {
   "cell_type": "code",
   "execution_count": 47,
   "id": "f3762de3",
   "metadata": {},
   "outputs": [],
   "source": [
    "weights = np.ones(y_train.shape[0], dtype = 'float')\n",
    "for i, val in enumerate(y_train):\n",
    "    weights[i] = class_weights[val-1]\n",
    "    "
   ]
  },
  {
   "cell_type": "code",
   "execution_count": 48,
   "id": "82264438",
   "metadata": {},
   "outputs": [
    {
     "data": {
      "text/plain": [
       "array([0.9998112 , 0.9998112 , 0.9998112 , 1.00025184, 1.00025184,\n",
       "       0.9998112 , 1.00025184])"
      ]
     },
     "execution_count": 48,
     "metadata": {},
     "output_type": "execute_result"
    }
   ],
   "source": [
    "class_weights\n"
   ]
  },
  {
   "cell_type": "code",
   "execution_count": 49,
   "id": "5e46d166",
   "metadata": {},
   "outputs": [
    {
     "data": {
      "text/plain": [
       "15887"
      ]
     },
     "execution_count": 49,
     "metadata": {},
     "output_type": "execute_result"
    }
   ],
   "source": [
    "len(weights)\n"
   ]
  },
  {
   "cell_type": "code",
   "execution_count": 50,
   "id": "3402efee",
   "metadata": {},
   "outputs": [
    {
     "data": {
      "text/plain": [
       "{0: 0.9998112020138452,\n",
       " 1: 0.9998112020138452,\n",
       " 2: 0.9998112020138452,\n",
       " 3: 1.0002518415916388,\n",
       " 4: 1.0002518415916388,\n",
       " 5: 0.9998112020138452,\n",
       " 6: 1.0002518415916388}"
      ]
     },
     "execution_count": 50,
     "metadata": {},
     "output_type": "execute_result"
    }
   ],
   "source": [
    "class_weights = dict(zip(np.unique(y_train), class_weights))\n",
    "class_weights\n"
   ]
  },
  {
   "cell_type": "code",
   "execution_count": 51,
   "id": "7e906890",
   "metadata": {},
   "outputs": [
    {
     "data": {
      "text/plain": [
       "2    2270\n",
       "1    2270\n",
       "5    2270\n",
       "0    2270\n",
       "4    2269\n",
       "6    2269\n",
       "3    2269\n",
       "Name: y, dtype: int64"
      ]
     },
     "execution_count": 51,
     "metadata": {},
     "output_type": "execute_result"
    }
   ],
   "source": [
    "y_train.value_counts()\n"
   ]
  },
  {
   "cell_type": "markdown",
   "id": "3db79d62",
   "metadata": {},
   "source": [
    "### Model Trainning"
   ]
  },
  {
   "cell_type": "code",
   "execution_count": 52,
   "id": "0163a542",
   "metadata": {},
   "outputs": [],
   "source": [
    "exgb_classifier = XGBClassifier()\n"
   ]
  },
  {
   "cell_type": "code",
   "execution_count": 53,
   "id": "1dd16406",
   "metadata": {},
   "outputs": [],
   "source": [
    "# ## Hyper Parameter Optimization\n",
    "# n_estimators = [100, 500, 900]\n",
    "# max_depth = [5, 10, 20]\n",
    "# booster=['gbtree','dart']\n",
    "# learning_rate=[0.05,0.15,0.25]\n",
    "# base_score=[0.25,0.5,0.75]\n",
    "\n",
    "\n",
    "# # Define the grid of hyperparameters to search\n",
    "# hyperparameter_grid = {\n",
    "#     'n_estimators': n_estimators,\n",
    "#     'max_depth':max_depth,\n",
    "#     'learning_rate':learning_rate,\n",
    "#     'booster':booster,\n",
    "#     'base_score':base_score\n",
    "#     }"
   ]
  },
  {
   "cell_type": "code",
   "execution_count": 54,
   "id": "40249cbf",
   "metadata": {},
   "outputs": [],
   "source": [
    "# random_search_cv = RandomizedSearchCV(\n",
    "#                         estimator=exgb_classifier,\n",
    "#                         param_distributions=hyperparameter_grid,\n",
    "#                         scoring = 'f1_micro',\n",
    "#                         random_state=0,\n",
    "#                         )"
   ]
  },
  {
   "cell_type": "code",
   "execution_count": 55,
   "id": "7773ceb3",
   "metadata": {},
   "outputs": [],
   "source": [
    "# random_search_cv.fit(x_train_norm,\n",
    "#                      y_train,\n",
    "#                      sample_weight = weights)"
   ]
  },
  {
   "cell_type": "code",
   "execution_count": 56,
   "id": "b54eccf7",
   "metadata": {},
   "outputs": [],
   "source": [
    "# random_search_cv.best_estimator_"
   ]
  },
  {
   "cell_type": "code",
   "execution_count": 57,
   "id": "37dd2ef3",
   "metadata": {},
   "outputs": [],
   "source": [
    "# exgb_classifier =XGBClassifier(base_score=0.75, booster='gbtree', colsample_bylevel=1,\n",
    "#               colsample_bynode=1, colsample_bytree=1, enable_categorical=False,\n",
    "#               gamma=0, gpu_id=-1, importance_type=None,\n",
    "#               interaction_constraints='', learning_rate=0.5, max_delta_step=0.1,\n",
    "#               max_depth=6, min_child_weight=1, missing=np.nan,\n",
    "#               monotone_constraints='()', n_estimators=400, n_jobs=8,\n",
    "#               num_parallel_tree=4, objective='multi:softprob', predictor='auto',\n",
    "#               random_state=0, reg_alpha=0, reg_lambda=1, scale_pos_weight=None,\n",
    "#               subsample=1, tree_method='exact', validate_parameters=1,\n",
    "#               verbosity=None)\n"
   ]
  },
  {
   "cell_type": "code",
   "execution_count": 58,
   "id": "8f055443",
   "metadata": {},
   "outputs": [
    {
     "name": "stderr",
     "output_type": "stream",
     "text": [
      "/Users/omarmarie/miniforge3/lib/python3.9/site-packages/xgboost/sklearn.py:1224: UserWarning: The use of label encoder in XGBClassifier is deprecated and will be removed in a future release. To remove this warning, do the following: 1) Pass option use_label_encoder=False when constructing XGBClassifier object; and 2) Encode your labels (y) as integers starting with 0, i.e. 0, 1, 2, ..., [num_class - 1].\n",
      "  warnings.warn(label_encoder_deprecation_msg, UserWarning)\n"
     ]
    },
    {
     "name": "stdout",
     "output_type": "stream",
     "text": [
      "[22:28:19] WARNING: /Users/runner/miniforge3/conda-bld/xgboost-split_1645117899018/work/src/learner.cc:1115: Starting in XGBoost 1.3.0, the default evaluation metric used with the objective 'multi:softprob' was changed from 'merror' to 'mlogloss'. Explicitly set eval_metric if you'd like to restore the old behavior.\n"
     ]
    },
    {
     "data": {
      "text/plain": [
       "XGBClassifier(base_score=0.5, booster='gbtree', colsample_bylevel=1,\n",
       "              colsample_bynode=1, colsample_bytree=1, enable_categorical=False,\n",
       "              gamma=0, gpu_id=-1, importance_type=None,\n",
       "              interaction_constraints='', learning_rate=0.300000012,\n",
       "              max_delta_step=0, max_depth=6, min_child_weight=1, missing=nan,\n",
       "              monotone_constraints='()', n_estimators=100, n_jobs=8,\n",
       "              num_parallel_tree=1, objective='multi:softprob', predictor='auto',\n",
       "              random_state=0, reg_alpha=0, reg_lambda=1, scale_pos_weight=None,\n",
       "              subsample=1, tree_method='exact', validate_parameters=1,\n",
       "              verbosity=None)"
      ]
     },
     "execution_count": 58,
     "metadata": {},
     "output_type": "execute_result"
    }
   ],
   "source": [
    "exgb_classifier.fit(x_train_norm,\n",
    "                     y_train)\n"
   ]
  },
  {
   "cell_type": "code",
   "execution_count": 59,
   "id": "c4297060",
   "metadata": {},
   "outputs": [],
   "source": [
    "y_pred=exgb_classifier.predict(x_val_norm)\n"
   ]
  },
  {
   "cell_type": "code",
   "execution_count": 60,
   "id": "5fa30df8",
   "metadata": {},
   "outputs": [
    {
     "name": "stdout",
     "output_type": "stream",
     "text": [
      "              precision    recall  f1-score   support\n",
      "\n",
      "           0       0.96      0.91      0.94       567\n",
      "           1       0.91      0.96      0.93       567\n",
      "           2       0.98      0.99      0.98       567\n",
      "           3       0.99      0.99      0.99       568\n",
      "           4       0.99      0.99      0.99       568\n",
      "           5       0.99      0.99      0.99       567\n",
      "           6       1.00      1.00      1.00       568\n",
      "\n",
      "    accuracy                           0.98      3972\n",
      "   macro avg       0.98      0.98      0.98      3972\n",
      "weighted avg       0.98      0.98      0.98      3972\n",
      "\n"
     ]
    }
   ],
   "source": [
    "print(classification_report(\n",
    "    y_val,\n",
    "    y_pred,\n",
    "    output_dict=False\n",
    "))\n"
   ]
  },
  {
   "cell_type": "code",
   "execution_count": 61,
   "id": "0237547e",
   "metadata": {},
   "outputs": [
    {
     "data": {
      "text/plain": [
       "0.9750755287009063"
      ]
     },
     "execution_count": 61,
     "metadata": {},
     "output_type": "execute_result"
    }
   ],
   "source": [
    "f1_score(y_val, y_pred, average='micro')\n",
    "\n"
   ]
  },
  {
   "cell_type": "markdown",
   "id": "d1c043de",
   "metadata": {},
   "source": [
    "#### Random Forest Classifier"
   ]
  },
  {
   "cell_type": "code",
   "execution_count": 62,
   "id": "b876c039",
   "metadata": {},
   "outputs": [],
   "source": [
    "clf = RandomForestClassifier(n_estimators=500,\n",
    "                             criterion='gini',\n",
    "                             max_depth=None,\n",
    "                             min_samples_split=3,\n",
    "                             min_samples_leaf=1,\n",
    "                             min_weight_fraction_leaf=0.0,\n",
    "                             max_features='sqrt',\n",
    "                             max_leaf_nodes=None,\n",
    "                             min_impurity_decrease=0.0,\n",
    "                             bootstrap=True,\n",
    "                             oob_score=False,\n",
    "                             n_jobs=4,\n",
    "                             random_state=None\n",
    "                             , verbose=0,\n",
    "                             warm_start=False,\n",
    "                             class_weight=None,\n",
    "                             ccp_alpha=0.0,\n",
    "                             max_samples=None)"
   ]
  },
  {
   "cell_type": "code",
   "execution_count": 63,
   "id": "fe501e12",
   "metadata": {},
   "outputs": [
    {
     "data": {
      "text/plain": [
       "RandomForestClassifier(max_features='sqrt', min_samples_split=3,\n",
       "                       n_estimators=500, n_jobs=4)"
      ]
     },
     "execution_count": 63,
     "metadata": {},
     "output_type": "execute_result"
    }
   ],
   "source": [
    "clf.fit(x_train_norm, y_train)\n",
    "\n"
   ]
  },
  {
   "cell_type": "code",
   "execution_count": 64,
   "id": "0ddb5395",
   "metadata": {},
   "outputs": [],
   "source": [
    "ypred_rf = clf.predict(x_val_norm)\n",
    "\n"
   ]
  },
  {
   "cell_type": "code",
   "execution_count": 65,
   "id": "85bd440b",
   "metadata": {},
   "outputs": [
    {
     "data": {
      "text/plain": [
       "0.9748237663645518"
      ]
     },
     "execution_count": 65,
     "metadata": {},
     "output_type": "execute_result"
    }
   ],
   "source": [
    "f1_score(y_val, ypred_rf, average='micro')\n"
   ]
  },
  {
   "cell_type": "code",
   "execution_count": 66,
   "id": "5c9df467",
   "metadata": {},
   "outputs": [
    {
     "name": "stderr",
     "output_type": "stream",
     "text": [
      "/Users/omarmarie/miniforge3/lib/python3.9/site-packages/sklearn/utils/deprecation.py:87: FutureWarning: Function plot_confusion_matrix is deprecated; Function `plot_confusion_matrix` is deprecated in 1.0 and will be removed in 1.2. Use one of the class methods: ConfusionMatrixDisplay.from_predictions or ConfusionMatrixDisplay.from_estimator.\n",
      "  warnings.warn(msg, category=FutureWarning)\n"
     ]
    },
    {
     "data": {
      "image/png": "[encoded data removed]",
      "text/plain": [
       "<Figure size 432x288 with 2 Axes>"
      ]
     },
     "metadata": {
      "needs_background": "light"
     },
     "output_type": "display_data"
    }
   ],
   "source": [
    "plot_confusion_matrix(clf,x_val_norm,y_val);\n",
    "\n"
   ]
  },
  {
   "cell_type": "code",
   "execution_count": 67,
   "id": "58a7fde5",
   "metadata": {},
   "outputs": [
    {
     "name": "stdout",
     "output_type": "stream",
     "text": [
      "              precision    recall  f1-score   support\n",
      "\n",
      "           0       0.96      0.91      0.94       567\n",
      "           1       0.91      0.96      0.93       567\n",
      "           2       0.98      0.99      0.98       567\n",
      "           3       0.99      0.99      0.99       568\n",
      "           4       0.99      0.99      0.99       568\n",
      "           5       0.99      0.99      0.99       567\n",
      "           6       1.00      1.00      1.00       568\n",
      "\n",
      "    accuracy                           0.98      3972\n",
      "   macro avg       0.98      0.98      0.98      3972\n",
      "weighted avg       0.98      0.98      0.98      3972\n",
      "\n"
     ]
    }
   ],
   "source": [
    "print(classification_report(\n",
    "    y_val,\n",
    "    y_pred,\n",
    "    output_dict=False\n",
    "))\n",
    "\n"
   ]
  },
  {
   "cell_type": "code",
   "execution_count": null,
   "id": "ab23cd35",
   "metadata": {},
   "outputs": [],
   "source": []
  },
  {
   "cell_type": "code",
   "execution_count": null,
   "id": "9a688fc4",
   "metadata": {},
   "outputs": [],
   "source": []
  }
 ],
 "metadata": {
  "kernelspec": {
   "display_name": "Python 3 (ipykernel)",
   "language": "python",
   "name": "python3"
  },
  "language_info": {
   "codemirror_mode": {
    "name": "ipython",
    "version": 3
   },
   "file_extension": ".py",
   "mimetype": "text/x-python",
   "name": "python",
   "nbconvert_exporter": "python",
   "pygments_lexer": "ipython3",
   "version": "3.9.10"
  }
 },
 "nbformat": 4,
 "nbformat_minor": 5
}
